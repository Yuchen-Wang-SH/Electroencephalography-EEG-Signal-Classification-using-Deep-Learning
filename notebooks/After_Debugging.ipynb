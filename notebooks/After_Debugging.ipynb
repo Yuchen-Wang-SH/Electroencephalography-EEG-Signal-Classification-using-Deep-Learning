{
 "cells": [
  {
   "cell_type": "code",
   "execution_count": 1,
   "metadata": {
    "ExecuteTime": {
     "end_time": "2017-08-02T18:38:33.893054Z",
     "start_time": "2017-08-02T18:38:30.575542Z"
    },
    "collapsed": true
   },
   "outputs": [],
   "source": [
    "# %load import_setup.py\n",
    "import numpy as np\n",
    "import matplotlib.pyplot as plt\n",
    "%matplotlib inline\n",
    "import tensorflow as tf\n",
    "\n",
    "import os\n",
    "os.chdir(\"../\")\n",
    "\n",
    "%load_ext autoreload\n",
    "%autoreload 2\n",
    "\n",
    "RANDOM_STATE = 42  # for reproducibility\n",
    "np.random.seed(RANDOM_STATE)\n",
    "\n",
    "NUM_ELECTRODES = 64\n",
    "FS = 240          # Hz\n",
    "NUM_TRAIN_LETTERS = 85\n",
    "NUM_TEST_LETTERS = 100\n",
    "NUM_ROWCOLS = 12    # col:1-6 row:7-12\n",
    "NUM_REPEAT = 15\n",
    "SECONDS_TO_SLICE = 0.65    # after the simulation 0.65s data is treated as a sample\n",
    "DATA_DIR = \"./data/raw/BCI_Comp_III_Wads_2004/\""
   ]
  },
  {
   "cell_type": "code",
   "execution_count": 2,
   "metadata": {
    "ExecuteTime": {
     "end_time": "2017-08-02T18:39:15.332881Z",
     "start_time": "2017-08-02T18:38:36.737938Z"
    }
   },
   "outputs": [
    {
     "name": "stderr",
     "output_type": "stream",
     "text": [
      "Using TensorFlow backend.\n"
     ]
    }
   ],
   "source": [
    "# %load data_preparation.py\n",
    "from src import pipelines\n",
    "\n",
    "A_train = pipelines.signal_mat_sub_band_norm(DATA_DIR+\"Subject_A_Train\")\n",
    "A_test = pipelines.signal_mat_sub_band_norm(DATA_DIR + \"Subject_A_Test\")\n",
    "\n",
    "A_train['signal'] = A_train['signal'].reshape([-1,NUM_ELECTRODES,A_train['signal'].shape[-1],1])\n",
    "A_test['signal'] = A_test['signal'].reshape([-1,NUM_ELECTRODES,A_test['signal'].shape[-1],1]) \n",
    "\n",
    "from keras import layers, models\n",
    "from keras.utils import to_categorical\n",
    "\n",
    "A_train['label'] = to_categorical(A_train['label']) \n",
    "\n",
    "from sklearn.model_selection import train_test_split\n",
    "X_train, X_val, y_train, y_val = train_test_split(A_train['signal'], A_train['label'], test_size=0.05,\n",
    "                                                  random_state=RANDOM_STATE, stratify=A_train['label'])\n",
    "\n"
   ]
  },
  {
   "cell_type": "code",
   "execution_count": 3,
   "metadata": {
    "ExecuteTime": {
     "end_time": "2017-08-02T18:39:47.973763Z",
     "start_time": "2017-08-02T18:39:47.569396Z"
    },
    "collapsed": true
   },
   "outputs": [],
   "source": [
    "from src.models.PAMI import CNN_1_P300_PAMI_BCIIII\n",
    "model_PAMI = CNN_1_P300_PAMI_BCIIII(Ns = 10,seconds_to_slice=SECONDS_TO_SLICE)\n",
    "model_PAMI.compile(optimizer = 'sgd',loss = 'binary_crossentropy',metrics = ['acc', 'mse'])"
   ]
  },
  {
   "cell_type": "code",
   "execution_count": 4,
   "metadata": {
    "ExecuteTime": {
     "end_time": "2017-08-02T18:39:50.185755Z",
     "start_time": "2017-08-02T18:39:49.965009Z"
    },
    "collapsed": true
   },
   "outputs": [],
   "source": [
    "from keras.callbacks import EarlyStopping\n",
    "earlystopping = EarlyStopping(monitor = \"val_mean_squared_error\",patience = 10)"
   ]
  },
  {
   "cell_type": "code",
   "execution_count": 5,
   "metadata": {
    "ExecuteTime": {
     "end_time": "2017-08-02T18:43:07.025067Z",
     "start_time": "2017-08-02T18:39:51.828146Z"
    },
    "scrolled": true
   },
   "outputs": [
    {
     "name": "stdout",
     "output_type": "stream",
     "text": [
      "Train on 14535 samples, validate on 765 samples\n",
      "Epoch 1/1000\n",
      "14535/14535 [==============================] - 8s - loss: 0.4605 - acc: 0.8273 - mean_squared_error: 0.1433 - val_loss: 0.4316 - val_acc: 0.8405 - val_mean_squared_error: 0.1320\n",
      "Epoch 2/1000\n",
      "14535/14535 [==============================] - 4s - loss: 0.4489 - acc: 0.8290 - mean_squared_error: 0.1393 - val_loss: 0.4244 - val_acc: 0.8405 - val_mean_squared_error: 0.1298\n",
      "Epoch 3/1000\n",
      "14535/14535 [==============================] - 4s - loss: 0.4440 - acc: 0.8290 - mean_squared_error: 0.1378 - val_loss: 0.4170 - val_acc: 0.8405 - val_mean_squared_error: 0.1279\n",
      "Epoch 4/1000\n",
      "14535/14535 [==============================] - 4s - loss: 0.4396 - acc: 0.8290 - mean_squared_error: 0.1366 - val_loss: 0.4113 - val_acc: 0.8405 - val_mean_squared_error: 0.1261\n",
      "Epoch 5/1000\n",
      "14535/14535 [==============================] - 4s - loss: 0.4350 - acc: 0.8290 - mean_squared_error: 0.1352 - val_loss: 0.4053 - val_acc: 0.8405 - val_mean_squared_error: 0.1242\n",
      "Epoch 6/1000\n",
      "14535/14535 [==============================] - 4s - loss: 0.4294 - acc: 0.8290 - mean_squared_error: 0.1336 - val_loss: 0.3988 - val_acc: 0.8405 - val_mean_squared_error: 0.1221\n",
      "Epoch 7/1000\n",
      "14535/14535 [==============================] - 4s - loss: 0.4223 - acc: 0.8291 - mean_squared_error: 0.1314 - val_loss: 0.3918 - val_acc: 0.8405 - val_mean_squared_error: 0.1198\n",
      "Epoch 8/1000\n",
      "14535/14535 [==============================] - 4s - loss: 0.4145 - acc: 0.8289 - mean_squared_error: 0.1290 - val_loss: 0.3840 - val_acc: 0.8418 - val_mean_squared_error: 0.1174\n",
      "Epoch 9/1000\n",
      "14535/14535 [==============================] - 4s - loss: 0.4073 - acc: 0.8294 - mean_squared_error: 0.1269 - val_loss: 0.3786 - val_acc: 0.8458 - val_mean_squared_error: 0.1154\n",
      "Epoch 10/1000\n",
      "14535/14535 [==============================] - 4s - loss: 0.4008 - acc: 0.8305 - mean_squared_error: 0.1247 - val_loss: 0.3776 - val_acc: 0.8444 - val_mean_squared_error: 0.1154\n",
      "Epoch 11/1000\n",
      "14535/14535 [==============================] - 4s - loss: 0.3960 - acc: 0.8323 - mean_squared_error: 0.1231 - val_loss: 0.3755 - val_acc: 0.8471 - val_mean_squared_error: 0.1148\n",
      "Epoch 12/1000\n",
      "14535/14535 [==============================] - 4s - loss: 0.3924 - acc: 0.8338 - mean_squared_error: 0.1220 - val_loss: 0.3703 - val_acc: 0.8503 - val_mean_squared_error: 0.1130\n",
      "Epoch 13/1000\n",
      "14535/14535 [==============================] - 4s - loss: 0.3891 - acc: 0.8356 - mean_squared_error: 0.1209 - val_loss: 0.3698 - val_acc: 0.8477 - val_mean_squared_error: 0.1130\n",
      "Epoch 14/1000\n",
      "14535/14535 [==============================] - 4s - loss: 0.3864 - acc: 0.8356 - mean_squared_error: 0.1200 - val_loss: 0.3666 - val_acc: 0.8516 - val_mean_squared_error: 0.1117\n",
      "Epoch 15/1000\n",
      "14535/14535 [==============================] - 5s - loss: 0.3832 - acc: 0.8379 - mean_squared_error: 0.1189 - val_loss: 0.3660 - val_acc: 0.8510 - val_mean_squared_error: 0.1115\n",
      "Epoch 16/1000\n",
      "14535/14535 [==============================] - 4s - loss: 0.3811 - acc: 0.8390 - mean_squared_error: 0.1182 - val_loss: 0.3612 - val_acc: 0.8529 - val_mean_squared_error: 0.1098\n",
      "Epoch 17/1000\n",
      "14535/14535 [==============================] - 4s - loss: 0.3781 - acc: 0.8402 - mean_squared_error: 0.1172 - val_loss: 0.3606 - val_acc: 0.8556 - val_mean_squared_error: 0.1095\n",
      "Epoch 18/1000\n",
      "14535/14535 [==============================] - 4s - loss: 0.3756 - acc: 0.8404 - mean_squared_error: 0.1164 - val_loss: 0.3589 - val_acc: 0.8595 - val_mean_squared_error: 0.1088\n",
      "Epoch 19/1000\n",
      "14535/14535 [==============================] - 4s - loss: 0.3729 - acc: 0.8420 - mean_squared_error: 0.1154 - val_loss: 0.3549 - val_acc: 0.8595 - val_mean_squared_error: 0.1073\n",
      "Epoch 20/1000\n",
      "14535/14535 [==============================] - 4s - loss: 0.3704 - acc: 0.8429 - mean_squared_error: 0.1146 - val_loss: 0.3528 - val_acc: 0.8601 - val_mean_squared_error: 0.1066\n",
      "Epoch 21/1000\n",
      "14535/14535 [==============================] - 4s - loss: 0.3681 - acc: 0.8438 - mean_squared_error: 0.1139 - val_loss: 0.3514 - val_acc: 0.8601 - val_mean_squared_error: 0.1060\n",
      "Epoch 22/1000\n",
      "14535/14535 [==============================] - 4s - loss: 0.3660 - acc: 0.8455 - mean_squared_error: 0.1132 - val_loss: 0.3497 - val_acc: 0.8542 - val_mean_squared_error: 0.1054\n",
      "Epoch 23/1000\n",
      "14535/14535 [==============================] - 4s - loss: 0.3635 - acc: 0.8472 - mean_squared_error: 0.1124 - val_loss: 0.3492 - val_acc: 0.8582 - val_mean_squared_error: 0.1053\n",
      "Epoch 24/1000\n",
      "14535/14535 [==============================] - 4s - loss: 0.3618 - acc: 0.8469 - mean_squared_error: 0.1118 - val_loss: 0.3484 - val_acc: 0.8562 - val_mean_squared_error: 0.1048\n",
      "Epoch 25/1000\n",
      "14535/14535 [==============================] - 4s - loss: 0.3598 - acc: 0.8492 - mean_squared_error: 0.1110 - val_loss: 0.3451 - val_acc: 0.8575 - val_mean_squared_error: 0.1038\n",
      "Epoch 26/1000\n",
      "14535/14535 [==============================] - 4s - loss: 0.3579 - acc: 0.8486 - mean_squared_error: 0.1104 - val_loss: 0.3447 - val_acc: 0.8582 - val_mean_squared_error: 0.1036\n",
      "Epoch 27/1000\n",
      "14535/14535 [==============================] - 4s - loss: 0.3564 - acc: 0.8489 - mean_squared_error: 0.1100 - val_loss: 0.3430 - val_acc: 0.8569 - val_mean_squared_error: 0.1031\n",
      "Epoch 28/1000\n",
      "14535/14535 [==============================] - 4s - loss: 0.3549 - acc: 0.8502 - mean_squared_error: 0.1094 - val_loss: 0.3451 - val_acc: 0.8569 - val_mean_squared_error: 0.1036\n",
      "Epoch 29/1000\n",
      "14535/14535 [==============================] - 4s - loss: 0.3535 - acc: 0.8497 - mean_squared_error: 0.1091 - val_loss: 0.3438 - val_acc: 0.8627 - val_mean_squared_error: 0.1034\n",
      "Epoch 30/1000\n",
      "14535/14535 [==============================] - 4s - loss: 0.3521 - acc: 0.8517 - mean_squared_error: 0.1085 - val_loss: 0.3401 - val_acc: 0.8614 - val_mean_squared_error: 0.1019\n",
      "Epoch 31/1000\n",
      "14535/14535 [==============================] - 4s - loss: 0.3503 - acc: 0.8517 - mean_squared_error: 0.1080 - val_loss: 0.3413 - val_acc: 0.8575 - val_mean_squared_error: 0.1025\n",
      "Epoch 32/1000\n",
      "14535/14535 [==============================] - 4s - loss: 0.3492 - acc: 0.8530 - mean_squared_error: 0.1076 - val_loss: 0.3420 - val_acc: 0.8627 - val_mean_squared_error: 0.1026\n",
      "Epoch 33/1000\n",
      "14535/14535 [==============================] - 4s - loss: 0.3479 - acc: 0.8526 - mean_squared_error: 0.1072 - val_loss: 0.3382 - val_acc: 0.8608 - val_mean_squared_error: 0.1014\n",
      "Epoch 34/1000\n",
      "14535/14535 [==============================] - 4s - loss: 0.3470 - acc: 0.8544 - mean_squared_error: 0.1069 - val_loss: 0.3433 - val_acc: 0.8575 - val_mean_squared_error: 0.1036\n",
      "Epoch 35/1000\n",
      "14535/14535 [==============================] - 4s - loss: 0.3457 - acc: 0.8534 - mean_squared_error: 0.1066 - val_loss: 0.3419 - val_acc: 0.8529 - val_mean_squared_error: 0.1030\n",
      "Epoch 36/1000\n",
      "14535/14535 [==============================] - 4s - loss: 0.3450 - acc: 0.8546 - mean_squared_error: 0.1063 - val_loss: 0.3385 - val_acc: 0.8595 - val_mean_squared_error: 0.1018\n",
      "Epoch 37/1000\n",
      "14535/14535 [==============================] - 4s - loss: 0.3432 - acc: 0.8553 - mean_squared_error: 0.1056 - val_loss: 0.3397 - val_acc: 0.8588 - val_mean_squared_error: 0.1027\n",
      "Epoch 38/1000\n",
      "14535/14535 [==============================] - 4s - loss: 0.3427 - acc: 0.8550 - mean_squared_error: 0.1055 - val_loss: 0.3462 - val_acc: 0.8569 - val_mean_squared_error: 0.1051\n",
      "Epoch 39/1000\n",
      "14535/14535 [==============================] - 4s - loss: 0.3417 - acc: 0.8568 - mean_squared_error: 0.1052 - val_loss: 0.3415 - val_acc: 0.8569 - val_mean_squared_error: 0.1033\n",
      "Epoch 40/1000\n",
      "14535/14535 [==============================] - 4s - loss: 0.3403 - acc: 0.8569 - mean_squared_error: 0.1048 - val_loss: 0.3480 - val_acc: 0.8529 - val_mean_squared_error: 0.1054\n",
      "Epoch 41/1000\n",
      "14535/14535 [==============================] - 4s - loss: 0.3397 - acc: 0.8580 - mean_squared_error: 0.1045 - val_loss: 0.3451 - val_acc: 0.8569 - val_mean_squared_error: 0.1047\n",
      "Epoch 42/1000\n",
      "14535/14535 [==============================] - 4s - loss: 0.3388 - acc: 0.8578 - mean_squared_error: 0.1043 - val_loss: 0.3546 - val_acc: 0.8490 - val_mean_squared_error: 0.1084\n",
      "Epoch 43/1000\n",
      "14535/14535 [==============================] - 4s - loss: 0.3377 - acc: 0.8583 - mean_squared_error: 0.1039 - val_loss: 0.3403 - val_acc: 0.8529 - val_mean_squared_error: 0.1032\n",
      "Epoch 44/1000\n",
      "14535/14535 [==============================] - 4s - loss: 0.3368 - acc: 0.8578 - mean_squared_error: 0.1036 - val_loss: 0.3364 - val_acc: 0.8641 - val_mean_squared_error: 0.1016\n"
     ]
    },
    {
     "data": {
      "text/plain": [
       "<keras.callbacks.History at 0x16a7212cf98>"
      ]
     },
     "execution_count": 5,
     "metadata": {},
     "output_type": "execute_result"
    }
   ],
   "source": [
    "model_PAMI.fit(x = X_train, y = y_train, batch_size=32, epochs = 1000, callbacks = [earlystopping], \n",
    "              validation_data = [X_val,y_val])"
   ]
  },
  {
   "cell_type": "code",
   "execution_count": 7,
   "metadata": {
    "ExecuteTime": {
     "end_time": "2017-08-02T19:10:09.424635Z",
     "start_time": "2017-08-02T19:10:06.983876Z"
    }
   },
   "outputs": [
    {
     "data": {
      "text/plain": [
       "0.92"
      ]
     },
     "execution_count": 7,
     "metadata": {},
     "output_type": "execute_result"
    }
   ],
   "source": [
    "from src.pipelines import test_pipeline,PARADIGM,accuracy\n",
    "predictions = test_pipeline(A_test['signal'],A_test['code'],model_PAMI,15,PARADIGM)\n",
    "\n",
    "from src.pipelines import accuracy\n",
    "accuracy(predictions,'WQXPLZCOMRKO97YFZDEZ1DPI9NNVGRQDJCUVRMEUOOOJD2UFYPOO6J7LDGYEGOA5VHNEHBTXOO1TDOILUEE5BFAEEXAW_K4R3MRU')"
   ]
  },
  {
   "cell_type": "code",
   "execution_count": 8,
   "metadata": {
    "ExecuteTime": {
     "end_time": "2017-08-02T19:21:58.136522Z",
     "start_time": "2017-08-02T19:19:36.885940Z"
    },
    "scrolled": true
   },
   "outputs": [
    {
     "name": "stdout",
     "output_type": "stream",
     "text": [
      "Train on 14535 samples, validate on 765 samples\n",
      "Epoch 1/1000\n",
      "14535/14535 [==============================] - 6s - loss: 0.4629 - acc: 0.8258 - mean_squared_error: 0.1443 - val_loss: 0.4307 - val_acc: 0.8405 - val_mean_squared_error: 0.1318\n",
      "Epoch 2/1000\n",
      "14535/14535 [==============================] - 4s - loss: 0.4482 - acc: 0.8290 - mean_squared_error: 0.1391 - val_loss: 0.4233 - val_acc: 0.8405 - val_mean_squared_error: 0.1294\n",
      "Epoch 3/1000\n",
      "14535/14535 [==============================] - 4s - loss: 0.4418 - acc: 0.8290 - mean_squared_error: 0.1372 - val_loss: 0.4151 - val_acc: 0.8405 - val_mean_squared_error: 0.1269\n",
      "Epoch 4/1000\n",
      "14535/14535 [==============================] - 5s - loss: 0.4349 - acc: 0.8290 - mean_squared_error: 0.1351 - val_loss: 0.4072 - val_acc: 0.8405 - val_mean_squared_error: 0.1246\n",
      "Epoch 5/1000\n",
      "14535/14535 [==============================] - 4s - loss: 0.4269 - acc: 0.8290 - mean_squared_error: 0.1327 - val_loss: 0.3980 - val_acc: 0.8405 - val_mean_squared_error: 0.1216\n",
      "Epoch 6/1000\n",
      "14535/14535 [==============================] - 4s - loss: 0.4182 - acc: 0.8291 - mean_squared_error: 0.1300 - val_loss: 0.3889 - val_acc: 0.8412 - val_mean_squared_error: 0.1191\n",
      "Epoch 7/1000\n",
      "14535/14535 [==============================] - 5s - loss: 0.4104 - acc: 0.8302 - mean_squared_error: 0.1276 - val_loss: 0.3833 - val_acc: 0.8438 - val_mean_squared_error: 0.1172\n",
      "Epoch 8/1000\n",
      "14535/14535 [==============================] - 4s - loss: 0.4037 - acc: 0.8313 - mean_squared_error: 0.1255 - val_loss: 0.3791 - val_acc: 0.8477 - val_mean_squared_error: 0.1157\n",
      "Epoch 9/1000\n",
      "14535/14535 [==============================] - 5s - loss: 0.3983 - acc: 0.8328 - mean_squared_error: 0.1237 - val_loss: 0.3729 - val_acc: 0.8529 - val_mean_squared_error: 0.1139\n",
      "Epoch 10/1000\n",
      "14535/14535 [==============================] - 4s - loss: 0.3940 - acc: 0.8348 - mean_squared_error: 0.1224 - val_loss: 0.3706 - val_acc: 0.8516 - val_mean_squared_error: 0.1132\n",
      "Epoch 11/1000\n",
      "14535/14535 [==============================] - 4s - loss: 0.3905 - acc: 0.8354 - mean_squared_error: 0.1212 - val_loss: 0.3684 - val_acc: 0.8556 - val_mean_squared_error: 0.1122\n",
      "Epoch 12/1000\n",
      "14535/14535 [==============================] - 4s - loss: 0.3874 - acc: 0.8371 - mean_squared_error: 0.1201 - val_loss: 0.3659 - val_acc: 0.8549 - val_mean_squared_error: 0.1115\n",
      "Epoch 13/1000\n",
      "14535/14535 [==============================] - 4s - loss: 0.3843 - acc: 0.8381 - mean_squared_error: 0.1191 - val_loss: 0.3633 - val_acc: 0.8582 - val_mean_squared_error: 0.1107\n",
      "Epoch 14/1000\n",
      "14535/14535 [==============================] - 4s - loss: 0.3817 - acc: 0.8395 - mean_squared_error: 0.1183 - val_loss: 0.3604 - val_acc: 0.8582 - val_mean_squared_error: 0.1094\n",
      "Epoch 15/1000\n",
      "14535/14535 [==============================] - 4s - loss: 0.3786 - acc: 0.8403 - mean_squared_error: 0.1172 - val_loss: 0.3621 - val_acc: 0.8575 - val_mean_squared_error: 0.1101\n",
      "Epoch 16/1000\n",
      "14535/14535 [==============================] - 4s - loss: 0.3760 - acc: 0.8410 - mean_squared_error: 0.1163 - val_loss: 0.3540 - val_acc: 0.8588 - val_mean_squared_error: 0.1074\n",
      "Epoch 17/1000\n",
      "14535/14535 [==============================] - 4s - loss: 0.3731 - acc: 0.8438 - mean_squared_error: 0.1153 - val_loss: 0.3512 - val_acc: 0.8601 - val_mean_squared_error: 0.1063\n",
      "Epoch 18/1000\n",
      "14535/14535 [==============================] - 4s - loss: 0.3707 - acc: 0.8441 - mean_squared_error: 0.1146 - val_loss: 0.3525 - val_acc: 0.8582 - val_mean_squared_error: 0.1068\n",
      "Epoch 19/1000\n",
      "14535/14535 [==============================] - 4s - loss: 0.3680 - acc: 0.8443 - mean_squared_error: 0.1137 - val_loss: 0.3478 - val_acc: 0.8647 - val_mean_squared_error: 0.1050\n",
      "Epoch 20/1000\n",
      "14535/14535 [==============================] - 6s - loss: 0.3657 - acc: 0.8459 - mean_squared_error: 0.1129 - val_loss: 0.3532 - val_acc: 0.8582 - val_mean_squared_error: 0.1071\n",
      "Epoch 21/1000\n",
      "14535/14535 [==============================] - 4s - loss: 0.3638 - acc: 0.8455 - mean_squared_error: 0.1123 - val_loss: 0.3449 - val_acc: 0.8627 - val_mean_squared_error: 0.1041\n",
      "Epoch 22/1000\n",
      "14535/14535 [==============================] - 4s - loss: 0.3613 - acc: 0.8476 - mean_squared_error: 0.1116 - val_loss: 0.3449 - val_acc: 0.8660 - val_mean_squared_error: 0.1040\n",
      "Epoch 23/1000\n",
      "14535/14535 [==============================] - 4s - loss: 0.3600 - acc: 0.8473 - mean_squared_error: 0.1111 - val_loss: 0.3442 - val_acc: 0.8621 - val_mean_squared_error: 0.1038\n",
      "Epoch 24/1000\n",
      "14535/14535 [==============================] - 4s - loss: 0.3580 - acc: 0.8492 - mean_squared_error: 0.1104 - val_loss: 0.3397 - val_acc: 0.8725 - val_mean_squared_error: 0.1022\n",
      "Epoch 25/1000\n",
      "14535/14535 [==============================] - 4s - loss: 0.3564 - acc: 0.8488 - mean_squared_error: 0.1099 - val_loss: 0.3438 - val_acc: 0.8614 - val_mean_squared_error: 0.1037\n",
      "Epoch 26/1000\n",
      "14535/14535 [==============================] - 4s - loss: 0.3548 - acc: 0.8502 - mean_squared_error: 0.1093 - val_loss: 0.3452 - val_acc: 0.8569 - val_mean_squared_error: 0.1044\n",
      "Epoch 27/1000\n",
      "14535/14535 [==============================] - 5s - loss: 0.3532 - acc: 0.8505 - mean_squared_error: 0.1088 - val_loss: 0.3407 - val_acc: 0.8634 - val_mean_squared_error: 0.1026\n",
      "Epoch 28/1000\n",
      "14535/14535 [==============================] - 4s - loss: 0.3518 - acc: 0.8501 - mean_squared_error: 0.1083 - val_loss: 0.3413 - val_acc: 0.8601 - val_mean_squared_error: 0.1028\n"
     ]
    },
    {
     "data": {
      "text/plain": [
       "0.93"
      ]
     },
     "execution_count": 8,
     "metadata": {},
     "output_type": "execute_result"
    }
   ],
   "source": [
    "model_PAMI_2 = CNN_1_P300_PAMI_BCIIII(Ns = 10,seconds_to_slice=SECONDS_TO_SLICE)\n",
    "model_PAMI_2.compile(optimizer = 'sgd',loss = 'binary_crossentropy',metrics = ['acc', 'mse'])\n",
    "\n",
    "earlystopping_2 = EarlyStopping(monitor = \"val_mean_squared_error\",patience = 3)\n",
    "\n",
    "model_PAMI_2.fit(x = X_train, y = y_train, batch_size=32, epochs = 1000, callbacks = [earlystopping_2], \n",
    "              validation_data = [X_val,y_val])\n",
    "\n",
    "predictions = test_pipeline(A_test['signal'],A_test['code'],model_PAMI_2,15,PARADIGM)\n",
    "accuracy(predictions,'WQXPLZCOMRKO97YFZDEZ1DPI9NNVGRQDJCUVRMEUOOOJD2UFYPOO6J7LDGYEGOA5VHNEHBTXOO1TDOILUEE5BFAEEXAW_K4R3MRU')"
   ]
  },
  {
   "cell_type": "code",
   "execution_count": 12,
   "metadata": {
    "ExecuteTime": {
     "end_time": "2017-08-02T19:23:17.958639Z",
     "start_time": "2017-08-02T19:23:17.703459Z"
    }
   },
   "outputs": [
    {
     "data": {
      "text/plain": [
       "{'acc': [0.82583419335925956,\n",
       "  0.82903336774536041,\n",
       "  0.82903336773305814,\n",
       "  0.82903336774125969,\n",
       "  0.82903336774125969,\n",
       "  0.82906776749066646,\n",
       "  0.83020295837633296,\n",
       "  0.83130374957820496,\n",
       "  0.83278293776930423,\n",
       "  0.83477812180783195,\n",
       "  0.83543171657907378,\n",
       "  0.83708290333677327,\n",
       "  0.83814929483844769,\n",
       "  0.83952528383053571,\n",
       "  0.84031647748458327,\n",
       "  0.84103887168902647,\n",
       "  0.84375644998120658,\n",
       "  0.84413484692122465,\n",
       "  0.84434124527003784,\n",
       "  0.8458548331613347,\n",
       "  0.84554523565861872,\n",
       "  0.84764361888385531,\n",
       "  0.84733402136063551,\n",
       "  0.84919160646714831,\n",
       "  0.84884760921912628,\n",
       "  0.85018919848641206,\n",
       "  0.85053319575493791,\n",
       "  0.85005159959540488],\n",
       " 'loss': [0.46286677810839866,\n",
       "  0.4482021279174272,\n",
       "  0.44180694344448068,\n",
       "  0.43489483228695935,\n",
       "  0.426855905699,\n",
       "  0.41820377556983246,\n",
       "  0.41035331958064847,\n",
       "  0.40366161060284045,\n",
       "  0.39829230537765575,\n",
       "  0.39400341278464268,\n",
       "  0.39045997343401256,\n",
       "  0.38742242677333966,\n",
       "  0.38433829045271112,\n",
       "  0.38173253696154269,\n",
       "  0.3786403203363225,\n",
       "  0.37602428554114831,\n",
       "  0.37309799522602316,\n",
       "  0.37074090381811936,\n",
       "  0.36795882238610161,\n",
       "  0.36568645281831874,\n",
       "  0.36375665709371208,\n",
       "  0.36125551021135999,\n",
       "  0.35995543001852043,\n",
       "  0.3579787370313432,\n",
       "  0.35639599492490848,\n",
       "  0.3548200846825591,\n",
       "  0.35322854581016999,\n",
       "  0.35180638258835273],\n",
       " 'mean_squared_error': [0.14434757450878066,\n",
       "  0.1390699402979243,\n",
       "  0.13716850563278918,\n",
       "  0.13511451152353546,\n",
       "  0.13269575087832222,\n",
       "  0.13001389146404738,\n",
       "  0.12761240272811897,\n",
       "  0.12549176674693729,\n",
       "  0.12372693469844653,\n",
       "  0.12235405572017607,\n",
       "  0.12115531953434211,\n",
       "  0.12014761916808668,\n",
       "  0.11911338656207808,\n",
       "  0.1182561702249712,\n",
       "  0.11718602301863652,\n",
       "  0.11634196583662178,\n",
       "  0.11531112286226013,\n",
       "  0.11463915912141638,\n",
       "  0.11370717349523403,\n",
       "  0.11291241527839055,\n",
       "  0.11234715364932357,\n",
       "  0.11155588125337798,\n",
       "  0.11107151073034909,\n",
       "  0.11037072200657455,\n",
       "  0.10989757551064207,\n",
       "  0.1092785663409386,\n",
       "  0.10876204796804363,\n",
       "  0.108325517274975],\n",
       " 'val_acc': [0.84052287441453122,\n",
       "  0.84052287441453122,\n",
       "  0.84052287441453122,\n",
       "  0.84052287441453122,\n",
       "  0.84052287441453122,\n",
       "  0.84117646918577305,\n",
       "  0.84379084827074036,\n",
       "  0.84771241689819132,\n",
       "  0.85294117506812606,\n",
       "  0.85163398552564229,\n",
       "  0.855555554932239,\n",
       "  0.85490196094014281,\n",
       "  0.85816993401720632,\n",
       "  0.85816993323806068,\n",
       "  0.85751633846681885,\n",
       "  0.85882352723015676,\n",
       "  0.86013071677264041,\n",
       "  0.85816993393929175,\n",
       "  0.86470588313208685,\n",
       "  0.85816993464052282,\n",
       "  0.86274509803921573,\n",
       "  0.86601307189542487,\n",
       "  0.8620915032679739,\n",
       "  0.87254901960784315,\n",
       "  0.86143790849673207,\n",
       "  0.85686274509803917,\n",
       "  0.86339869281045756,\n",
       "  0.86013071895424842],\n",
       " 'val_loss': [0.4307138297682494,\n",
       "  0.42330118339825301,\n",
       "  0.41505386922873705,\n",
       "  0.40715505772945926,\n",
       "  0.39801775513131632,\n",
       "  0.38890339819823994,\n",
       "  0.38330304819384431,\n",
       "  0.37914662752665723,\n",
       "  0.3728996567087236,\n",
       "  0.37063894256267671,\n",
       "  0.36839173572515349,\n",
       "  0.36588307956075355,\n",
       "  0.36326098138210822,\n",
       "  0.36041816225628448,\n",
       "  0.36214273745327991,\n",
       "  0.35404856855573219,\n",
       "  0.35117123228272579,\n",
       "  0.35248207301875345,\n",
       "  0.34779184187938966,\n",
       "  0.3532132868088928,\n",
       "  0.34491490893114624,\n",
       "  0.34490515712429498,\n",
       "  0.34415261207842357,\n",
       "  0.33968852951246148,\n",
       "  0.34378401921465507,\n",
       "  0.3451950904785418,\n",
       "  0.34074448350987402,\n",
       "  0.34133345134118026],\n",
       " 'val_mean_squared_error': [0.13175970337359733,\n",
       "  0.12941137671081068,\n",
       "  0.12694270931232987,\n",
       "  0.12458765325593013,\n",
       "  0.12159407736818775,\n",
       "  0.11907684299486135,\n",
       "  0.11719558531162785,\n",
       "  0.11568130548872979,\n",
       "  0.11387845453094034,\n",
       "  0.11319477111101151,\n",
       "  0.1122159703689463,\n",
       "  0.11152777599256022,\n",
       "  0.11071090186440867,\n",
       "  0.10942678307396135,\n",
       "  0.11005774432537603,\n",
       "  0.10737743530592887,\n",
       "  0.10625206879248807,\n",
       "  0.10682798110776477,\n",
       "  0.10496156927612092,\n",
       "  0.10710219714571448,\n",
       "  0.10409707286778619,\n",
       "  0.10396793700413766,\n",
       "  0.10383217358121685,\n",
       "  0.10216055592290717,\n",
       "  0.103652832739883,\n",
       "  0.10436099248579125,\n",
       "  0.10262321124182028,\n",
       "  0.10284939232020596]}"
      ]
     },
     "execution_count": 12,
     "metadata": {},
     "output_type": "execute_result"
    }
   ],
   "source": [
    "model_PAMI_2.history.history"
   ]
  }
 ],
 "metadata": {
  "anaconda-cloud": {},
  "kernelspec": {
   "display_name": "Python [conda root]",
   "language": "python",
   "name": "conda-root-py"
  },
  "language_info": {
   "codemirror_mode": {
    "name": "ipython",
    "version": 3
   },
   "file_extension": ".py",
   "mimetype": "text/x-python",
   "name": "python",
   "nbconvert_exporter": "python",
   "pygments_lexer": "ipython3",
   "version": "3.5.2"
  },
  "toc": {
   "colors": {
    "hover_highlight": "#DAA520",
    "navigate_num": "#000000",
    "navigate_text": "#333333",
    "running_highlight": "#FF0000",
    "selected_highlight": "#FFD700",
    "sidebar_border": "#EEEEEE",
    "wrapper_background": "#FFFFFF"
   },
   "moveMenuLeft": true,
   "nav_menu": {
    "height": "30px",
    "width": "252px"
   },
   "navigate_menu": true,
   "number_sections": true,
   "sideBar": true,
   "threshold": 4,
   "toc_cell": false,
   "toc_section_display": "block",
   "toc_window_display": false,
   "widenNotebook": false
  }
 },
 "nbformat": 4,
 "nbformat_minor": 2
}
