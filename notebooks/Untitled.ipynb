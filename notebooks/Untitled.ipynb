{
 "cells": [
  {
   "cell_type": "markdown",
   "metadata": {},
   "source": [
    "# Try to train a model using CNN_1_P300_PAMI"
   ]
  },
  {
   "cell_type": "code",
   "execution_count": 1,
   "metadata": {
    "collapsed": true
   },
   "outputs": [],
   "source": [
    "import os\n",
    "os.chdir(\"../\")"
   ]
  },
  {
   "cell_type": "code",
   "execution_count": 2,
   "metadata": {
    "collapsed": true
   },
   "outputs": [],
   "source": [
    "DATA_DIR = \"./data/raw/BCI_Comp_III_Wads_2004/\"\n",
    "SECONDS_TO_SLICE = 0.65\n",
    "FS = 240\n",
    "NUM_ELECTRODES = 64\n",
    "RANDOM_STATE = 42"
   ]
  },
  {
   "cell_type": "code",
   "execution_count": 3,
   "metadata": {},
   "outputs": [
    {
     "name": "stderr",
     "output_type": "stream",
     "text": [
      "Using TensorFlow backend.\n"
     ]
    }
   ],
   "source": [
    "from src.data import preprocessing,extract_data\n",
    "from src.models import model\n",
    "import numpy as np\n",
    "import matplotlib.pyplot as plt\n",
    "import tensorflow as tf\n",
    "\n",
    "%matplotlib inline\n",
    "%load_ext autoreload\n",
    "%autoreload 2\n",
    "\n",
    "np.random.seed(RANDOM_STATE)\n"
   ]
  },
  {
   "cell_type": "code",
   "execution_count": 4,
   "metadata": {},
   "outputs": [
    {
     "name": "stdout",
     "output_type": "stream",
     "text": [
      "dict_keys(['targetchar', 'code', 'label', 'signal'])\n",
      "dict_keys(['code', 'signal'])\n",
      "(85, 15, 12, 64, 156)\n",
      "(100, 15, 12, 64, 156)\n",
      "(85, 15, 12)\n",
      "(100, 15, 12)\n",
      "(85, 15, 12)\n",
      "(1,)\n"
     ]
    }
   ],
   "source": [
    "A_train = extract_data.extract_data(DATA_DIR+\"Subject_A_Train.mat\",SECONDS_TO_SLICE)\n",
    "A_test = extract_data.extract_data(DATA_DIR+\"Subject_A_Test.mat\",SECONDS_TO_SLICE)\n",
    "print(A_train.keys())\n",
    "print(A_test.keys())\n",
    "\n",
    "print(A_train['signal'].shape)\n",
    "print(A_test['signal'].shape)\n",
    "print(A_train['code'].shape)\n",
    "print(A_test['code'].shape)\n",
    "print(A_train['label'].shape)\n",
    "print(A_train['targetchar'].shape)"
   ]
  },
  {
   "cell_type": "code",
   "execution_count": 5,
   "metadata": {
    "collapsed": true
   },
   "outputs": [],
   "source": [
    "A_train['signal'] = preprocessing.subsample(A_train['signal'],2)\n",
    "A_test['signal'] = preprocessing.subsample(A_test['signal'],2)\n",
    "\n",
    "A_train['signal'] = preprocessing.butter_bandpass_filter(A_train['signal'],lowcut = 0.1,highcut = 20,\n",
    "                                                         fs = int(FS/2),order = 5,axis = -1)\n",
    "A_test['signal'] = preprocessing.butter_bandpass_filter(A_test['signal'],lowcut = 0.1,highcut = 20,\n",
    "                                                         fs = int(FS/2),order = 5,axis = -1)"
   ]
  },
  {
   "cell_type": "code",
   "execution_count": 6,
   "metadata": {
    "collapsed": true
   },
   "outputs": [],
   "source": [
    "A_train_mean = A_train['signal'].mean(axis = -1,keepdims = True)\n",
    "A_train_std = A_train['signal'].std(axis = -1,keepdims = True)\n",
    "A_test_mean = A_test['signal'].mean(axis = -1,keepdims = True)\n",
    "A_test_std = A_test['signal'].std(axis = -1,keepdims = True)\n",
    "\n",
    "A_train['signal'] = (A_train['signal']-A_train_mean)/A_train_std\n",
    "A_test['signal']  = (A_test['signal']-A_test_mean)/A_test_std"
   ]
  },
  {
   "cell_type": "markdown",
   "metadata": {},
   "source": [
    "## Stratified sampling"
   ]
  },
  {
   "cell_type": "code",
   "execution_count": 7,
   "metadata": {
    "collapsed": true
   },
   "outputs": [],
   "source": [
    "X_train = A_train['signal'].reshape([-1,A_train['signal'].shape[-2],A_train['signal'].shape[-1]])\n",
    "y_train = A_train['label'].reshape([-1])\n"
   ]
  },
  {
   "cell_type": "code",
   "execution_count": 8,
   "metadata": {},
   "outputs": [
    {
     "name": "stdout",
     "output_type": "stream",
     "text": [
      "(15300, 64, 78)\n",
      "(15300,)\n"
     ]
    }
   ],
   "source": [
    "print(X_train.shape)\n",
    "print(y_train.shape)"
   ]
  },
  {
   "cell_type": "code",
   "execution_count": 9,
   "metadata": {
    "collapsed": true
   },
   "outputs": [],
   "source": [
    "X_train = np.expand_dims(X_train, axis = -1)"
   ]
  },
  {
   "cell_type": "code",
   "execution_count": 10,
   "metadata": {
    "collapsed": true
   },
   "outputs": [],
   "source": [
    "from keras.utils import to_categorical\n",
    "y_train = to_categorical(y_train, 2)"
   ]
  },
  {
   "cell_type": "code",
   "execution_count": 11,
   "metadata": {
    "collapsed": true
   },
   "outputs": [],
   "source": [
    "from sklearn.model_selection import train_test_split\n",
    "X_train,X_val,y_train,y_val = train_test_split(X_train, y_train, test_size = 0.05, random_state = RANDOM_STATE)"
   ]
  },
  {
   "cell_type": "code",
   "execution_count": 12,
   "metadata": {},
   "outputs": [
    {
     "name": "stdout",
     "output_type": "stream",
     "text": [
      "(14535, 64, 78, 1)\n",
      "(765, 64, 78, 1)\n"
     ]
    }
   ],
   "source": [
    "print(X_train.shape)\n",
    "print(X_val.shape)"
   ]
  },
  {
   "cell_type": "code",
   "execution_count": 13,
   "metadata": {
    "collapsed": true
   },
   "outputs": [],
   "source": [
    "model_pami = model.CNN_1_P300_PAMI_BCIIII(Ns = 10, seconds_to_slice=0.65)"
   ]
  },
  {
   "cell_type": "code",
   "execution_count": 15,
   "metadata": {
    "collapsed": true
   },
   "outputs": [],
   "source": [
    "from keras.callbacks import EarlyStopping"
   ]
  },
  {
   "cell_type": "code",
   "execution_count": 24,
   "metadata": {
    "collapsed": true
   },
   "outputs": [],
   "source": [
    "earlystopping = EarlyStopping(monitor = 'val_acc', patience = 10)"
   ]
  },
  {
   "cell_type": "code",
   "execution_count": 25,
   "metadata": {
    "scrolled": true
   },
   "outputs": [
    {
     "name": "stdout",
     "output_type": "stream",
     "text": [
      "Train on 14535 samples, validate on 765 samples\n",
      "Epoch 1/1000\n",
      "14535/14535 [==============================] - 4s - loss: 0.4284 - acc: 0.8337 - mean_squared_error: 0.1325 - val_loss: 0.4483 - val_acc: 0.8261 - val_mean_squared_error: 0.1397\n",
      "Epoch 2/1000\n",
      "14535/14535 [==============================] - 4s - loss: 0.4225 - acc: 0.8337 - mean_squared_error: 0.1307 - val_loss: 0.4448 - val_acc: 0.8261 - val_mean_squared_error: 0.1387\n",
      "Epoch 3/1000\n",
      "14535/14535 [==============================] - 4s - loss: 0.4152 - acc: 0.8337 - mean_squared_error: 0.1284 - val_loss: 0.4407 - val_acc: 0.8261 - val_mean_squared_error: 0.1375\n",
      "Epoch 4/1000\n",
      "14535/14535 [==============================] - 4s - loss: 0.4074 - acc: 0.8336 - mean_squared_error: 0.1261 - val_loss: 0.4360 - val_acc: 0.8281 - val_mean_squared_error: 0.1360\n",
      "Epoch 5/1000\n",
      "14535/14535 [==============================] - 4s - loss: 0.4002 - acc: 0.8346 - mean_squared_error: 0.1239 - val_loss: 0.4334 - val_acc: 0.8255 - val_mean_squared_error: 0.1353\n",
      "Epoch 6/1000\n",
      "14535/14535 [==============================] - 4s - loss: 0.3944 - acc: 0.8362 - mean_squared_error: 0.1220 - val_loss: 0.4309 - val_acc: 0.8229 - val_mean_squared_error: 0.1345\n",
      "Epoch 7/1000\n",
      "14535/14535 [==============================] - 4s - loss: 0.3897 - acc: 0.8381 - mean_squared_error: 0.1204 - val_loss: 0.4275 - val_acc: 0.8235 - val_mean_squared_error: 0.1329\n",
      "Epoch 8/1000\n",
      "14535/14535 [==============================] - 4s - loss: 0.3863 - acc: 0.8392 - mean_squared_error: 0.1194 - val_loss: 0.4249 - val_acc: 0.8242 - val_mean_squared_error: 0.1326\n",
      "Epoch 9/1000\n",
      "14535/14535 [==============================] - 4s - loss: 0.3835 - acc: 0.8405 - mean_squared_error: 0.1183 - val_loss: 0.4219 - val_acc: 0.8248 - val_mean_squared_error: 0.1312\n",
      "Epoch 10/1000\n",
      "14535/14535 [==============================] - 4s - loss: 0.3808 - acc: 0.8412 - mean_squared_error: 0.1175 - val_loss: 0.4199 - val_acc: 0.8255 - val_mean_squared_error: 0.1304\n",
      "Epoch 11/1000\n",
      "14535/14535 [==============================] - 4s - loss: 0.3783 - acc: 0.8420 - mean_squared_error: 0.1166 - val_loss: 0.4180 - val_acc: 0.8242 - val_mean_squared_error: 0.1299\n",
      "Epoch 12/1000\n",
      "14535/14535 [==============================] - 4s - loss: 0.3758 - acc: 0.8435 - mean_squared_error: 0.1157 - val_loss: 0.4156 - val_acc: 0.8307 - val_mean_squared_error: 0.1291\n",
      "Epoch 13/1000\n",
      "14535/14535 [==============================] - 4s - loss: 0.3735 - acc: 0.8447 - mean_squared_error: 0.1150 - val_loss: 0.4132 - val_acc: 0.8314 - val_mean_squared_error: 0.1284\n",
      "Epoch 14/1000\n",
      "14535/14535 [==============================] - 4s - loss: 0.3706 - acc: 0.8455 - mean_squared_error: 0.1141 - val_loss: 0.4112 - val_acc: 0.8301 - val_mean_squared_error: 0.1279\n",
      "Epoch 15/1000\n",
      "14535/14535 [==============================] - 4s - loss: 0.3684 - acc: 0.8466 - mean_squared_error: 0.1132 - val_loss: 0.4092 - val_acc: 0.8314 - val_mean_squared_error: 0.1269\n",
      "Epoch 16/1000\n",
      "14535/14535 [==============================] - 4s - loss: 0.3659 - acc: 0.8480 - mean_squared_error: 0.1123 - val_loss: 0.4074 - val_acc: 0.8346 - val_mean_squared_error: 0.1264\n",
      "Epoch 17/1000\n",
      "14535/14535 [==============================] - 4s - loss: 0.3642 - acc: 0.8488 - mean_squared_error: 0.1118 - val_loss: 0.4046 - val_acc: 0.8307 - val_mean_squared_error: 0.1260\n",
      "Epoch 18/1000\n",
      "14535/14535 [==============================] - 4s - loss: 0.3621 - acc: 0.8490 - mean_squared_error: 0.1111 - val_loss: 0.4025 - val_acc: 0.8353 - val_mean_squared_error: 0.1253\n",
      "Epoch 19/1000\n",
      "14535/14535 [==============================] - 4s - loss: 0.3601 - acc: 0.8514 - mean_squared_error: 0.1104 - val_loss: 0.4005 - val_acc: 0.8392 - val_mean_squared_error: 0.1248\n",
      "Epoch 20/1000\n",
      "14535/14535 [==============================] - 4s - loss: 0.3587 - acc: 0.8511 - mean_squared_error: 0.1100 - val_loss: 0.3995 - val_acc: 0.8392 - val_mean_squared_error: 0.1244\n",
      "Epoch 21/1000\n",
      "14535/14535 [==============================] - 4s - loss: 0.3574 - acc: 0.8529 - mean_squared_error: 0.1094 - val_loss: 0.3982 - val_acc: 0.8431 - val_mean_squared_error: 0.1240\n",
      "Epoch 22/1000\n",
      "14535/14535 [==============================] - 4s - loss: 0.3561 - acc: 0.8533 - mean_squared_error: 0.1090 - val_loss: 0.4006 - val_acc: 0.8294 - val_mean_squared_error: 0.1251\n",
      "Epoch 23/1000\n",
      "14535/14535 [==============================] - 4s - loss: 0.3547 - acc: 0.8538 - mean_squared_error: 0.1086 - val_loss: 0.3975 - val_acc: 0.8438 - val_mean_squared_error: 0.1234\n",
      "Epoch 24/1000\n",
      "14535/14535 [==============================] - 4s - loss: 0.3537 - acc: 0.8542 - mean_squared_error: 0.1082 - val_loss: 0.3968 - val_acc: 0.8458 - val_mean_squared_error: 0.1233\n",
      "Epoch 25/1000\n",
      "14535/14535 [==============================] - 4s - loss: 0.3529 - acc: 0.8539 - mean_squared_error: 0.1080 - val_loss: 0.3951 - val_acc: 0.8379 - val_mean_squared_error: 0.1231\n",
      "Epoch 26/1000\n",
      "14535/14535 [==============================] - 4s - loss: 0.3518 - acc: 0.8554 - mean_squared_error: 0.1075 - val_loss: 0.3968 - val_acc: 0.8340 - val_mean_squared_error: 0.1241\n",
      "Epoch 27/1000\n",
      "14535/14535 [==============================] - 4s - loss: 0.3508 - acc: 0.8550 - mean_squared_error: 0.1073 - val_loss: 0.3995 - val_acc: 0.8353 - val_mean_squared_error: 0.1248\n",
      "Epoch 28/1000\n",
      "14535/14535 [==============================] - 4s - loss: 0.3500 - acc: 0.8560 - mean_squared_error: 0.1071 - val_loss: 0.3951 - val_acc: 0.8405 - val_mean_squared_error: 0.1231\n",
      "Epoch 29/1000\n",
      "14535/14535 [==============================] - 4s - loss: 0.3490 - acc: 0.8547 - mean_squared_error: 0.1067 - val_loss: 0.3935 - val_acc: 0.8386 - val_mean_squared_error: 0.1225\n",
      "Epoch 30/1000\n",
      "14535/14535 [==============================] - 4s - loss: 0.3482 - acc: 0.8563 - mean_squared_error: 0.1064 - val_loss: 0.3933 - val_acc: 0.8418 - val_mean_squared_error: 0.1226\n",
      "Epoch 31/1000\n",
      "14535/14535 [==============================] - 4s - loss: 0.3472 - acc: 0.8579 - mean_squared_error: 0.1060 - val_loss: 0.3943 - val_acc: 0.8346 - val_mean_squared_error: 0.1232\n",
      "Epoch 32/1000\n",
      "14535/14535 [==============================] - 4s - loss: 0.3467 - acc: 0.8574 - mean_squared_error: 0.1059 - val_loss: 0.3930 - val_acc: 0.8392 - val_mean_squared_error: 0.1224\n",
      "Epoch 33/1000\n",
      "14535/14535 [==============================] - 4s - loss: 0.3458 - acc: 0.8580 - mean_squared_error: 0.1056 - val_loss: 0.3946 - val_acc: 0.8346 - val_mean_squared_error: 0.1233\n",
      "Epoch 34/1000\n",
      "14535/14535 [==============================] - 4s - loss: 0.3454 - acc: 0.8583 - mean_squared_error: 0.1056 - val_loss: 0.3921 - val_acc: 0.8392 - val_mean_squared_error: 0.1224\n",
      "Epoch 35/1000\n",
      "14535/14535 [==============================] - 4s - loss: 0.3441 - acc: 0.8592 - mean_squared_error: 0.1050 - val_loss: 0.3930 - val_acc: 0.8425 - val_mean_squared_error: 0.1223\n"
     ]
    },
    {
     "data": {
      "text/plain": [
       "<keras.callbacks.History at 0x1bc129d9e80>"
      ]
     },
     "execution_count": 25,
     "metadata": {},
     "output_type": "execute_result"
    }
   ],
   "source": [
    "model_pami.compile(optimizer = 'sgd', loss = 'binary_crossentropy', metrics = ['acc', 'mse'])\n",
    "model_pami.fit(x = X_train, y = y_train, batch_size=32, epochs = 1000, callbacks = [earlystopping], \n",
    "              validation_data = [X_val,y_val])"
   ]
  },
  {
   "cell_type": "code",
   "execution_count": 26,
   "metadata": {
    "collapsed": true
   },
   "outputs": [],
   "source": [
    "X_pred = model_pami.predict(X_val)"
   ]
  },
  {
   "cell_type": "code",
   "execution_count": 27,
   "metadata": {},
   "outputs": [
    {
     "data": {
      "text/plain": [
       "(765, 2)"
      ]
     },
     "execution_count": 27,
     "metadata": {},
     "output_type": "execute_result"
    }
   ],
   "source": [
    "X_pred.shape"
   ]
  },
  {
   "cell_type": "code",
   "execution_count": 32,
   "metadata": {
    "scrolled": true
   },
   "outputs": [
    {
     "name": "stdout",
     "output_type": "stream",
     "text": [
      "TP:30\tTN:613\tFP:19\tFN:103\n",
      "\n",
      "Reco:0.8405228758169935\tRecall:0.22556390977443608\tPrecision:0.6122448979591837\tSilence:0.7744360902255639\n",
      "\n",
      "Noise:0.3877551020408163\tError:0.9172932330827067\tF-measure:2.0\n"
     ]
    }
   ],
   "source": [
    "from src.metrics import metrics\n",
    "metrics.print_all_stats(np.argmax(y_val,axis=-1),np.argmax(X_pred, axis = -1))"
   ]
  },
  {
   "cell_type": "code",
   "execution_count": 30,
   "metadata": {
    "scrolled": true
   },
   "outputs": [
    {
     "data": {
      "text/plain": [
       "array([1, 0, 0, 0, 0, 1, 0, 0, 0, 0, 0, 0, 0, 0, 1, 0, 0, 0, 0, 0, 0, 0, 0,\n",
       "       0, 0, 0, 0, 0, 0, 0, 1, 1, 1, 0, 0, 0, 0, 0, 0, 0, 0, 0, 0, 0, 0, 0,\n",
       "       0, 0, 0, 0, 0, 0, 0, 0, 0, 0, 0, 0, 0, 0, 0, 0, 0, 0, 0, 0, 0, 0, 0,\n",
       "       0, 0, 0, 0, 0, 0, 0, 0, 0, 0, 0, 0, 0, 0, 0, 0, 0, 0, 0, 0, 0, 0, 0,\n",
       "       0, 0, 0, 0, 0, 0, 0, 0, 0, 1, 0, 0, 0, 0, 0, 0, 0, 1, 0, 0, 0, 0, 0,\n",
       "       1, 0, 0, 0, 1, 0, 0, 1, 0, 0, 0, 0, 0, 0, 0, 0, 0, 0, 0, 0, 0, 0, 0,\n",
       "       0, 0, 0, 0, 0, 0, 1, 0, 0, 0, 0, 0, 0, 0, 0, 0, 0, 1, 0, 0, 0, 0, 0,\n",
       "       0, 0, 0, 0, 0, 0, 0, 0, 0, 0, 0, 0, 0, 0, 0, 0, 0, 0, 0, 0, 0, 0, 0,\n",
       "       1, 0, 0, 0, 0, 0, 0, 0, 0, 0, 0, 0, 0, 0, 0, 0, 0, 0, 0, 1, 0, 0, 0,\n",
       "       0, 0, 0, 0, 0, 0, 0, 0, 0, 0, 0, 0, 0, 0, 0, 1, 0, 0, 0, 0, 0, 0, 0,\n",
       "       0, 0, 0, 0, 0, 0, 0, 0, 0, 0, 0, 0, 0, 0, 0, 0, 1, 0, 0, 0, 0, 0, 0,\n",
       "       0, 0, 0, 0, 0, 0, 0, 0, 0, 0, 0, 0, 0, 0, 1, 0, 0, 1, 0, 0, 0, 0, 0,\n",
       "       0, 0, 0, 0, 0, 0, 0, 0, 0, 0, 0, 0, 0, 0, 0, 0, 0, 0, 0, 0, 0, 0, 0,\n",
       "       0, 0, 0, 0, 0, 0, 0, 0, 1, 0, 0, 1, 0, 1, 0, 0, 0, 0, 0, 0, 0, 0, 0,\n",
       "       0, 0, 0, 0, 0, 0, 0, 0, 0, 0, 0, 0, 1, 0, 0, 0, 0, 0, 0, 0, 0, 0, 0,\n",
       "       0, 0, 1, 0, 0, 0, 0, 0, 0, 0, 0, 0, 0, 0, 0, 0, 0, 0, 0, 0, 0, 0, 0,\n",
       "       0, 0, 0, 0, 0, 0, 0, 0, 0, 0, 0, 0, 0, 1, 0, 1, 0, 0, 0, 0, 0, 0, 0,\n",
       "       0, 0, 0, 0, 0, 1, 0, 0, 0, 0, 0, 0, 0, 0, 0, 0, 0, 0, 0, 0, 0, 0, 0,\n",
       "       0, 0, 0, 0, 0, 0, 0, 0, 0, 1, 0, 0, 0, 0, 0, 0, 0, 0, 0, 0, 0, 0, 0,\n",
       "       0, 0, 0, 0, 1, 0, 1, 0, 0, 0, 0, 0, 0, 0, 0, 0, 0, 0, 0, 0, 0, 0, 0,\n",
       "       0, 0, 0, 0, 0, 0, 0, 0, 0, 0, 0, 0, 0, 0, 0, 0, 0, 0, 0, 1, 0, 0, 0,\n",
       "       0, 0, 1, 0, 0, 0, 1, 0, 0, 0, 0, 0, 0, 0, 0, 0, 0, 0, 0, 0, 0, 0, 0,\n",
       "       0, 0, 0, 0, 0, 0, 0, 0, 0, 0, 0, 0, 0, 0, 0, 0, 0, 1, 0, 0, 0, 0, 0,\n",
       "       0, 0, 1, 0, 0, 0, 0, 0, 0, 0, 0, 0, 0, 0, 0, 0, 1, 0, 0, 0, 0, 0, 0,\n",
       "       0, 0, 0, 0, 0, 0, 0, 0, 0, 0, 0, 0, 0, 1, 0, 0, 0, 0, 0, 0, 0, 0, 0,\n",
       "       0, 0, 0, 0, 0, 0, 0, 0, 0, 0, 0, 0, 0, 0, 0, 0, 0, 0, 1, 0, 0, 0, 0,\n",
       "       0, 1, 0, 1, 0, 0, 0, 0, 1, 0, 0, 0, 0, 0, 0, 0, 0, 0, 0, 0, 0, 0, 0,\n",
       "       0, 0, 0, 0, 0, 0, 0, 0, 0, 0, 0, 0, 0, 0, 1, 0, 0, 0, 0, 0, 0, 0, 0,\n",
       "       0, 0, 0, 0, 0, 0, 0, 0, 1, 0, 0, 0, 0, 0, 0, 0, 0, 0, 0, 0, 0, 0, 1,\n",
       "       0, 0, 0, 0, 0, 0, 0, 0, 0, 0, 0, 0, 0, 0, 0, 0, 0, 0, 0, 0, 0, 0, 0,\n",
       "       0, 1, 0, 0, 0, 1, 0, 0, 0, 0, 0, 0, 0, 0, 0, 0, 0, 0, 0, 0, 0, 0, 0,\n",
       "       0, 0, 0, 0, 0, 0, 0, 0, 0, 0, 1, 0, 0, 1, 0, 0, 0, 0, 0, 0, 0, 0, 0,\n",
       "       0, 0, 0, 0, 0, 0, 0, 0, 0, 0, 0, 0, 0, 0, 0, 0, 1, 0, 0, 0, 0, 0, 0,\n",
       "       0, 0, 0, 0, 0, 0], dtype=int64)"
      ]
     },
     "execution_count": 30,
     "metadata": {},
     "output_type": "execute_result"
    }
   ],
   "source": [
    "np.argmax(X_pred,axis=-1)"
   ]
  },
  {
   "cell_type": "code",
   "execution_count": 31,
   "metadata": {},
   "outputs": [
    {
     "data": {
      "text/plain": [
       "array([[ 1.,  0.],\n",
       "       [ 1.,  0.],\n",
       "       [ 1.,  0.],\n",
       "       ..., \n",
       "       [ 1.,  0.],\n",
       "       [ 0.,  1.],\n",
       "       [ 1.,  0.]])"
      ]
     },
     "execution_count": 31,
     "metadata": {},
     "output_type": "execute_result"
    }
   ],
   "source": [
    "y_val"
   ]
  },
  {
   "cell_type": "code",
   "execution_count": 33,
   "metadata": {},
   "outputs": [
    {
     "name": "stdout",
     "output_type": "stream",
     "text": [
      "Train on 14535 samples, validate on 765 samples\n",
      "Epoch 1/5\n",
      "14535/14535 [==============================] - 5s - loss: 0.3436 - acc: 0.8592 - mean_squared_error: 0.1049 - val_loss: 0.3928 - val_acc: 0.8301 - val_mean_squared_error: 0.1229\n",
      "Epoch 2/5\n",
      "14535/14535 [==============================] - 4s - loss: 0.3431 - acc: 0.8603 - mean_squared_error: 0.1047 - val_loss: 0.3923 - val_acc: 0.8438 - val_mean_squared_error: 0.1222\n",
      "Epoch 3/5\n",
      "14535/14535 [==============================] - 4s - loss: 0.3425 - acc: 0.8598 - mean_squared_error: 0.1044 - val_loss: 0.3926 - val_acc: 0.8405 - val_mean_squared_error: 0.1223\n",
      "Epoch 4/5\n",
      "14535/14535 [==============================] - 4s - loss: 0.3419 - acc: 0.8593 - mean_squared_error: 0.1044 - val_loss: 0.3943 - val_acc: 0.8314 - val_mean_squared_error: 0.1233\n",
      "Epoch 5/5\n",
      "14535/14535 [==============================] - 5s - loss: 0.3412 - acc: 0.8609 - mean_squared_error: 0.1041 - val_loss: 0.3925 - val_acc: 0.8366 - val_mean_squared_error: 0.1227\n"
     ]
    },
    {
     "data": {
      "text/plain": [
       "<keras.callbacks.History at 0x1bc0dae99e8>"
      ]
     },
     "execution_count": 33,
     "metadata": {},
     "output_type": "execute_result"
    }
   ],
   "source": [
    "earlystopping = EarlyStopping(monitor = 'val_mean_squared_error', patience = 2)\n",
    "model_pami.compile(optimizer = 'sgd', loss = 'binary_crossentropy', metrics = ['acc', 'mse'])\n",
    "model_pami.fit(x = X_train, y = y_train, batch_size=32, epochs = 5, callbacks = [earlystopping], \n",
    "              validation_data = [X_val,y_val])"
   ]
  },
  {
   "cell_type": "code",
   "execution_count": null,
   "metadata": {
    "collapsed": true
   },
   "outputs": [],
   "source": []
  }
 ],
 "metadata": {
  "anaconda-cloud": {},
  "kernelspec": {
   "display_name": "Python [conda root]",
   "language": "python",
   "name": "conda-root-py"
  },
  "language_info": {
   "codemirror_mode": {
    "name": "ipython",
    "version": 3
   },
   "file_extension": ".py",
   "mimetype": "text/x-python",
   "name": "python",
   "nbconvert_exporter": "python",
   "pygments_lexer": "ipython3",
   "version": "3.5.2"
  }
 },
 "nbformat": 4,
 "nbformat_minor": 2
}
