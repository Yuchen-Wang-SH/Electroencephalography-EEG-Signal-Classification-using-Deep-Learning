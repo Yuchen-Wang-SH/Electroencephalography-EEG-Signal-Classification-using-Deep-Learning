{
 "cells": [
  {
   "cell_type": "code",
   "execution_count": 1,
   "metadata": {
    "collapsed": true,
    "nbpresent": {
     "id": "6f3213df-e130-4428-8d96-5583b2072460"
    }
   },
   "outputs": [],
   "source": [
    "import numpy as np\n",
    "import matplotlib.pyplot as plt\n",
    "%matplotlib inline\n",
    "import tensorflow as tf\n",
    "\n",
    "import os\n",
    "os.chdir(\"../\")\n",
    "\n",
    "%load_ext autoreload\n",
    "%autoreload 2"
   ]
  },
  {
   "cell_type": "code",
   "execution_count": 2,
   "metadata": {
    "collapsed": true,
    "nbpresent": {
     "id": "1ba6ac8f-1ce6-4911-858a-92fb2cb36770"
    }
   },
   "outputs": [],
   "source": [
    "RANDOM_STATE = 42  # for reproducibility\n",
    "np.random.seed(RANDOM_STATE)\n",
    "NUM_ELECTRODES = 64\n",
    "FS = 240          # Hz\n",
    "NUM_TRAIN_LETTERS = 85\n",
    "NUM_TEST_LETTERS = 100\n",
    "NUM_ROWCOLS = 12    # col:1-6 row:7-12\n",
    "NUM_REPEAT = 15\n",
    "SECONDS_TO_SLICE = 0.65    # after the simulation 0.65s data is treated as a sample\n",
    "DATA_DIR = \"./data/raw/BCI_Comp_III_Wads_2004/\""
   ]
  },
  {
   "cell_type": "markdown",
   "metadata": {
    "nbpresent": {
     "id": "fbbed715-29d8-4bc9-a1de-1c0cabffde95"
    }
   },
   "source": [
    "## Prepare data set of Subject A"
   ]
  },
  {
   "cell_type": "markdown",
   "metadata": {
    "nbpresent": {
     "id": "81557e6b-6a22-40d6-99cb-1cec3a10388c"
    }
   },
   "source": [
    "### mat->subsample->bandpass->normalize along channel"
   ]
  },
  {
   "cell_type": "code",
   "execution_count": 3,
   "metadata": {
    "collapsed": true,
    "nbpresent": {
     "id": "f06b5140-9b06-4a57-9b9c-b6cdf63df73d"
    }
   },
   "outputs": [],
   "source": [
    "from src import pipelines\n",
    "\n",
    "A_train = pipelines.signal_mat_sub_band_norm(DATA_DIR+\"Subject_A_Train\")\n",
    "A_test = pipelines.signal_mat_sub_band_norm(DATA_DIR + \"Subject_B_Test\")"
   ]
  },
  {
   "cell_type": "code",
   "execution_count": 4,
   "metadata": {
    "collapsed": true,
    "nbpresent": {
     "id": "946fd4d3-c734-4d94-8cef-6b61cfc96de1"
    }
   },
   "outputs": [],
   "source": [
    "X_train = A_train['signal'].reshape([-1,NUM_ELECTRODES,A_train['signal'].shape[-1],1])\n",
    "X_test = A_test['signal'].reshape([-1,NUM_ELECTRODES,A_test['signal'].shape[-1],1]) "
   ]
  },
  {
   "cell_type": "code",
   "execution_count": 5,
   "metadata": {
    "nbpresent": {
     "id": "dbd04ea9-ac93-4b21-80e6-dc40439de3f3"
    }
   },
   "outputs": [
    {
     "name": "stderr",
     "output_type": "stream",
     "text": [
      "Using TensorFlow backend.\n"
     ]
    }
   ],
   "source": [
    "from keras import layers, models\n",
    "from keras.utils import to_categorical"
   ]
  },
  {
   "cell_type": "code",
   "execution_count": 6,
   "metadata": {
    "collapsed": true,
    "nbpresent": {
     "id": "986c4bbb-9e3e-45e2-bed0-1c112026d51d"
    }
   },
   "outputs": [],
   "source": [
    "y_train = to_categorical(A_train['label'])"
   ]
  },
  {
   "cell_type": "code",
   "execution_count": 7,
   "metadata": {
    "collapsed": true,
    "nbpresent": {
     "id": "f383d1df-fd5e-4dcf-a6b6-ee285e52bef5"
    }
   },
   "outputs": [],
   "source": [
    "from sklearn.model_selection import train_test_split\n",
    "X_train, X_val, y_train, y_val = train_test_split(X_train, y_train, test_size=0.05,\n",
    "                                                  random_state=RANDOM_STATE, stratify=y_train)"
   ]
  },
  {
   "cell_type": "code",
   "execution_count": 8,
   "metadata": {
    "collapsed": true,
    "nbpresent": {
     "id": "afc0a575-767c-42d2-8fe3-6509c4b65c00"
    }
   },
   "outputs": [],
   "source": [
    "from src.models.PAMI import CNN_1_P300_PAMI_BCIIII"
   ]
  },
  {
   "cell_type": "code",
   "execution_count": 9,
   "metadata": {
    "collapsed": true,
    "nbpresent": {
     "id": "a6a335be-a6a2-49ec-9ec7-2eddcff53db9"
    }
   },
   "outputs": [],
   "source": [
    "model_PAMI = CNN_1_P300_PAMI_BCIIII(Ns = 10,seconds_to_slice=SECONDS_TO_SLICE)"
   ]
  },
  {
   "cell_type": "code",
   "execution_count": 10,
   "metadata": {
    "collapsed": true,
    "nbpresent": {
     "id": "fc257bb9-71eb-40d1-88ae-80fa6ddfff56"
    }
   },
   "outputs": [],
   "source": [
    "model_PAMI.compile(optimizer = 'sgd',loss = 'binary_crossentropy',metrics = ['acc', 'mse'])"
   ]
  },
  {
   "cell_type": "code",
   "execution_count": 11,
   "metadata": {
    "collapsed": true,
    "nbpresent": {
     "id": "2751328b-8a36-432d-a422-b2fb46d26a76"
    }
   },
   "outputs": [],
   "source": [
    "from keras.callbacks import EarlyStopping\n",
    "earlystopping = EarlyStopping(monitor = \"val_mean_squared_error\",patience = 10)"
   ]
  },
  {
   "cell_type": "code",
   "execution_count": 12,
   "metadata": {
    "nbpresent": {
     "id": "857435ee-2897-42bd-9c18-e3c8626fa332"
    },
    "scrolled": true
   },
   "outputs": [
    {
     "name": "stdout",
     "output_type": "stream",
     "text": [
      "Train on 14535 samples, validate on 765 samples\n",
      "Epoch 1/1000\n",
      "14535/14535 [==============================] - 77s - loss: 0.4605 - acc: 0.8273 - mean_squared_error: 0.1433 - val_loss: 0.4316 - val_acc: 0.8405 - val_mean_squared_error: 0.1320\n",
      "Epoch 2/1000\n",
      "14535/14535 [==============================] - 4s - loss: 0.4489 - acc: 0.8290 - mean_squared_error: 0.1393 - val_loss: 0.4244 - val_acc: 0.8405 - val_mean_squared_error: 0.1298\n",
      "Epoch 3/1000\n",
      "14535/14535 [==============================] - 4s - loss: 0.4440 - acc: 0.8290 - mean_squared_error: 0.1378 - val_loss: 0.4170 - val_acc: 0.8405 - val_mean_squared_error: 0.1279\n",
      "Epoch 4/1000\n",
      "14535/14535 [==============================] - 4s - loss: 0.4396 - acc: 0.8290 - mean_squared_error: 0.1366 - val_loss: 0.4113 - val_acc: 0.8405 - val_mean_squared_error: 0.1261\n",
      "Epoch 5/1000\n",
      "14535/14535 [==============================] - 4s - loss: 0.4350 - acc: 0.8290 - mean_squared_error: 0.1352 - val_loss: 0.4053 - val_acc: 0.8405 - val_mean_squared_error: 0.1242\n",
      "Epoch 6/1000\n",
      "14535/14535 [==============================] - 4s - loss: 0.4294 - acc: 0.8290 - mean_squared_error: 0.1336 - val_loss: 0.3988 - val_acc: 0.8405 - val_mean_squared_error: 0.1221\n",
      "Epoch 7/1000\n",
      "14535/14535 [==============================] - 4s - loss: 0.4223 - acc: 0.8291 - mean_squared_error: 0.1314 - val_loss: 0.3918 - val_acc: 0.8405 - val_mean_squared_error: 0.1198\n",
      "Epoch 8/1000\n",
      "14535/14535 [==============================] - 4s - loss: 0.4145 - acc: 0.8289 - mean_squared_error: 0.1290 - val_loss: 0.3840 - val_acc: 0.8418 - val_mean_squared_error: 0.1174\n",
      "Epoch 9/1000\n",
      "14535/14535 [==============================] - 4s - loss: 0.4073 - acc: 0.8294 - mean_squared_error: 0.1269 - val_loss: 0.3786 - val_acc: 0.8458 - val_mean_squared_error: 0.1154\n",
      "Epoch 10/1000\n",
      "14535/14535 [==============================] - 4s - loss: 0.4008 - acc: 0.8305 - mean_squared_error: 0.1247 - val_loss: 0.3776 - val_acc: 0.8444 - val_mean_squared_error: 0.1154\n",
      "Epoch 11/1000\n",
      "14535/14535 [==============================] - 4s - loss: 0.3960 - acc: 0.8323 - mean_squared_error: 0.1231 - val_loss: 0.3755 - val_acc: 0.8471 - val_mean_squared_error: 0.1148\n",
      "Epoch 12/1000\n",
      "14535/14535 [==============================] - 4s - loss: 0.3924 - acc: 0.8338 - mean_squared_error: 0.1220 - val_loss: 0.3703 - val_acc: 0.8503 - val_mean_squared_error: 0.1130\n",
      "Epoch 13/1000\n",
      "14535/14535 [==============================] - 4s - loss: 0.3891 - acc: 0.8356 - mean_squared_error: 0.1209 - val_loss: 0.3698 - val_acc: 0.8477 - val_mean_squared_error: 0.1130\n",
      "Epoch 14/1000\n",
      "14535/14535 [==============================] - 4s - loss: 0.3864 - acc: 0.8356 - mean_squared_error: 0.1200 - val_loss: 0.3666 - val_acc: 0.8516 - val_mean_squared_error: 0.1117\n",
      "Epoch 15/1000\n",
      "14535/14535 [==============================] - 4s - loss: 0.3832 - acc: 0.8379 - mean_squared_error: 0.1189 - val_loss: 0.3660 - val_acc: 0.8510 - val_mean_squared_error: 0.1115\n",
      "Epoch 16/1000\n",
      "14535/14535 [==============================] - 4s - loss: 0.3811 - acc: 0.8390 - mean_squared_error: 0.1182 - val_loss: 0.3612 - val_acc: 0.8529 - val_mean_squared_error: 0.1098\n",
      "Epoch 17/1000\n",
      "14535/14535 [==============================] - 4s - loss: 0.3781 - acc: 0.8402 - mean_squared_error: 0.1172 - val_loss: 0.3606 - val_acc: 0.8556 - val_mean_squared_error: 0.1095\n",
      "Epoch 18/1000\n",
      "14535/14535 [==============================] - 4s - loss: 0.3756 - acc: 0.8404 - mean_squared_error: 0.1164 - val_loss: 0.3589 - val_acc: 0.8595 - val_mean_squared_error: 0.1088\n",
      "Epoch 19/1000\n",
      "14535/14535 [==============================] - 4s - loss: 0.3729 - acc: 0.8420 - mean_squared_error: 0.1154 - val_loss: 0.3549 - val_acc: 0.8595 - val_mean_squared_error: 0.1073\n",
      "Epoch 20/1000\n",
      "14535/14535 [==============================] - 4s - loss: 0.3704 - acc: 0.8429 - mean_squared_error: 0.1146 - val_loss: 0.3528 - val_acc: 0.8601 - val_mean_squared_error: 0.1066\n",
      "Epoch 21/1000\n",
      "14535/14535 [==============================] - 4s - loss: 0.3681 - acc: 0.8438 - mean_squared_error: 0.1139 - val_loss: 0.3514 - val_acc: 0.8601 - val_mean_squared_error: 0.1060\n",
      "Epoch 22/1000\n",
      "14535/14535 [==============================] - 4s - loss: 0.3660 - acc: 0.8455 - mean_squared_error: 0.1132 - val_loss: 0.3497 - val_acc: 0.8542 - val_mean_squared_error: 0.1054\n",
      "Epoch 23/1000\n",
      "14535/14535 [==============================] - 4s - loss: 0.3635 - acc: 0.8472 - mean_squared_error: 0.1124 - val_loss: 0.3492 - val_acc: 0.8582 - val_mean_squared_error: 0.1053\n",
      "Epoch 24/1000\n",
      "14535/14535 [==============================] - 4s - loss: 0.3618 - acc: 0.8469 - mean_squared_error: 0.1118 - val_loss: 0.3484 - val_acc: 0.8562 - val_mean_squared_error: 0.1048\n",
      "Epoch 25/1000\n",
      "14535/14535 [==============================] - 4s - loss: 0.3598 - acc: 0.8492 - mean_squared_error: 0.1110 - val_loss: 0.3451 - val_acc: 0.8575 - val_mean_squared_error: 0.1038\n",
      "Epoch 26/1000\n",
      "14535/14535 [==============================] - 4s - loss: 0.3579 - acc: 0.8486 - mean_squared_error: 0.1104 - val_loss: 0.3447 - val_acc: 0.8582 - val_mean_squared_error: 0.1036\n",
      "Epoch 27/1000\n",
      "14535/14535 [==============================] - 4s - loss: 0.3564 - acc: 0.8489 - mean_squared_error: 0.1100 - val_loss: 0.3430 - val_acc: 0.8569 - val_mean_squared_error: 0.1031\n",
      "Epoch 28/1000\n",
      "14535/14535 [==============================] - 4s - loss: 0.3549 - acc: 0.8502 - mean_squared_error: 0.1094 - val_loss: 0.3451 - val_acc: 0.8569 - val_mean_squared_error: 0.1036\n",
      "Epoch 29/1000\n",
      "14535/14535 [==============================] - 4s - loss: 0.3535 - acc: 0.8497 - mean_squared_error: 0.1091 - val_loss: 0.3438 - val_acc: 0.8627 - val_mean_squared_error: 0.1034\n",
      "Epoch 30/1000\n",
      "14535/14535 [==============================] - 4s - loss: 0.3521 - acc: 0.8517 - mean_squared_error: 0.1085 - val_loss: 0.3401 - val_acc: 0.8614 - val_mean_squared_error: 0.1019\n",
      "Epoch 31/1000\n",
      "14535/14535 [==============================] - 4s - loss: 0.3503 - acc: 0.8517 - mean_squared_error: 0.1080 - val_loss: 0.3413 - val_acc: 0.8575 - val_mean_squared_error: 0.1025\n",
      "Epoch 32/1000\n",
      "14535/14535 [==============================] - 4s - loss: 0.3492 - acc: 0.8530 - mean_squared_error: 0.1076 - val_loss: 0.3420 - val_acc: 0.8627 - val_mean_squared_error: 0.1026\n",
      "Epoch 33/1000\n",
      "14535/14535 [==============================] - 4s - loss: 0.3479 - acc: 0.8526 - mean_squared_error: 0.1072 - val_loss: 0.3382 - val_acc: 0.8608 - val_mean_squared_error: 0.1014\n",
      "Epoch 34/1000\n",
      "14535/14535 [==============================] - 5s - loss: 0.3470 - acc: 0.8544 - mean_squared_error: 0.1069 - val_loss: 0.3433 - val_acc: 0.8575 - val_mean_squared_error: 0.1036\n",
      "Epoch 35/1000\n",
      "14535/14535 [==============================] - 4s - loss: 0.3457 - acc: 0.8534 - mean_squared_error: 0.1066 - val_loss: 0.3419 - val_acc: 0.8529 - val_mean_squared_error: 0.1030\n",
      "Epoch 36/1000\n",
      "14535/14535 [==============================] - 4s - loss: 0.3450 - acc: 0.8546 - mean_squared_error: 0.1063 - val_loss: 0.3385 - val_acc: 0.8595 - val_mean_squared_error: 0.1018\n",
      "Epoch 37/1000\n",
      "14535/14535 [==============================] - 4s - loss: 0.3432 - acc: 0.8553 - mean_squared_error: 0.1056 - val_loss: 0.3397 - val_acc: 0.8588 - val_mean_squared_error: 0.1027\n",
      "Epoch 38/1000\n",
      "14535/14535 [==============================] - 4s - loss: 0.3427 - acc: 0.8550 - mean_squared_error: 0.1055 - val_loss: 0.3462 - val_acc: 0.8569 - val_mean_squared_error: 0.1051\n",
      "Epoch 39/1000\n",
      "14535/14535 [==============================] - 4s - loss: 0.3417 - acc: 0.8568 - mean_squared_error: 0.1052 - val_loss: 0.3415 - val_acc: 0.8569 - val_mean_squared_error: 0.1033\n",
      "Epoch 40/1000\n",
      "14535/14535 [==============================] - 4s - loss: 0.3403 - acc: 0.8569 - mean_squared_error: 0.1048 - val_loss: 0.3480 - val_acc: 0.8529 - val_mean_squared_error: 0.1054\n",
      "Epoch 41/1000\n",
      "14535/14535 [==============================] - 4s - loss: 0.3397 - acc: 0.8580 - mean_squared_error: 0.1045 - val_loss: 0.3451 - val_acc: 0.8569 - val_mean_squared_error: 0.1047\n",
      "Epoch 42/1000\n",
      "14535/14535 [==============================] - 4s - loss: 0.3388 - acc: 0.8578 - mean_squared_error: 0.1043 - val_loss: 0.3546 - val_acc: 0.8490 - val_mean_squared_error: 0.1084\n",
      "Epoch 43/1000\n",
      "14535/14535 [==============================] - 5s - loss: 0.3377 - acc: 0.8583 - mean_squared_error: 0.1039 - val_loss: 0.3403 - val_acc: 0.8529 - val_mean_squared_error: 0.1032\n",
      "Epoch 44/1000\n",
      "14535/14535 [==============================] - 4s - loss: 0.3368 - acc: 0.8578 - mean_squared_error: 0.1036 - val_loss: 0.3364 - val_acc: 0.8641 - val_mean_squared_error: 0.1016\n"
     ]
    },
    {
     "data": {
      "text/plain": [
       "<keras.callbacks.History at 0x221279a1b00>"
      ]
     },
     "execution_count": 12,
     "metadata": {},
     "output_type": "execute_result"
    }
   ],
   "source": [
    "model_PAMI.fit(x = X_train, y = y_train, batch_size=32, epochs = 1000, callbacks = [earlystopping], \n",
    "              validation_data = [X_val,y_val])"
   ]
  },
  {
   "cell_type": "code",
   "execution_count": 13,
   "metadata": {
    "collapsed": true,
    "nbpresent": {
     "id": "85913535-d5e9-427f-b055-8dc2dbba317b"
    }
   },
   "outputs": [],
   "source": [
    "A_test['signal'] = X_test"
   ]
  },
  {
   "cell_type": "code",
   "execution_count": 30,
   "metadata": {
    "collapsed": true,
    "nbpresent": {
     "id": "d2e4c0e7-a491-4f2a-8a12-fde70882c2a9"
    }
   },
   "outputs": [],
   "source": [
    "from src.pipelines import test_pipeline,PARADIGM,accuracy\n",
    "predictions = test_pipeline(A_test,model_PAMI,14,PARADIGM)"
   ]
  },
  {
   "cell_type": "code",
   "execution_count": 31,
   "metadata": {
    "nbpresent": {
     "id": "4641ed1a-36fc-43a6-867b-cdf0a1091b80"
    }
   },
   "outputs": [
    {
     "data": {
      "text/plain": [
       "0.02"
      ]
     },
     "execution_count": 31,
     "metadata": {},
     "output_type": "execute_result"
    }
   ],
   "source": [
    "from src.pipelines import accuracy\n",
    "accuracy(predictions,'WQXPLZCOMRKO97YFZDEZ1DPI9NNVGRQDJCUVRMEUOOOJD2UFYPOO6J7LDGYEGOA5VHNEHBTXOO1TDOILUEE5BFAEEXAW_K4R3MRU')"
   ]
  }
 ],
 "metadata": {
  "anaconda-cloud": {},
  "kernelspec": {
   "display_name": "Python [conda root]",
   "language": "python",
   "name": "conda-root-py"
  },
  "language_info": {
   "codemirror_mode": {
    "name": "ipython",
    "version": 3
   },
   "file_extension": ".py",
   "mimetype": "text/x-python",
   "name": "python",
   "nbconvert_exporter": "python",
   "pygments_lexer": "ipython3",
   "version": "3.5.2"
  },
  "nbpresent": {
   "slides": {
    "056b9af4-6790-4e57-9c31-12cb203d1578": {
     "id": "056b9af4-6790-4e57-9c31-12cb203d1578",
     "prev": "5c9c044e-4afb-435d-8990-7278f547f641",
     "regions": {
      "0568120d-4c83-475e-a870-d850653b7d8d": {
       "attrs": {
        "height": 0.8,
        "width": 0.8,
        "x": 0.1,
        "y": 0.1
       },
       "content": {
        "cell": "857435ee-2897-42bd-9c18-e3c8626fa332",
        "part": "whole"
       },
       "id": "0568120d-4c83-475e-a870-d850653b7d8d"
      }
     }
    },
    "0713f9df-5027-487e-b65f-b946e4ae1de6": {
     "id": "0713f9df-5027-487e-b65f-b946e4ae1de6",
     "prev": "53c1e631-ef66-4d1c-a45c-0085b242e218",
     "regions": {
      "65ccec91-54d9-44d6-9deb-7db5b8a977b5": {
       "attrs": {
        "height": 0.8,
        "width": 0.8,
        "x": 0.1,
        "y": 0.1
       },
       "content": {
        "cell": "f06b5140-9b06-4a57-9b9c-b6cdf63df73d",
        "part": "whole"
       },
       "id": "65ccec91-54d9-44d6-9deb-7db5b8a977b5"
      }
     }
    },
    "07ad65e6-ebf8-4bbf-ae3f-513dee5894b8": {
     "id": "07ad65e6-ebf8-4bbf-ae3f-513dee5894b8",
     "prev": "97c401ac-5e4a-4f32-b7a4-2c5034f0e0a1",
     "regions": {
      "c301ae2b-e996-44ce-b7aa-ba2fdaf9df2d": {
       "attrs": {
        "height": 0.8,
        "width": 0.8,
        "x": 0.1,
        "y": 0.1
       },
       "content": {
        "cell": "a6a335be-a6a2-49ec-9ec7-2eddcff53db9",
        "part": "whole"
       },
       "id": "c301ae2b-e996-44ce-b7aa-ba2fdaf9df2d"
      }
     }
    },
    "2f951040-8074-4ed7-9b00-d5818fb1a428": {
     "id": "2f951040-8074-4ed7-9b00-d5818fb1a428",
     "prev": "07ad65e6-ebf8-4bbf-ae3f-513dee5894b8",
     "regions": {
      "273cf579-e8a5-42a4-bd66-c9ef1c0686ca": {
       "attrs": {
        "height": 0.8,
        "width": 0.8,
        "x": 0.1,
        "y": 0.1
       },
       "content": {
        "cell": "fc257bb9-71eb-40d1-88ae-80fa6ddfff56",
        "part": "whole"
       },
       "id": "273cf579-e8a5-42a4-bd66-c9ef1c0686ca"
      }
     }
    },
    "394ed435-0d7b-4ec8-9b32-2cc2e34334bb": {
     "id": "394ed435-0d7b-4ec8-9b32-2cc2e34334bb",
     "prev": "0713f9df-5027-487e-b65f-b946e4ae1de6",
     "regions": {
      "6fe04a82-4cff-4c8f-bcc0-d49cf50e8fae": {
       "attrs": {
        "height": 0.8,
        "width": 0.8,
        "x": 0.1,
        "y": 0.1
       },
       "content": {
        "cell": "946fd4d3-c734-4d94-8cef-6b61cfc96de1",
        "part": "whole"
       },
       "id": "6fe04a82-4cff-4c8f-bcc0-d49cf50e8fae"
      }
     }
    },
    "3ab93dd9-4c7f-4620-b105-d0ab07b20fd7": {
     "id": "3ab93dd9-4c7f-4620-b105-d0ab07b20fd7",
     "prev": "441ba926-8d2c-4fe3-8336-89a0c6b605d8",
     "regions": {
      "da0efadf-6a8c-4078-95fa-ed58ff8bc29e": {
       "attrs": {
        "height": 0.8,
        "width": 0.8,
        "x": 0.1,
        "y": 0.1
       },
       "content": {
        "cell": "986c4bbb-9e3e-45e2-bed0-1c112026d51d",
        "part": "whole"
       },
       "id": "da0efadf-6a8c-4078-95fa-ed58ff8bc29e"
      }
     }
    },
    "441ba926-8d2c-4fe3-8336-89a0c6b605d8": {
     "id": "441ba926-8d2c-4fe3-8336-89a0c6b605d8",
     "prev": "394ed435-0d7b-4ec8-9b32-2cc2e34334bb",
     "regions": {
      "8065aa61-16eb-4544-b44d-28bc23bfbdaf": {
       "attrs": {
        "height": 0.8,
        "width": 0.8,
        "x": 0.1,
        "y": 0.1
       },
       "content": {
        "cell": "dbd04ea9-ac93-4b21-80e6-dc40439de3f3",
        "part": "whole"
       },
       "id": "8065aa61-16eb-4544-b44d-28bc23bfbdaf"
      }
     }
    },
    "53c1e631-ef66-4d1c-a45c-0085b242e218": {
     "id": "53c1e631-ef66-4d1c-a45c-0085b242e218",
     "prev": "a7a9a44d-849b-44ba-9bba-60713929c2f8",
     "regions": {
      "ab142096-8a15-4541-ab0f-c70b7f8c68d6": {
       "attrs": {
        "height": 0.8,
        "width": 0.8,
        "x": 0.1,
        "y": 0.1
       },
       "content": {
        "cell": "81557e6b-6a22-40d6-99cb-1cec3a10388c",
        "part": "whole"
       },
       "id": "ab142096-8a15-4541-ab0f-c70b7f8c68d6"
      }
     }
    },
    "5c9c044e-4afb-435d-8990-7278f547f641": {
     "id": "5c9c044e-4afb-435d-8990-7278f547f641",
     "prev": "2f951040-8074-4ed7-9b00-d5818fb1a428",
     "regions": {
      "2e4de1f5-9fe6-45ad-953d-e01c7623c769": {
       "attrs": {
        "height": 0.8,
        "width": 0.8,
        "x": 0.1,
        "y": 0.1
       },
       "content": {
        "cell": "2751328b-8a36-432d-a422-b2fb46d26a76",
        "part": "whole"
       },
       "id": "2e4de1f5-9fe6-45ad-953d-e01c7623c769"
      }
     }
    },
    "6914809f-02ca-46ae-b2e3-951a49aecaee": {
     "id": "6914809f-02ca-46ae-b2e3-951a49aecaee",
     "prev": "056b9af4-6790-4e57-9c31-12cb203d1578",
     "regions": {
      "778c0b7d-49f5-4608-8a4a-85665e4f4ae0": {
       "attrs": {
        "height": 0.8,
        "width": 0.8,
        "x": 0.1,
        "y": 0.1
       },
       "content": {
        "cell": "85913535-d5e9-427f-b055-8dc2dbba317b",
        "part": "whole"
       },
       "id": "778c0b7d-49f5-4608-8a4a-85665e4f4ae0"
      }
     }
    },
    "97c401ac-5e4a-4f32-b7a4-2c5034f0e0a1": {
     "id": "97c401ac-5e4a-4f32-b7a4-2c5034f0e0a1",
     "prev": "e83737c1-6566-41ed-aa2f-180ea28c5471",
     "regions": {
      "8ea39656-d1db-494d-919d-8ab30f52efb5": {
       "attrs": {
        "height": 0.8,
        "width": 0.8,
        "x": 0.1,
        "y": 0.1
       },
       "content": {
        "cell": "afc0a575-767c-42d2-8fe3-6509c4b65c00",
        "part": "whole"
       },
       "id": "8ea39656-d1db-494d-919d-8ab30f52efb5"
      }
     }
    },
    "a7a9a44d-849b-44ba-9bba-60713929c2f8": {
     "id": "a7a9a44d-849b-44ba-9bba-60713929c2f8",
     "prev": "a94902be-f722-405a-8c2b-580e41701726",
     "regions": {
      "1bb3f244-d6f3-4fd7-8894-494811586400": {
       "attrs": {
        "height": 0.8,
        "width": 0.8,
        "x": 0.1,
        "y": 0.1
       },
       "content": {
        "cell": "fbbed715-29d8-4bc9-a1de-1c0cabffde95",
        "part": "whole"
       },
       "id": "1bb3f244-d6f3-4fd7-8894-494811586400"
      }
     }
    },
    "a8e2279b-236c-4118-b858-db120c273d7f": {
     "id": "a8e2279b-236c-4118-b858-db120c273d7f",
     "prev": "6914809f-02ca-46ae-b2e3-951a49aecaee",
     "regions": {
      "db53da35-71e9-4157-8b26-e79797ee49d6": {
       "attrs": {
        "height": 0.8,
        "width": 0.8,
        "x": 0.1,
        "y": 0.1
       },
       "content": {
        "cell": "d2e4c0e7-a491-4f2a-8a12-fde70882c2a9",
        "part": "whole"
       },
       "id": "db53da35-71e9-4157-8b26-e79797ee49d6"
      }
     }
    },
    "a94902be-f722-405a-8c2b-580e41701726": {
     "id": "a94902be-f722-405a-8c2b-580e41701726",
     "prev": "cb0fff07-7231-4379-a5ab-a4ed2559431d",
     "regions": {
      "40f5c23b-502b-47f4-b078-0bf279fab4e6": {
       "attrs": {
        "height": 0.8,
        "width": 0.8,
        "x": 0.1,
        "y": 0.1
       },
       "content": {
        "cell": "1ba6ac8f-1ce6-4911-858a-92fb2cb36770",
        "part": "whole"
       },
       "id": "40f5c23b-502b-47f4-b078-0bf279fab4e6"
      }
     }
    },
    "cb0fff07-7231-4379-a5ab-a4ed2559431d": {
     "id": "cb0fff07-7231-4379-a5ab-a4ed2559431d",
     "prev": null,
     "regions": {
      "efdeddb0-4fe9-4123-9769-8bbc8452f11f": {
       "attrs": {
        "height": 0.8,
        "width": 0.8,
        "x": 0.1,
        "y": 0.1
       },
       "content": {
        "cell": "6f3213df-e130-4428-8d96-5583b2072460",
        "part": "whole"
       },
       "id": "efdeddb0-4fe9-4123-9769-8bbc8452f11f"
      }
     }
    },
    "e83737c1-6566-41ed-aa2f-180ea28c5471": {
     "id": "e83737c1-6566-41ed-aa2f-180ea28c5471",
     "prev": "3ab93dd9-4c7f-4620-b105-d0ab07b20fd7",
     "regions": {
      "48e046f2-821d-4402-af6a-b05c2982f41a": {
       "attrs": {
        "height": 0.8,
        "width": 0.8,
        "x": 0.1,
        "y": 0.1
       },
       "content": {
        "cell": "f383d1df-fd5e-4dcf-a6b6-ee285e52bef5",
        "part": "whole"
       },
       "id": "48e046f2-821d-4402-af6a-b05c2982f41a"
      }
     }
    },
    "f66acf4c-ae6a-4277-938d-64ba3f2ea117": {
     "id": "f66acf4c-ae6a-4277-938d-64ba3f2ea117",
     "prev": "a8e2279b-236c-4118-b858-db120c273d7f",
     "regions": {
      "1040f5eb-7748-4d54-b8d7-b8a0e345cf1d": {
       "attrs": {
        "height": 0.8,
        "width": 0.8,
        "x": 0.1,
        "y": 0.1
       },
       "content": {
        "cell": "4641ed1a-36fc-43a6-867b-cdf0a1091b80",
        "part": "whole"
       },
       "id": "1040f5eb-7748-4d54-b8d7-b8a0e345cf1d"
      }
     }
    }
   },
   "themes": {
    "default": "b18d2b63-a84d-46d0-8b76-09de2f311430",
    "theme": {
     "b18d2b63-a84d-46d0-8b76-09de2f311430": {
      "id": "b18d2b63-a84d-46d0-8b76-09de2f311430",
      "palette": {
       "19cc588f-0593-49c9-9f4b-e4d7cc113b1c": {
        "id": "19cc588f-0593-49c9-9f4b-e4d7cc113b1c",
        "rgb": [
         252,
         252,
         252
        ]
       },
       "31af15d2-7e15-44c5-ab5e-e04b16a89eff": {
        "id": "31af15d2-7e15-44c5-ab5e-e04b16a89eff",
        "rgb": [
         68,
         68,
         68
        ]
       },
       "50f92c45-a630-455b-aec3-788680ec7410": {
        "id": "50f92c45-a630-455b-aec3-788680ec7410",
        "rgb": [
         155,
         177,
         192
        ]
       },
       "c5cc3653-2ee1-402a-aba2-7caae1da4f6c": {
        "id": "c5cc3653-2ee1-402a-aba2-7caae1da4f6c",
        "rgb": [
         43,
         126,
         184
        ]
       },
       "efa7f048-9acb-414c-8b04-a26811511a21": {
        "id": "efa7f048-9acb-414c-8b04-a26811511a21",
        "rgb": [
         25.118061674008803,
         73.60176211453744,
         107.4819383259912
        ]
       }
      },
      "rules": {
       "blockquote": {
        "color": "50f92c45-a630-455b-aec3-788680ec7410"
       },
       "code": {
        "font-family": "Anonymous Pro"
       },
       "h1": {
        "color": "c5cc3653-2ee1-402a-aba2-7caae1da4f6c",
        "font-family": "Lato",
        "font-size": 8
       },
       "h2": {
        "color": "c5cc3653-2ee1-402a-aba2-7caae1da4f6c",
        "font-family": "Lato",
        "font-size": 6
       },
       "h3": {
        "color": "50f92c45-a630-455b-aec3-788680ec7410",
        "font-family": "Lato",
        "font-size": 5.5
       },
       "h4": {
        "color": "c5cc3653-2ee1-402a-aba2-7caae1da4f6c",
        "font-family": "Lato",
        "font-size": 5
       },
       "h5": {
        "font-family": "Lato"
       },
       "h6": {
        "font-family": "Lato"
       },
       "h7": {
        "font-family": "Lato"
       },
       "pre": {
        "font-family": "Anonymous Pro",
        "font-size": 4
       }
      },
      "text-base": {
       "font-family": "Merriweather",
       "font-size": 4
      }
     }
    }
   }
  },
  "toc": {
   "colors": {
    "hover_highlight": "#DAA520",
    "navigate_num": "#000000",
    "navigate_text": "#333333",
    "running_highlight": "#FF0000",
    "selected_highlight": "#FFD700",
    "sidebar_border": "#EEEEEE",
    "wrapper_background": "#FFFFFF"
   },
   "moveMenuLeft": true,
   "nav_menu": {
    "height": "62px",
    "width": "252px"
   },
   "navigate_menu": true,
   "number_sections": true,
   "sideBar": true,
   "threshold": 4,
   "toc_cell": false,
   "toc_section_display": "block",
   "toc_window_display": false,
   "widenNotebook": false
  }
 },
 "nbformat": 4,
 "nbformat_minor": 2
}
