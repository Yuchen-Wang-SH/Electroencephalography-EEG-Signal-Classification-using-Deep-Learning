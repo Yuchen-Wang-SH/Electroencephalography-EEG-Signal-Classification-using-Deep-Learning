{
 "cells": [
  {
   "cell_type": "code",
   "execution_count": 1,
   "metadata": {
    "collapsed": true
   },
   "outputs": [],
   "source": [
    "import os\n",
    "os.chdir(\"../\")"
   ]
  },
  {
   "cell_type": "code",
   "execution_count": 2,
   "metadata": {
    "collapsed": true
   },
   "outputs": [],
   "source": [
    "DATA_DIR = \"./data/raw/BCI_Comp_III_Wads_2004/\""
   ]
  },
  {
   "cell_type": "code",
   "execution_count": 3,
   "metadata": {},
   "outputs": [
    {
     "name": "stderr",
     "output_type": "stream",
     "text": [
      "Using TensorFlow backend.\n"
     ]
    }
   ],
   "source": [
    "from src.data import preprocessing,extract_data\n",
    "from src.models import model\n",
    "import numpy as np\n",
    "import matplotlib.pyplot as plt\n",
    "\n",
    "%matplotlib inline\n",
    "%load_ext autoreload\n",
    "%autoreload 2"
   ]
  },
  {
   "cell_type": "code",
   "execution_count": 4,
   "metadata": {
    "collapsed": true
   },
   "outputs": [],
   "source": [
    "np.random.seed(42)"
   ]
  },
  {
   "cell_type": "markdown",
   "metadata": {},
   "source": [
    "# Subject A"
   ]
  },
  {
   "cell_type": "markdown",
   "metadata": {},
   "source": [
    "## Let's read in our data"
   ]
  },
  {
   "cell_type": "code",
   "execution_count": 5,
   "metadata": {
    "collapsed": true
   },
   "outputs": [],
   "source": [
    "seconds_to_slice = 0.65\n",
    "FS = 240\n",
    "num_electrodes = 64"
   ]
  },
  {
   "cell_type": "code",
   "execution_count": 6,
   "metadata": {},
   "outputs": [
    {
     "data": {
      "text/plain": [
       "'E:\\\\Project_Oracle\\\\EEG\\\\bci_iii_p300'"
      ]
     },
     "execution_count": 6,
     "metadata": {},
     "output_type": "execute_result"
    }
   ],
   "source": [
    "os.getcwd()"
   ]
  },
  {
   "cell_type": "code",
   "execution_count": 7,
   "metadata": {},
   "outputs": [
    {
     "name": "stdout",
     "output_type": "stream",
     "text": [
      "dict_keys(['code', 'signal', 'label', 'targetchar'])\n",
      "dict_keys(['code', 'signal'])\n"
     ]
    }
   ],
   "source": [
    "A_train = extract_data.extract_data(DATA_DIR+\"Subject_A_Train.mat\",seconds_to_slice)\n",
    "A_test = extract_data.extract_data(DATA_DIR+\"Subject_A_Test.mat\",seconds_to_slice)\n",
    "print(A_train.keys())\n",
    "print(A_test.keys())"
   ]
  },
  {
   "cell_type": "code",
   "execution_count": 8,
   "metadata": {},
   "outputs": [
    {
     "name": "stdout",
     "output_type": "stream",
     "text": [
      "(85, 15, 12, 64, 156)\n",
      "(100, 15, 12, 64, 156)\n",
      "(85, 15, 12)\n",
      "(100, 15, 12)\n",
      "(85, 15, 12)\n",
      "(1,)\n"
     ]
    }
   ],
   "source": [
    "print(A_train['signal'].shape)\n",
    "print(A_test['signal'].shape)\n",
    "print(A_train['code'].shape)\n",
    "print(A_test['code'].shape)\n",
    "print(A_train['label'].shape)\n",
    "print(A_train['targetchar'].shape)"
   ]
  },
  {
   "cell_type": "code",
   "execution_count": 9,
   "metadata": {},
   "outputs": [
    {
     "data": {
      "text/plain": [
       "'EAEVQTDOJG8RBRGONCEDHCTUIDBPUHMEM6OUXOCFOUKWA4VJEFRZROLHYNQDW_EKTLBWXEPOUIKZERYOOTHQI'"
      ]
     },
     "execution_count": 9,
     "metadata": {},
     "output_type": "execute_result"
    }
   ],
   "source": [
    "A_train['targetchar'][0]"
   ]
  },
  {
   "cell_type": "markdown",
   "metadata": {},
   "source": [
    "## Input Normalization"
   ]
  },
  {
   "cell_type": "markdown",
   "metadata": {},
   "source": [
    "### Subsample"
   ]
  },
  {
   "cell_type": "code",
   "execution_count": 10,
   "metadata": {},
   "outputs": [
    {
     "name": "stdout",
     "output_type": "stream",
     "text": [
      "(85, 15, 12, 64, 78)\n",
      "(100, 15, 12, 64, 78)\n"
     ]
    }
   ],
   "source": [
    "A_train['signal'] = preprocessing.subsample(A_train['signal'],2)\n",
    "A_test['signal'] = preprocessing.subsample(A_test['signal'],2)\n",
    "print(A_train['signal'].shape)\n",
    "print(A_test['signal'].shape)"
   ]
  },
  {
   "cell_type": "markdown",
   "metadata": {},
   "source": [
    "### Bandpass filter"
   ]
  },
  {
   "cell_type": "code",
   "execution_count": 11,
   "metadata": {
    "collapsed": true
   },
   "outputs": [],
   "source": [
    "# After subsampling,the frequency is equivalent to FS/2\n",
    "\n",
    "A_train['signal'] = preprocessing.butter_bandpass_filter(A_train['signal'],lowcut = 0.1,highcut = 20,\n",
    "                                                         fs = int(FS/2),order = 5,axis = -1)\n",
    "A_test['signal'] = preprocessing.butter_bandpass_filter(A_test['signal'],lowcut = 0.1,highcut = 20,\n",
    "                                                         fs = int(FS/2),order = 5,axis = -1)"
   ]
  },
  {
   "cell_type": "code",
   "execution_count": 12,
   "metadata": {},
   "outputs": [
    {
     "name": "stdout",
     "output_type": "stream",
     "text": [
      "(85, 15, 12, 64, 78)\n",
      "(100, 15, 12, 64, 78)\n"
     ]
    }
   ],
   "source": [
    "print(A_train['signal'].shape)\n",
    "print(A_test['signal'].shape)"
   ]
  },
  {
   "cell_type": "markdown",
   "metadata": {},
   "source": [
    "### Normalize on channel"
   ]
  },
  {
   "cell_type": "code",
   "execution_count": 13,
   "metadata": {},
   "outputs": [
    {
     "name": "stdout",
     "output_type": "stream",
     "text": [
      "(85, 15, 12, 64, 1)\n",
      "(85, 15, 12, 64, 1)\n",
      "(100, 15, 12, 64, 1)\n",
      "(100, 15, 12, 64, 1)\n"
     ]
    }
   ],
   "source": [
    "A_train_mean = A_train['signal'].mean(axis = -1,keepdims = True)\n",
    "A_train_std = A_train['signal'].std(axis = -1,keepdims = True)\n",
    "A_test_mean = A_test['signal'].mean(axis = -1,keepdims = True)\n",
    "A_test_std = A_test['signal'].std(axis = -1,keepdims = True)\n",
    "print(A_train_mean.shape)\n",
    "print(A_train_std.shape)\n",
    "print(A_test_mean.shape)\n",
    "print(A_test_std.shape)"
   ]
  },
  {
   "cell_type": "code",
   "execution_count": 14,
   "metadata": {
    "collapsed": true
   },
   "outputs": [],
   "source": [
    "A_train['signal'] = (A_train['signal']-A_train_mean)/A_train_std\n",
    "A_test['signal']  = (A_test['signal']-A_test_mean)/A_test_std"
   ]
  },
  {
   "cell_type": "markdown",
   "metadata": {},
   "source": [
    "## Do some visualization to get familiar with P300"
   ]
  },
  {
   "cell_type": "code",
   "execution_count": 15,
   "metadata": {
    "collapsed": true
   },
   "outputs": [],
   "source": [
    "sig_vis = A_train['signal'][3,2]\n",
    "code_vis = A_train['code'][3,2]\n",
    "label_vis = A_train['label'][3,2]"
   ]
  },
  {
   "cell_type": "code",
   "execution_count": 16,
   "metadata": {},
   "outputs": [
    {
     "name": "stdout",
     "output_type": "stream",
     "text": [
      "[  2.   7.   9.   4.   3.   6.   5.  10.   8.  12.  11.   1.]\n",
      "[ 0.  0.  0.  1.  0.  0.  0.  1.  0.  0.  0.  0.]\n"
     ]
    }
   ],
   "source": [
    "print(code_vis)\n",
    "print(label_vis)"
   ]
  },
  {
   "cell_type": "markdown",
   "metadata": {},
   "source": [
    "It should be a V"
   ]
  },
  {
   "cell_type": "code",
   "execution_count": 17,
   "metadata": {},
   "outputs": [
    {
     "name": "stdout",
     "output_type": "stream",
     "text": [
      "V\n"
     ]
    }
   ],
   "source": [
    "print(A_train['targetchar'][0][3])"
   ]
  },
  {
   "cell_type": "markdown",
   "metadata": {},
   "source": [
    "### A positive sample"
   ]
  },
  {
   "cell_type": "markdown",
   "metadata": {},
   "source": [
    "Our data has 78 points which represents 0.65s so we have to draw a vertical line at:\n",
    "\n",
    "78 / 0.65 * 0.3 = 36"
   ]
  },
  {
   "cell_type": "code",
   "execution_count": 18,
   "metadata": {},
   "outputs": [
    {
     "data": {
      "image/png": "[encoded data removed]",
      "text/plain": [
       "<matplotlib.figure.Figure at 0x24e0baa0198>"
      ]
     },
     "metadata": {},
     "output_type": "display_data"
    }
   ],
   "source": [
    "from src.visualization import visualize\n",
    "visualize.electrodes_selected_visualize(sig_vis[3],elec_to_vis = [10,20,30,40],n_rows = 2,x_vline = 36)"
   ]
  },
  {
   "cell_type": "markdown",
   "metadata": {},
   "source": [
    "It really doesn't make sense to read P300 directly from single trial...You can't really tell whether a peak near 300 is P300"
   ]
  },
  {
   "cell_type": "markdown",
   "metadata": {},
   "source": [
    "### A negative sample"
   ]
  },
  {
   "cell_type": "code",
   "execution_count": 19,
   "metadata": {
    "scrolled": true
   },
   "outputs": [
    {
     "data": {
      "image/png": "[encoded data removed]",
      "text/plain": [
       "<matplotlib.figure.Figure at 0x24e0baa0b38>"
      ]
     },
     "metadata": {},
     "output_type": "display_data"
    }
   ],
   "source": [
    "visualize.electrodes_selected_visualize(sig_vis[10],elec_to_vis = [10,20,30,40],n_rows = 2,x_vline = 36)"
   ]
  },
  {
   "cell_type": "markdown",
   "metadata": {},
   "source": [
    "Well let's just forget about visualizing and keep going."
   ]
  },
  {
   "cell_type": "markdown",
   "metadata": {},
   "source": [
    "## Build our model"
   ]
  },
  {
   "cell_type": "code",
   "execution_count": 22,
   "metadata": {
    "collapsed": true
   },
   "outputs": [],
   "source": [
    "from keras import layers, models\n",
    "from keras import backend as K\n",
    "from keras.utils.generic_utils import get_custom_objects\n",
    "import tensorflow as tf\n",
    "\n",
    "\n",
    "# In the original paper they use a custom activation function for\n",
    "# the first two layers\n",
    "\n",
    "\n",
    "\n",
    "\n",
    "# model.add(Activation(custom_activation))\n",
    "\n",
    "def CNN_1_P300_PAMI_BCIIII(Ns=10, seconds_to_slice=0.65):\n",
    "    \"\"\" Reference: Convolutional Neural Networks for P300 Detection with Application to Brain-Computer Interfaces\n",
    "\n",
    "    return an uncompiled model\n",
    "\n",
    "    \"\"\"\n",
    "    # Let's define the custom activation function used in this layer first\n",
    "    def sigmoid_pami_p300(x):\n",
    "        return 1.7159 * K.tanh(2 * x / 3)\n",
    "\n",
    "    get_custom_objects().update({'custom_activation': layers.Activation(sigmoid_pami_p300)})\n",
    "    \n",
    "    # Then we build the model\n",
    "    num_electrodes = 64\n",
    "    Fs = 120  # Original Fs is 240Hz but in this paper they have subsampled\n",
    "    points_to_slice = int(Fs * seconds_to_slice)\n",
    "    input_layer = layers.Input([num_electrodes, points_to_slice,1])\n",
    "    conv_1 = layers.convolutional.Conv2D(filters=Ns, kernel_size=[num_electrodes, 1], strides=[1, 1],\n",
    "                                         activation='linear')(input_layer)\n",
    "    \n",
    "    conv_1_acti = layers.Activation(sigmoid_pami_p300)(conv_1)\n",
    "    # It's slightly different in the paper though..(filter have same parameter along the same axis)but I decide to use this more modern choice\n",
    "    conv_2 = layers.convolutional.Conv2D(filters=5 * Ns, kernel_size=[1, 13], strides=[1, 13],\n",
    "                                         activation='linear')(conv_1_acti)\n",
    "    conv_2_acti = layers.Activation(sigmoid_pami_p300)(conv_2)\n",
    "    flatten = layers.Flatten()(conv_2_acti)\n",
    "    fc = layers.Dense(100,activation='sigmoid')(flatten)\n",
    "    output_layer = layers.Dense(2,activation='sigmoid')(fc)\n",
    "\n",
    "    model = models.Model(inputs = input_layer,outputs=output_layer)\n",
    "\n",
    "    return model"
   ]
  },
  {
   "cell_type": "code",
   "execution_count": 23,
   "metadata": {},
   "outputs": [],
   "source": [
    "model_cnn1 = CNN_1_P300_PAMI_BCIIII(Ns = 10,seconds_to_slice = seconds_to_slice)"
   ]
  },
  {
   "cell_type": "code",
   "execution_count": 24,
   "metadata": {},
   "outputs": [
    {
     "name": "stdout",
     "output_type": "stream",
     "text": [
      "_________________________________________________________________\n",
      "Layer (type)                 Output Shape              Param #   \n",
      "=================================================================\n",
      "input_2 (InputLayer)         (None, 64, 78, 1)         0         \n",
      "_________________________________________________________________\n",
      "conv2d_3 (Conv2D)            (None, 1, 78, 10)         650       \n",
      "_________________________________________________________________\n",
      "activation_6 (Activation)    (None, 1, 78, 10)         0         \n",
      "_________________________________________________________________\n",
      "conv2d_4 (Conv2D)            (None, 1, 6, 50)          6550      \n",
      "_________________________________________________________________\n",
      "activation_7 (Activation)    (None, 1, 6, 50)          0         \n",
      "_________________________________________________________________\n",
      "flatten_2 (Flatten)          (None, 300)               0         \n",
      "_________________________________________________________________\n",
      "dense_3 (Dense)              (None, 100)               30100     \n",
      "_________________________________________________________________\n",
      "dense_4 (Dense)              (None, 2)                 202       \n",
      "=================================================================\n",
      "Total params: 37,502\n",
      "Trainable params: 37,502\n",
      "Non-trainable params: 0\n",
      "_________________________________________________________________\n"
     ]
    }
   ],
   "source": [
    "model_cnn1.summary()"
   ]
  },
  {
   "cell_type": "markdown",
   "metadata": {},
   "source": [
    "It seems like the original paper's conv2 has same parameters along the channel axis but I'll go with the modern architecture which is Conv2D."
   ]
  },
  {
   "cell_type": "code",
   "execution_count": 25,
   "metadata": {
    "collapsed": true
   },
   "outputs": [],
   "source": [
    "from keras.callbacks import EarlyStopping\n",
    "earlystopping = EarlyStopping(monitor = 'val_mse',patience = 10)  # val_mse is invalid\n",
    "\n",
    "model_cnn1.compile(optimizer='sgd',loss = 'binary_crossentropy',metrics = ['acc'])"
   ]
  },
  {
   "cell_type": "code",
   "execution_count": 26,
   "metadata": {},
   "outputs": [
    {
     "name": "stdout",
     "output_type": "stream",
     "text": [
      "(85, 15, 12, 64, 78)\n",
      "(85, 15, 12)\n"
     ]
    }
   ],
   "source": [
    "print(A_train['signal'].shape)\n",
    "print(A_train['label'].shape)"
   ]
  },
  {
   "cell_type": "code",
   "execution_count": 27,
   "metadata": {
    "collapsed": true
   },
   "outputs": [],
   "source": [
    "A_train['signal'] = A_train['signal'].reshape([-1,64,78])\n",
    "A_train['label'] = A_train['label'].reshape([-1,])"
   ]
  },
  {
   "cell_type": "code",
   "execution_count": 28,
   "metadata": {
    "collapsed": true
   },
   "outputs": [],
   "source": [
    "A_train['signal'] = np.expand_dims(A_train['signal'],-1)"
   ]
  },
  {
   "cell_type": "code",
   "execution_count": 29,
   "metadata": {},
   "outputs": [
    {
     "name": "stdout",
     "output_type": "stream",
     "text": [
      "(15300, 64, 78, 1)\n",
      "(15300,)\n"
     ]
    }
   ],
   "source": [
    "print(A_train['signal'].shape)\n",
    "print(A_train['label'].shape)"
   ]
  },
  {
   "cell_type": "code",
   "execution_count": 30,
   "metadata": {},
   "outputs": [
    {
     "data": {
      "text/plain": [
       "array([ 0.,  0.,  0.,  0.,  0.,  1.,  0.,  0.,  0.,  1.,  0.,  0.])"
      ]
     },
     "execution_count": 30,
     "metadata": {},
     "output_type": "execute_result"
    }
   ],
   "source": [
    "A_train['label'][0:12]"
   ]
  },
  {
   "cell_type": "code",
   "execution_count": 31,
   "metadata": {},
   "outputs": [
    {
     "name": "stdout",
     "output_type": "stream",
     "text": [
      "(15300, 2)\n"
     ]
    }
   ],
   "source": [
    "from keras.utils import to_categorical\n",
    "A_train['label'] = to_categorical(A_train['label'],2)\n",
    "print(A_train['label'].shape)"
   ]
  },
  {
   "cell_type": "code",
   "execution_count": 46,
   "metadata": {},
   "outputs": [
    {
     "name": "stdout",
     "output_type": "stream",
     "text": [
      "Train on 14535 samples, validate on 765 samples\n",
      "Epoch 1/100\n",
      "14336/14535 [============================>.] - ETA: 0s - loss: 0.4588 - acc: 0.8328"
     ]
    },
    {
     "name": "stderr",
     "output_type": "stream",
     "text": [
      "D:\\Anaconda3\\lib\\site-packages\\keras\\callbacks.py:494: RuntimeWarning: Early stopping requires val_mse available!\n",
      "  (self.monitor), RuntimeWarning)\n"
     ]
    },
    {
     "ename": "TypeError",
     "evalue": "unsupported operand type(s) for -: 'NoneType' and 'int'",
     "output_type": "error",
     "traceback": [
      "\u001b[0;31m---------------------------------------------------------------------------\u001b[0m",
      "\u001b[0;31mTypeError\u001b[0m                                 Traceback (most recent call last)",
      "\u001b[0;32m<ipython-input-46-ae16cb25c916>\u001b[0m in \u001b[0;36m<module>\u001b[0;34m()\u001b[0m\n\u001b[0;32m----> 1\u001b[0;31m \u001b[0mmodel_cnn1\u001b[0m\u001b[1;33m.\u001b[0m\u001b[0mfit\u001b[0m\u001b[1;33m(\u001b[0m\u001b[0mA_train\u001b[0m\u001b[1;33m[\u001b[0m\u001b[1;34m'signal'\u001b[0m\u001b[1;33m]\u001b[0m\u001b[1;33m,\u001b[0m\u001b[0mA_train\u001b[0m\u001b[1;33m[\u001b[0m\u001b[1;34m'label'\u001b[0m\u001b[1;33m]\u001b[0m\u001b[1;33m,\u001b[0m\u001b[0mbatch_size\u001b[0m\u001b[1;33m=\u001b[0m\u001b[1;36m64\u001b[0m\u001b[1;33m,\u001b[0m\u001b[0mepochs\u001b[0m\u001b[1;33m=\u001b[0m\u001b[1;36m100\u001b[0m\u001b[1;33m,\u001b[0m\u001b[0mcallbacks\u001b[0m\u001b[1;33m=\u001b[0m\u001b[1;33m[\u001b[0m\u001b[0mearlystopping\u001b[0m\u001b[1;33m]\u001b[0m\u001b[1;33m,\u001b[0m\u001b[0mvalidation_split\u001b[0m\u001b[1;33m=\u001b[0m\u001b[1;36m0.05\u001b[0m\u001b[1;33m)\u001b[0m\u001b[1;33m\u001b[0m\u001b[0m\n\u001b[0m",
      "\u001b[0;32mD:\\Anaconda3\\lib\\site-packages\\keras\\engine\\training.py\u001b[0m in \u001b[0;36mfit\u001b[0;34m(self, x, y, batch_size, epochs, verbose, callbacks, validation_split, validation_data, shuffle, class_weight, sample_weight, initial_epoch, **kwargs)\u001b[0m\n\u001b[1;32m   1505\u001b[0m                               \u001b[0mval_f\u001b[0m\u001b[1;33m=\u001b[0m\u001b[0mval_f\u001b[0m\u001b[1;33m,\u001b[0m \u001b[0mval_ins\u001b[0m\u001b[1;33m=\u001b[0m\u001b[0mval_ins\u001b[0m\u001b[1;33m,\u001b[0m \u001b[0mshuffle\u001b[0m\u001b[1;33m=\u001b[0m\u001b[0mshuffle\u001b[0m\u001b[1;33m,\u001b[0m\u001b[1;33m\u001b[0m\u001b[0m\n\u001b[1;32m   1506\u001b[0m                               \u001b[0mcallback_metrics\u001b[0m\u001b[1;33m=\u001b[0m\u001b[0mcallback_metrics\u001b[0m\u001b[1;33m,\u001b[0m\u001b[1;33m\u001b[0m\u001b[0m\n\u001b[0;32m-> 1507\u001b[0;31m                               initial_epoch=initial_epoch)\n\u001b[0m\u001b[1;32m   1508\u001b[0m \u001b[1;33m\u001b[0m\u001b[0m\n\u001b[1;32m   1509\u001b[0m     \u001b[1;32mdef\u001b[0m \u001b[0mevaluate\u001b[0m\u001b[1;33m(\u001b[0m\u001b[0mself\u001b[0m\u001b[1;33m,\u001b[0m \u001b[0mx\u001b[0m\u001b[1;33m,\u001b[0m \u001b[0my\u001b[0m\u001b[1;33m,\u001b[0m \u001b[0mbatch_size\u001b[0m\u001b[1;33m=\u001b[0m\u001b[1;36m32\u001b[0m\u001b[1;33m,\u001b[0m \u001b[0mverbose\u001b[0m\u001b[1;33m=\u001b[0m\u001b[1;36m1\u001b[0m\u001b[1;33m,\u001b[0m \u001b[0msample_weight\u001b[0m\u001b[1;33m=\u001b[0m\u001b[1;32mNone\u001b[0m\u001b[1;33m)\u001b[0m\u001b[1;33m:\u001b[0m\u001b[1;33m\u001b[0m\u001b[0m\n",
      "\u001b[0;32mD:\\Anaconda3\\lib\\site-packages\\keras\\engine\\training.py\u001b[0m in \u001b[0;36m_fit_loop\u001b[0;34m(self, f, ins, out_labels, batch_size, epochs, verbose, callbacks, val_f, val_ins, shuffle, callback_metrics, initial_epoch)\u001b[0m\n\u001b[1;32m   1174\u001b[0m                         \u001b[1;32mfor\u001b[0m \u001b[0ml\u001b[0m\u001b[1;33m,\u001b[0m \u001b[0mo\u001b[0m \u001b[1;32min\u001b[0m \u001b[0mzip\u001b[0m\u001b[1;33m(\u001b[0m\u001b[0mout_labels\u001b[0m\u001b[1;33m,\u001b[0m \u001b[0mval_outs\u001b[0m\u001b[1;33m)\u001b[0m\u001b[1;33m:\u001b[0m\u001b[1;33m\u001b[0m\u001b[0m\n\u001b[1;32m   1175\u001b[0m                             \u001b[0mepoch_logs\u001b[0m\u001b[1;33m[\u001b[0m\u001b[1;34m'val_'\u001b[0m \u001b[1;33m+\u001b[0m \u001b[0ml\u001b[0m\u001b[1;33m]\u001b[0m \u001b[1;33m=\u001b[0m \u001b[0mo\u001b[0m\u001b[1;33m\u001b[0m\u001b[0m\n\u001b[0;32m-> 1176\u001b[0;31m             \u001b[0mcallbacks\u001b[0m\u001b[1;33m.\u001b[0m\u001b[0mon_epoch_end\u001b[0m\u001b[1;33m(\u001b[0m\u001b[0mepoch\u001b[0m\u001b[1;33m,\u001b[0m \u001b[0mepoch_logs\u001b[0m\u001b[1;33m)\u001b[0m\u001b[1;33m\u001b[0m\u001b[0m\n\u001b[0m\u001b[1;32m   1177\u001b[0m             \u001b[1;32mif\u001b[0m \u001b[0mcallback_model\u001b[0m\u001b[1;33m.\u001b[0m\u001b[0mstop_training\u001b[0m\u001b[1;33m:\u001b[0m\u001b[1;33m\u001b[0m\u001b[0m\n\u001b[1;32m   1178\u001b[0m                 \u001b[1;32mbreak\u001b[0m\u001b[1;33m\u001b[0m\u001b[0m\n",
      "\u001b[0;32mD:\\Anaconda3\\lib\\site-packages\\keras\\callbacks.py\u001b[0m in \u001b[0;36mon_epoch_end\u001b[0;34m(self, epoch, logs)\u001b[0m\n\u001b[1;32m     75\u001b[0m         \u001b[0mlogs\u001b[0m \u001b[1;33m=\u001b[0m \u001b[0mlogs\u001b[0m \u001b[1;32mor\u001b[0m \u001b[1;33m{\u001b[0m\u001b[1;33m}\u001b[0m\u001b[1;33m\u001b[0m\u001b[0m\n\u001b[1;32m     76\u001b[0m         \u001b[1;32mfor\u001b[0m \u001b[0mcallback\u001b[0m \u001b[1;32min\u001b[0m \u001b[0mself\u001b[0m\u001b[1;33m.\u001b[0m\u001b[0mcallbacks\u001b[0m\u001b[1;33m:\u001b[0m\u001b[1;33m\u001b[0m\u001b[0m\n\u001b[0;32m---> 77\u001b[0;31m             \u001b[0mcallback\u001b[0m\u001b[1;33m.\u001b[0m\u001b[0mon_epoch_end\u001b[0m\u001b[1;33m(\u001b[0m\u001b[0mepoch\u001b[0m\u001b[1;33m,\u001b[0m \u001b[0mlogs\u001b[0m\u001b[1;33m)\u001b[0m\u001b[1;33m\u001b[0m\u001b[0m\n\u001b[0m\u001b[1;32m     78\u001b[0m \u001b[1;33m\u001b[0m\u001b[0m\n\u001b[1;32m     79\u001b[0m     \u001b[1;32mdef\u001b[0m \u001b[0mon_batch_begin\u001b[0m\u001b[1;33m(\u001b[0m\u001b[0mself\u001b[0m\u001b[1;33m,\u001b[0m \u001b[0mbatch\u001b[0m\u001b[1;33m,\u001b[0m \u001b[0mlogs\u001b[0m\u001b[1;33m=\u001b[0m\u001b[1;32mNone\u001b[0m\u001b[1;33m)\u001b[0m\u001b[1;33m:\u001b[0m\u001b[1;33m\u001b[0m\u001b[0m\n",
      "\u001b[0;32mD:\\Anaconda3\\lib\\site-packages\\keras\\callbacks.py\u001b[0m in \u001b[0;36mon_epoch_end\u001b[0;34m(self, epoch, logs)\u001b[0m\n\u001b[1;32m    494\u001b[0m                           (self.monitor), RuntimeWarning)\n\u001b[1;32m    495\u001b[0m \u001b[1;33m\u001b[0m\u001b[0m\n\u001b[0;32m--> 496\u001b[0;31m         \u001b[1;32mif\u001b[0m \u001b[0mself\u001b[0m\u001b[1;33m.\u001b[0m\u001b[0mmonitor_op\u001b[0m\u001b[1;33m(\u001b[0m\u001b[0mcurrent\u001b[0m \u001b[1;33m-\u001b[0m \u001b[0mself\u001b[0m\u001b[1;33m.\u001b[0m\u001b[0mmin_delta\u001b[0m\u001b[1;33m,\u001b[0m \u001b[0mself\u001b[0m\u001b[1;33m.\u001b[0m\u001b[0mbest\u001b[0m\u001b[1;33m)\u001b[0m\u001b[1;33m:\u001b[0m\u001b[1;33m\u001b[0m\u001b[0m\n\u001b[0m\u001b[1;32m    497\u001b[0m             \u001b[0mself\u001b[0m\u001b[1;33m.\u001b[0m\u001b[0mbest\u001b[0m \u001b[1;33m=\u001b[0m \u001b[0mcurrent\u001b[0m\u001b[1;33m\u001b[0m\u001b[0m\n\u001b[1;32m    498\u001b[0m             \u001b[0mself\u001b[0m\u001b[1;33m.\u001b[0m\u001b[0mwait\u001b[0m \u001b[1;33m=\u001b[0m \u001b[1;36m0\u001b[0m\u001b[1;33m\u001b[0m\u001b[0m\n",
      "\u001b[0;31mTypeError\u001b[0m: unsupported operand type(s) for -: 'NoneType' and 'int'"
     ]
    }
   ],
   "source": [
    "model_cnn1.fit(A_train['signal'],A_train['label'],batch_size=64,epochs=100,callbacks=[earlystopping],validation_split=0.05)"
   ]
  },
  {
   "cell_type": "code",
   "execution_count": 43,
   "metadata": {
    "collapsed": true
   },
   "outputs": [],
   "source": [
    "earlystopping = EarlyStopping(monitor = 'val_acc',patience = 10)  # val_mse is invalid"
   ]
  },
  {
   "cell_type": "markdown",
   "metadata": {},
   "source": [
    "I want to custome some metrics."
   ]
  },
  {
   "cell_type": "markdown",
   "metadata": {},
   "source": [
    "## Custom metrics in Keras"
   ]
  },
  {
   "cell_type": "code",
   "execution_count": 44,
   "metadata": {
    "scrolled": true
   },
   "outputs": [],
   "source": [
    "def true_positive(y_true,y_pred):\n",
    "    cmx = tf.confusion_matrix(K.argmax(y_true, axis = 1), K.argmax(y_pred, axis = 1))\n",
    "    return tf.gather_nd(cmx, [[0,0]])\n",
    "\n",
    "model_cnn1.compile(optimizer='sgd',loss = 'binary_crossentropy',metrics = ['acc',true_positive])"
   ]
  },
  {
   "cell_type": "code",
   "execution_count": 45,
   "metadata": {},
   "outputs": [
    {
     "name": "stdout",
     "output_type": "stream",
     "text": [
      "Train on 14535 samples, validate on 765 samples\n",
      "Epoch 1/100\n",
      "14535/14535 [==============================] - 3s - loss: 0.4338 - acc: 0.8333 - true_positive: 53.3037 - val_loss: 0.4223 - val_acc: 0.8340 - val_true_positive: 53.1752\n",
      "Epoch 2/100\n",
      "14535/14535 [==============================] - 2s - loss: 0.4296 - acc: 0.8333 - true_positive: 53.3076 - val_loss: 0.4168 - val_acc: 0.8340 - val_true_positive: 53.1752\n",
      "Epoch 3/100\n",
      "14535/14535 [==============================] - 2s - loss: 0.4255 - acc: 0.8333 - true_positive: 53.3154 - val_loss: 0.4124 - val_acc: 0.8340 - val_true_positive: 53.1752\n",
      "Epoch 4/100\n",
      "14535/14535 [==============================] - 2s - loss: 0.4212 - acc: 0.8333 - true_positive: 53.3076 - val_loss: 0.4074 - val_acc: 0.8340 - val_true_positive: 53.1752\n",
      "Epoch 5/100\n",
      "14535/14535 [==============================] - 2s - loss: 0.4169 - acc: 0.8333 - true_positive: 53.3037 - val_loss: 0.4034 - val_acc: 0.8340 - val_true_positive: 53.1752\n",
      "Epoch 6/100\n",
      "14535/14535 [==============================] - 2s - loss: 0.4128 - acc: 0.8333 - true_positive: 53.2993 - val_loss: 0.3994 - val_acc: 0.8340 - val_true_positive: 53.1752\n",
      "Epoch 7/100\n",
      "14535/14535 [==============================] - 2s - loss: 0.4090 - acc: 0.8336 - true_positive: 53.2861 - val_loss: 0.3957 - val_acc: 0.8333 - val_true_positive: 53.0954\n",
      "Epoch 8/100\n",
      "14535/14535 [==============================] - 2s - loss: 0.4055 - acc: 0.8337 - true_positive: 53.2592 - val_loss: 0.3909 - val_acc: 0.8353 - val_true_positive: 53.0954\n",
      "Epoch 9/100\n",
      "14535/14535 [==============================] - 2s - loss: 0.4023 - acc: 0.8344 - true_positive: 53.2288 - val_loss: 0.3900 - val_acc: 0.8333 - val_true_positive: 53.0954\n",
      "Epoch 10/100\n",
      "14535/14535 [==============================] - 2s - loss: 0.3995 - acc: 0.8356 - true_positive: 53.2024 - val_loss: 0.3845 - val_acc: 0.8373 - val_true_positive: 53.0118\n",
      "Epoch 11/100\n",
      "14535/14535 [==============================] - 2s - loss: 0.3968 - acc: 0.8361 - true_positive: 53.1271 - val_loss: 0.3815 - val_acc: 0.8399 - val_true_positive: 52.9281\n",
      "Epoch 12/100\n",
      "14535/14535 [==============================] - 2s - loss: 0.3945 - acc: 0.8370 - true_positive: 53.0527 - val_loss: 0.3799 - val_acc: 0.8392 - val_true_positive: 52.9281\n",
      "Epoch 13/100\n",
      "14535/14535 [==============================] - 2s - loss: 0.3924 - acc: 0.8374 - true_positive: 53.0082 - val_loss: 0.3760 - val_acc: 0.8431 - val_true_positive: 52.9281\n",
      "Epoch 14/100\n",
      "14535/14535 [==============================] - 2s - loss: 0.3906 - acc: 0.8394 - true_positive: 52.9901 - val_loss: 0.3777 - val_acc: 0.8379 - val_true_positive: 52.6771\n",
      "Epoch 15/100\n",
      "14535/14535 [==============================] - 2s - loss: 0.3890 - acc: 0.8395 - true_positive: 52.8898 - val_loss: 0.3751 - val_acc: 0.8412 - val_true_positive: 52.5935\n",
      "Epoch 16/100\n",
      "14535/14535 [==============================] - 2s - loss: 0.3874 - acc: 0.8401 - true_positive: 52.8277 - val_loss: 0.3716 - val_acc: 0.8425 - val_true_positive: 52.6771\n",
      "Epoch 17/100\n",
      "14535/14535 [==============================] - 2s - loss: 0.3862 - acc: 0.8402 - true_positive: 52.8012 - val_loss: 0.3693 - val_acc: 0.8438 - val_true_positive: 52.4261\n",
      "Epoch 18/100\n",
      "14535/14535 [==============================] - 2s - loss: 0.3847 - acc: 0.8413 - true_positive: 52.7127 - val_loss: 0.3674 - val_acc: 0.8438 - val_true_positive: 52.6771\n",
      "Epoch 19/100\n",
      "14535/14535 [==============================] - 2s - loss: 0.3836 - acc: 0.8415 - true_positive: 52.7347 - val_loss: 0.3660 - val_acc: 0.8471 - val_true_positive: 52.3425\n",
      "Epoch 20/100\n",
      "14535/14535 [==============================] - 2s - loss: 0.3824 - acc: 0.8421 - true_positive: 52.6814 - val_loss: 0.3638 - val_acc: 0.8497 - val_true_positive: 52.3425\n",
      "Epoch 21/100\n",
      "14535/14535 [==============================] - 2s - loss: 0.3811 - acc: 0.8431 - true_positive: 52.5987 - val_loss: 0.3646 - val_acc: 0.8444 - val_true_positive: 52.3425\n",
      "Epoch 22/100\n",
      "14535/14535 [==============================] - 2s - loss: 0.3800 - acc: 0.8434 - true_positive: 52.6295 - val_loss: 0.3625 - val_acc: 0.8471 - val_true_positive: 52.3425\n",
      "Epoch 23/100\n",
      "14535/14535 [==============================] - 2s - loss: 0.3789 - acc: 0.8431 - true_positive: 52.5987 - val_loss: 0.3628 - val_acc: 0.8458 - val_true_positive: 52.1752\n",
      "Epoch 24/100\n",
      "14535/14535 [==============================] - 2s - loss: 0.3775 - acc: 0.8443 - true_positive: 52.5238 - val_loss: 0.3598 - val_acc: 0.8490 - val_true_positive: 52.2588\n",
      "Epoch 25/100\n",
      "14535/14535 [==============================] - 2s - loss: 0.3765 - acc: 0.8445 - true_positive: 52.5322 - val_loss: 0.3595 - val_acc: 0.8464 - val_true_positive: 52.1752\n",
      "Epoch 26/100\n",
      "14535/14535 [==============================] - 2s - loss: 0.3753 - acc: 0.8449 - true_positive: 52.5268 - val_loss: 0.3573 - val_acc: 0.8490 - val_true_positive: 52.0915\n",
      "Epoch 27/100\n",
      "14535/14535 [==============================] - 2s - loss: 0.3742 - acc: 0.8457 - true_positive: 52.4490 - val_loss: 0.3565 - val_acc: 0.8471 - val_true_positive: 52.1752\n",
      "Epoch 28/100\n",
      "14535/14535 [==============================] - 2s - loss: 0.3730 - acc: 0.8455 - true_positive: 52.5062 - val_loss: 0.3545 - val_acc: 0.8471 - val_true_positive: 52.1752\n",
      "Epoch 29/100\n",
      "14535/14535 [==============================] - 2s - loss: 0.3715 - acc: 0.8465 - true_positive: 52.4539 - val_loss: 0.3561 - val_acc: 0.8451 - val_true_positive: 52.0915\n",
      "Epoch 30/100\n",
      "14535/14535 [==============================] - 2s - loss: 0.3706 - acc: 0.8465 - true_positive: 52.4314 - val_loss: 0.3527 - val_acc: 0.8471 - val_true_positive: 52.1752\n",
      "Epoch 31/100\n",
      "14535/14535 [==============================] - 2s - loss: 0.3694 - acc: 0.8471 - true_positive: 52.3873 - val_loss: 0.3521 - val_acc: 0.8477 - val_true_positive: 52.0915\n"
     ]
    },
    {
     "data": {
      "text/plain": [
       "<keras.callbacks.History at 0x24e61365ba8>"
      ]
     },
     "execution_count": 45,
     "metadata": {},
     "output_type": "execute_result"
    }
   ],
   "source": [
    "model_cnn1.fit(A_train['signal'],A_train['label'],batch_size=64,epochs=100,callbacks=[earlystopping],validation_split=0.05)"
   ]
  },
  {
   "cell_type": "markdown",
   "metadata": {},
   "source": [
    "Clearly true_positive as a metric is not we want."
   ]
  },
  {
   "cell_type": "code",
   "execution_count": 49,
   "metadata": {
    "collapsed": true
   },
   "outputs": [],
   "source": [
    "model_cnn1.compile(optimizer='sgd',loss = 'binary_crossentropy',metrics = ['acc'])"
   ]
  },
  {
   "cell_type": "code",
   "execution_count": 50,
   "metadata": {
    "collapsed": true
   },
   "outputs": [],
   "source": [
    "earlystopping = EarlyStopping(monitor = 'val_loss',patience = 10)"
   ]
  },
  {
   "cell_type": "code",
   "execution_count": 51,
   "metadata": {},
   "outputs": [
    {
     "name": "stdout",
     "output_type": "stream",
     "text": [
      "Train on 14535 samples, validate on 765 samples\n",
      "Epoch 1/100\n",
      "14535/14535 [==============================] - 3s - loss: 0.4305 - acc: 0.8333 - val_loss: 0.4159 - val_acc: 0.8340\n",
      "Epoch 2/100\n",
      "14535/14535 [==============================] - 2s - loss: 0.4269 - acc: 0.8333 - val_loss: 0.4122 - val_acc: 0.8340\n",
      "Epoch 3/100\n",
      "14535/14535 [==============================] - 2s - loss: 0.4230 - acc: 0.8333 - val_loss: 0.4073 - val_acc: 0.8340\n",
      "Epoch 4/100\n",
      "14535/14535 [==============================] - 2s - loss: 0.4186 - acc: 0.8333 - val_loss: 0.4029 - val_acc: 0.8340\n",
      "Epoch 5/100\n",
      "14535/14535 [==============================] - 2s - loss: 0.4145 - acc: 0.8333 - val_loss: 0.3987 - val_acc: 0.8340\n",
      "Epoch 6/100\n",
      "14535/14535 [==============================] - 2s - loss: 0.4103 - acc: 0.8333 - val_loss: 0.3949 - val_acc: 0.8333\n",
      "Epoch 7/100\n",
      "14535/14535 [==============================] - 2s - loss: 0.4066 - acc: 0.8338 - val_loss: 0.3911 - val_acc: 0.8327\n",
      "Epoch 8/100\n",
      "14535/14535 [==============================] - 2s - loss: 0.4031 - acc: 0.8347 - val_loss: 0.3873 - val_acc: 0.8327\n",
      "Epoch 9/100\n",
      "14535/14535 [==============================] - 2s - loss: 0.3999 - acc: 0.8351 - val_loss: 0.3834 - val_acc: 0.8379\n",
      "Epoch 10/100\n",
      "14535/14535 [==============================] - 2s - loss: 0.3969 - acc: 0.8358 - val_loss: 0.3806 - val_acc: 0.8366\n",
      "Epoch 11/100\n",
      "14535/14535 [==============================] - 2s - loss: 0.3943 - acc: 0.8365 - val_loss: 0.3769 - val_acc: 0.8425\n",
      "Epoch 12/100\n",
      "14535/14535 [==============================] - 2s - loss: 0.3920 - acc: 0.8377 - val_loss: 0.3749 - val_acc: 0.8418\n",
      "Epoch 13/100\n",
      "14535/14535 [==============================] - 2s - loss: 0.3897 - acc: 0.8385 - val_loss: 0.3715 - val_acc: 0.8431\n",
      "Epoch 14/100\n",
      "14535/14535 [==============================] - 2s - loss: 0.3878 - acc: 0.8393 - val_loss: 0.3717 - val_acc: 0.8418\n",
      "Epoch 15/100\n",
      "14535/14535 [==============================] - 3s - loss: 0.3859 - acc: 0.8393 - val_loss: 0.3695 - val_acc: 0.8438\n",
      "Epoch 16/100\n",
      "14535/14535 [==============================] - 3s - loss: 0.3840 - acc: 0.8407 - val_loss: 0.3662 - val_acc: 0.8451\n",
      "Epoch 17/100\n",
      "14535/14535 [==============================] - 3s - loss: 0.3825 - acc: 0.8413 - val_loss: 0.3662 - val_acc: 0.8425\n",
      "Epoch 18/100\n",
      "14535/14535 [==============================] - 3s - loss: 0.3809 - acc: 0.8420 - val_loss: 0.3663 - val_acc: 0.8425\n",
      "Epoch 19/100\n",
      "14535/14535 [==============================] - 3s - loss: 0.3795 - acc: 0.8428 - val_loss: 0.3638 - val_acc: 0.8464\n",
      "Epoch 20/100\n",
      "14535/14535 [==============================] - 2s - loss: 0.3780 - acc: 0.8431 - val_loss: 0.3615 - val_acc: 0.8471\n",
      "Epoch 21/100\n",
      "14535/14535 [==============================] - 2s - loss: 0.3766 - acc: 0.8440 - val_loss: 0.3601 - val_acc: 0.8477\n",
      "Epoch 22/100\n",
      "14535/14535 [==============================] - 2s - loss: 0.3751 - acc: 0.8445 - val_loss: 0.3588 - val_acc: 0.8490\n",
      "Epoch 23/100\n",
      "14535/14535 [==============================] - 2s - loss: 0.3736 - acc: 0.8451 - val_loss: 0.3576 - val_acc: 0.8477\n",
      "Epoch 24/100\n",
      "14535/14535 [==============================] - 2s - loss: 0.3724 - acc: 0.8453 - val_loss: 0.3557 - val_acc: 0.8510\n",
      "Epoch 25/100\n",
      "14535/14535 [==============================] - 2s - loss: 0.3711 - acc: 0.8465 - val_loss: 0.3609 - val_acc: 0.8458\n",
      "Epoch 26/100\n",
      "14535/14535 [==============================] - 2s - loss: 0.3699 - acc: 0.8463 - val_loss: 0.3539 - val_acc: 0.8529\n",
      "Epoch 27/100\n",
      "14535/14535 [==============================] - 2s - loss: 0.3686 - acc: 0.8474 - val_loss: 0.3543 - val_acc: 0.8536\n",
      "Epoch 28/100\n",
      "14535/14535 [==============================] - 2s - loss: 0.3675 - acc: 0.8474 - val_loss: 0.3571 - val_acc: 0.8542\n",
      "Epoch 29/100\n",
      "14535/14535 [==============================] - 2s - loss: 0.3665 - acc: 0.8485 - val_loss: 0.3508 - val_acc: 0.8536\n",
      "Epoch 30/100\n",
      "14535/14535 [==============================] - 2s - loss: 0.3657 - acc: 0.8489 - val_loss: 0.3501 - val_acc: 0.8562\n",
      "Epoch 31/100\n",
      "14535/14535 [==============================] - 2s - loss: 0.3644 - acc: 0.8491 - val_loss: 0.3509 - val_acc: 0.8529\n",
      "Epoch 32/100\n",
      "14535/14535 [==============================] - 2s - loss: 0.3635 - acc: 0.8500 - val_loss: 0.3496 - val_acc: 0.8562\n",
      "Epoch 33/100\n",
      "14535/14535 [==============================] - 2s - loss: 0.3626 - acc: 0.8515 - val_loss: 0.3498 - val_acc: 0.8562\n",
      "Epoch 34/100\n",
      "14535/14535 [==============================] - 2s - loss: 0.3620 - acc: 0.8513 - val_loss: 0.3530 - val_acc: 0.8497\n",
      "Epoch 35/100\n",
      "14535/14535 [==============================] - 2s - loss: 0.3610 - acc: 0.8514 - val_loss: 0.3483 - val_acc: 0.8549\n",
      "Epoch 36/100\n",
      "14535/14535 [==============================] - 2s - loss: 0.3602 - acc: 0.8517 - val_loss: 0.3491 - val_acc: 0.8562\n",
      "Epoch 37/100\n",
      "14535/14535 [==============================] - 2s - loss: 0.3597 - acc: 0.8523 - val_loss: 0.3490 - val_acc: 0.8562\n",
      "Epoch 38/100\n",
      "14535/14535 [==============================] - 3s - loss: 0.3588 - acc: 0.8519 - val_loss: 0.3462 - val_acc: 0.8556\n",
      "Epoch 39/100\n",
      "14535/14535 [==============================] - 3s - loss: 0.3585 - acc: 0.8527 - val_loss: 0.3471 - val_acc: 0.8562\n",
      "Epoch 40/100\n",
      "14535/14535 [==============================] - 3s - loss: 0.3576 - acc: 0.8527 - val_loss: 0.3508 - val_acc: 0.8516\n",
      "Epoch 41/100\n",
      "14535/14535 [==============================] - 3s - loss: 0.3570 - acc: 0.8534 - val_loss: 0.3547 - val_acc: 0.8458\n",
      "Epoch 42/100\n",
      "14535/14535 [==============================] - 3s - loss: 0.3567 - acc: 0.8527 - val_loss: 0.3471 - val_acc: 0.8595\n",
      "Epoch 43/100\n",
      "14535/14535 [==============================] - 3s - loss: 0.3560 - acc: 0.8541 - val_loss: 0.3463 - val_acc: 0.8588\n",
      "Epoch 44/100\n",
      "14535/14535 [==============================] - 3s - loss: 0.3555 - acc: 0.8536 - val_loss: 0.3464 - val_acc: 0.8562\n",
      "Epoch 45/100\n",
      "14535/14535 [==============================] - 2s - loss: 0.3550 - acc: 0.8542 - val_loss: 0.3481 - val_acc: 0.8614\n",
      "Epoch 46/100\n",
      "14535/14535 [==============================] - 3s - loss: 0.3546 - acc: 0.8547 - val_loss: 0.3492 - val_acc: 0.8588\n",
      "Epoch 47/100\n",
      "14535/14535 [==============================] - 3s - loss: 0.3541 - acc: 0.8549 - val_loss: 0.3472 - val_acc: 0.8588\n",
      "Epoch 48/100\n",
      "14535/14535 [==============================] - 3s - loss: 0.3531 - acc: 0.8555 - val_loss: 0.3436 - val_acc: 0.8562\n",
      "Epoch 49/100\n",
      "14535/14535 [==============================] - 2s - loss: 0.3533 - acc: 0.8549 - val_loss: 0.3470 - val_acc: 0.8588\n",
      "Epoch 50/100\n",
      "14535/14535 [==============================] - 2s - loss: 0.3525 - acc: 0.8556 - val_loss: 0.3513 - val_acc: 0.8536\n",
      "Epoch 51/100\n",
      "14535/14535 [==============================] - 2s - loss: 0.3520 - acc: 0.8550 - val_loss: 0.3475 - val_acc: 0.8614\n",
      "Epoch 52/100\n",
      "14535/14535 [==============================] - 2s - loss: 0.3518 - acc: 0.8559 - val_loss: 0.3469 - val_acc: 0.8595\n",
      "Epoch 53/100\n",
      "14535/14535 [==============================] - 2s - loss: 0.3509 - acc: 0.8558 - val_loss: 0.3478 - val_acc: 0.8575\n",
      "Epoch 54/100\n",
      "14535/14535 [==============================] - 3s - loss: 0.3508 - acc: 0.8563 - val_loss: 0.3440 - val_acc: 0.8627\n",
      "Epoch 55/100\n",
      "14535/14535 [==============================] - 3s - loss: 0.3505 - acc: 0.8563 - val_loss: 0.3458 - val_acc: 0.8582\n",
      "Epoch 56/100\n",
      "14535/14535 [==============================] - 4s - loss: 0.3496 - acc: 0.8570 - val_loss: 0.3451 - val_acc: 0.8614\n",
      "Epoch 57/100\n",
      "14535/14535 [==============================] - 3s - loss: 0.3492 - acc: 0.8570 - val_loss: 0.3514 - val_acc: 0.8510\n",
      "Epoch 58/100\n",
      "14535/14535 [==============================] - 2s - loss: 0.3491 - acc: 0.8561 - val_loss: 0.3456 - val_acc: 0.8588\n",
      "Epoch 59/100\n",
      "14535/14535 [==============================] - 3s - loss: 0.3485 - acc: 0.8570 - val_loss: 0.3457 - val_acc: 0.8595\n"
     ]
    },
    {
     "data": {
      "text/plain": [
       "<keras.callbacks.History at 0x2b02a2a2940>"
      ]
     },
     "execution_count": 51,
     "metadata": {},
     "output_type": "execute_result"
    }
   ],
   "source": [
    "model_cnn1.fit(A_train['signal'],A_train['label'],batch_size=64,epochs=100,callbacks=[earlystopping],validation_split=0.05)"
   ]
  },
  {
   "cell_type": "code",
   "execution_count": null,
   "metadata": {
    "collapsed": true
   },
   "outputs": [],
   "source": []
  }
 ],
 "metadata": {
  "anaconda-cloud": {},
  "kernelspec": {
   "display_name": "Python [conda root]",
   "language": "python",
   "name": "conda-root-py"
  },
  "language_info": {
   "codemirror_mode": {
    "name": "ipython",
    "version": 3
   },
   "file_extension": ".py",
   "mimetype": "text/x-python",
   "name": "python",
   "nbconvert_exporter": "python",
   "pygments_lexer": "ipython3",
   "version": "3.5.2"
  }
 },
 "nbformat": 4,
 "nbformat_minor": 2
}
