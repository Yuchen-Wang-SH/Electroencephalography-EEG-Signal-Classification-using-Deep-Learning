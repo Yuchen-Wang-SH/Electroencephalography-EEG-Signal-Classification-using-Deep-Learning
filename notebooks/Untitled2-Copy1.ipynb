{
 "cells": [
  {
   "cell_type": "code",
   "execution_count": 1,
   "metadata": {
    "ExecuteTime": {
     "end_time": "2017-08-03T14:41:30.515739Z",
     "start_time": "2017-08-03T14:41:11.793538Z"
    }
   },
   "outputs": [
    {
     "name": "stderr",
     "output_type": "stream",
     "text": [
      "D:\\Anaconda3\\lib\\importlib\\_bootstrap.py:222: RuntimeWarning: numpy.dtype size changed, may indicate binary incompatibility. Expected 96, got 88\n",
      "  return f(*args, **kwds)\n",
      "Using TensorFlow backend.\n",
      "D:\\Anaconda3\\lib\\importlib\\_bootstrap.py:222: RuntimeWarning: numpy.dtype size changed, may indicate binary incompatibility. Expected 96, got 88\n",
      "  return f(*args, **kwds)\n"
     ]
    }
   ],
   "source": [
    "# %load import_setup.py\n",
    "import os\n",
    "os.chdir(\"../\")\n",
    "import numpy as np\n",
    "import matplotlib.pyplot as plt\n",
    "%matplotlib inline\n",
    "import tensorflow as tf\n",
    "\n",
    "from keras import layers, models\n",
    "from keras.utils import to_categorical\n",
    "\n",
    "from src import pipelines\n",
    "from src.data.extract_data import read_true_letters\n",
    "\n",
    "\n",
    "%load_ext autoreload\n",
    "%autoreload 2\n",
    "\n",
    "RANDOM_STATE = 42  # for reproducibility\n",
    "np.random.seed(RANDOM_STATE)\n",
    "\n",
    "NUM_ELECTRODES = 64\n",
    "FS = 240          # Hz\n",
    "NUM_TRAIN_LETTERS = 85\n",
    "NUM_TEST_LETTERS = 100\n",
    "NUM_ROWCOLS = 12    # col:1-6 row:7-12\n",
    "NUM_REPEAT = 15\n",
    "SECONDS_TO_SLICE = 0.65    # after the simulation 0.65s data is treated as a sample\n",
    "\n",
    "DATA_DIR = \"./data/raw/BCI_Comp_III_Wads_2004/\""
   ]
  },
  {
   "cell_type": "code",
   "execution_count": 3,
   "metadata": {
    "ExecuteTime": {
     "end_time": "2017-08-03T14:41:46.974721Z",
     "start_time": "2017-08-03T14:41:30.517684Z"
    },
    "code_folding": [],
    "collapsed": true
   },
   "outputs": [],
   "source": [
    "# %load data_preparation.py\n",
    "\n",
    "A_train = pipelines.signal_mat_sub_band_norm(DATA_DIR+\"Subject_A_Train\")\n",
    "A_test = pipelines.signal_mat_sub_band_norm(DATA_DIR + \"Subject_A_Test\")\n",
    "\n",
    "A_train['signal'] = A_train['signal'].reshape([-1,NUM_ELECTRODES,A_train['signal'].shape[-1],1])\n",
    "A_test['signal'] = A_test['signal'].reshape([-1,NUM_ELECTRODES,A_test['signal'].shape[-1],1]) \n",
    "\n",
    "A_train['label'] = to_categorical(A_train['label']) \n",
    "\n",
    "from sklearn.model_selection import train_test_split\n",
    "X_train, X_val, y_train, y_val = train_test_split(A_train['signal'], A_train['label'], test_size=0.05,\n",
    "                                                  random_state=RANDOM_STATE, stratify=A_train['label'])\n",
    "\n",
    "A_test_true_letters = read_true_letters(DATA_DIR+\"A_test_labels.txt\")\n"
   ]
  },
  {
   "cell_type": "code",
   "execution_count": 4,
   "metadata": {
    "ExecuteTime": {
     "end_time": "2017-08-03T14:42:04.477610Z",
     "start_time": "2017-08-03T14:42:04.113036Z"
    },
    "collapsed": true
   },
   "outputs": [],
   "source": [
    "from src.models.PAMI import CNN_1_P300_PAMI_BCIIII\n",
    "model_PAMI = CNN_1_P300_PAMI_BCIIII(Ns = 10,seconds_to_slice=SECONDS_TO_SLICE)\n",
    "model_PAMI.compile(optimizer = 'sgd',loss = 'binary_crossentropy',metrics = ['acc', 'mse'])"
   ]
  },
  {
   "cell_type": "code",
   "execution_count": 5,
   "metadata": {
    "ExecuteTime": {
     "end_time": "2017-08-03T14:42:44.179077Z",
     "start_time": "2017-08-03T14:42:43.997411Z"
    },
    "collapsed": true
   },
   "outputs": [],
   "source": [
    "from keras.callbacks import EarlyStopping\n",
    "earlystopping = EarlyStopping(monitor = \"val_mean_squared_error\",patience = 3)"
   ]
  },
  {
   "cell_type": "code",
   "execution_count": 6,
   "metadata": {
    "ExecuteTime": {
     "end_time": "2017-08-03T14:45:47.706582Z",
     "start_time": "2017-08-03T14:43:14.861825Z"
    },
    "scrolled": true
   },
   "outputs": [
    {
     "name": "stdout",
     "output_type": "stream",
     "text": [
      "Train on 14535 samples, validate on 765 samples\n",
      "Epoch 1/1000\n",
      "14535/14535 [==============================] - 78s - loss: 0.4536 - acc: 0.8320 - mean_squared_error: 0.1404 - val_loss: 0.4467 - val_acc: 0.8327 - val_mean_squared_error: 0.1379\n",
      "Epoch 2/1000\n",
      "14535/14535 [==============================] - 4s - loss: 0.4428 - acc: 0.8334 - mean_squared_error: 0.1367 - val_loss: 0.4422 - val_acc: 0.8327 - val_mean_squared_error: 0.1366\n",
      "Epoch 3/1000\n",
      "14535/14535 [==============================] - 4s - loss: 0.4381 - acc: 0.8334 - mean_squared_error: 0.1354 - val_loss: 0.4388 - val_acc: 0.8327 - val_mean_squared_error: 0.1355\n",
      "Epoch 4/1000\n",
      "14535/14535 [==============================] - 4s - loss: 0.4340 - acc: 0.8334 - mean_squared_error: 0.1342 - val_loss: 0.4346 - val_acc: 0.8327 - val_mean_squared_error: 0.1344\n",
      "Epoch 5/1000\n",
      "14535/14535 [==============================] - 4s - loss: 0.4296 - acc: 0.8334 - mean_squared_error: 0.1329 - val_loss: 0.4301 - val_acc: 0.8327 - val_mean_squared_error: 0.1330\n",
      "Epoch 6/1000\n",
      "14535/14535 [==============================] - 4s - loss: 0.4240 - acc: 0.8334 - mean_squared_error: 0.1312 - val_loss: 0.4243 - val_acc: 0.8327 - val_mean_squared_error: 0.1311\n",
      "Epoch 7/1000\n",
      "14535/14535 [==============================] - 4s - loss: 0.4170 - acc: 0.8334 - mean_squared_error: 0.1291 - val_loss: 0.4175 - val_acc: 0.8327 - val_mean_squared_error: 0.1291\n",
      "Epoch 8/1000\n",
      "14535/14535 [==============================] - 5s - loss: 0.4093 - acc: 0.8333 - mean_squared_error: 0.1268 - val_loss: 0.4104 - val_acc: 0.8307 - val_mean_squared_error: 0.1268\n",
      "Epoch 9/1000\n",
      "14535/14535 [==============================] - 4s - loss: 0.4023 - acc: 0.8340 - mean_squared_error: 0.1246 - val_loss: 0.4047 - val_acc: 0.8333 - val_mean_squared_error: 0.1249\n",
      "Epoch 10/1000\n",
      "14535/14535 [==============================] - 5s - loss: 0.3964 - acc: 0.8356 - mean_squared_error: 0.1227 - val_loss: 0.4003 - val_acc: 0.8340 - val_mean_squared_error: 0.1236\n",
      "Epoch 11/1000\n",
      "14535/14535 [==============================] - 5s - loss: 0.3921 - acc: 0.8365 - mean_squared_error: 0.1213 - val_loss: 0.3958 - val_acc: 0.8392 - val_mean_squared_error: 0.1221\n",
      "Epoch 12/1000\n",
      "14535/14535 [==============================] - 5s - loss: 0.3885 - acc: 0.8385 - mean_squared_error: 0.1201 - val_loss: 0.3926 - val_acc: 0.8418 - val_mean_squared_error: 0.1210\n",
      "Epoch 13/1000\n",
      "14535/14535 [==============================] - 5s - loss: 0.3852 - acc: 0.8396 - mean_squared_error: 0.1189 - val_loss: 0.3902 - val_acc: 0.8373 - val_mean_squared_error: 0.1204\n",
      "Epoch 14/1000\n",
      "14535/14535 [==============================] - 5s - loss: 0.3824 - acc: 0.8406 - mean_squared_error: 0.1180 - val_loss: 0.3874 - val_acc: 0.8412 - val_mean_squared_error: 0.1194\n",
      "Epoch 15/1000\n",
      "14535/14535 [==============================] - 5s - loss: 0.3798 - acc: 0.8413 - mean_squared_error: 0.1171 - val_loss: 0.3851 - val_acc: 0.8392 - val_mean_squared_error: 0.1186\n",
      "Epoch 16/1000\n",
      "14535/14535 [==============================] - 5s - loss: 0.3775 - acc: 0.8429 - mean_squared_error: 0.1163 - val_loss: 0.3818 - val_acc: 0.8444 - val_mean_squared_error: 0.1175\n",
      "Epoch 17/1000\n",
      "14535/14535 [==============================] - 5s - loss: 0.3746 - acc: 0.8440 - mean_squared_error: 0.1153 - val_loss: 0.3800 - val_acc: 0.8451 - val_mean_squared_error: 0.1169\n",
      "Epoch 18/1000\n",
      "14535/14535 [==============================] - 5s - loss: 0.3722 - acc: 0.8456 - mean_squared_error: 0.1145 - val_loss: 0.3778 - val_acc: 0.8412 - val_mean_squared_error: 0.1162\n",
      "Epoch 19/1000\n",
      "14535/14535 [==============================] - 5s - loss: 0.3698 - acc: 0.8454 - mean_squared_error: 0.1137 - val_loss: 0.3752 - val_acc: 0.8529 - val_mean_squared_error: 0.1153\n",
      "Epoch 20/1000\n",
      "14535/14535 [==============================] - 5s - loss: 0.3677 - acc: 0.8470 - mean_squared_error: 0.1130 - val_loss: 0.3733 - val_acc: 0.8458 - val_mean_squared_error: 0.1147\n",
      "Epoch 21/1000\n",
      "14535/14535 [==============================] - 5s - loss: 0.3654 - acc: 0.8481 - mean_squared_error: 0.1123 - val_loss: 0.3716 - val_acc: 0.8412 - val_mean_squared_error: 0.1142\n",
      "Epoch 22/1000\n",
      "14535/14535 [==============================] - 5s - loss: 0.3635 - acc: 0.8493 - mean_squared_error: 0.1116 - val_loss: 0.3695 - val_acc: 0.8444 - val_mean_squared_error: 0.1134\n",
      "Epoch 23/1000\n",
      "14535/14535 [==============================] - 5s - loss: 0.3619 - acc: 0.8503 - mean_squared_error: 0.1111 - val_loss: 0.3697 - val_acc: 0.8412 - val_mean_squared_error: 0.1136\n",
      "Epoch 24/1000\n",
      "14535/14535 [==============================] - 5s - loss: 0.3602 - acc: 0.8511 - mean_squared_error: 0.1104 - val_loss: 0.3678 - val_acc: 0.8458 - val_mean_squared_error: 0.1130\n",
      "Epoch 25/1000\n",
      "14535/14535 [==============================] - 5s - loss: 0.3586 - acc: 0.8514 - mean_squared_error: 0.1100 - val_loss: 0.3675 - val_acc: 0.8451 - val_mean_squared_error: 0.1127\n",
      "Epoch 26/1000\n",
      "14535/14535 [==============================] - 5s - loss: 0.3576 - acc: 0.8519 - mean_squared_error: 0.1096 - val_loss: 0.3669 - val_acc: 0.8444 - val_mean_squared_error: 0.1128\n",
      "Epoch 27/1000\n",
      "14535/14535 [==============================] - 5s - loss: 0.3563 - acc: 0.8528 - mean_squared_error: 0.1092 - val_loss: 0.3671 - val_acc: 0.8484 - val_mean_squared_error: 0.1125\n",
      "Epoch 28/1000\n",
      "14535/14535 [==============================] - 5s - loss: 0.3555 - acc: 0.8529 - mean_squared_error: 0.1089 - val_loss: 0.3649 - val_acc: 0.8451 - val_mean_squared_error: 0.1119\n",
      "Epoch 29/1000\n",
      "14535/14535 [==============================] - 5s - loss: 0.3541 - acc: 0.8534 - mean_squared_error: 0.1084 - val_loss: 0.3661 - val_acc: 0.8464 - val_mean_squared_error: 0.1122\n",
      "Epoch 30/1000\n",
      "14535/14535 [==============================] - 5s - loss: 0.3536 - acc: 0.8538 - mean_squared_error: 0.1082 - val_loss: 0.3636 - val_acc: 0.8523 - val_mean_squared_error: 0.1115\n",
      "Epoch 31/1000\n",
      "14535/14535 [==============================] - 5s - loss: 0.3527 - acc: 0.8546 - mean_squared_error: 0.1079 - val_loss: 0.3631 - val_acc: 0.8549 - val_mean_squared_error: 0.1112\n",
      "Epoch 32/1000\n",
      "14535/14535 [==============================] - 5s - loss: 0.3514 - acc: 0.8548 - mean_squared_error: 0.1076 - val_loss: 0.3619 - val_acc: 0.8523 - val_mean_squared_error: 0.1108\n",
      "Epoch 33/1000\n",
      "14535/14535 [==============================] - 5s - loss: 0.3507 - acc: 0.8555 - mean_squared_error: 0.1073 - val_loss: 0.3619 - val_acc: 0.8510 - val_mean_squared_error: 0.1106\n",
      "Epoch 34/1000\n",
      "14535/14535 [==============================] - 6s - loss: 0.3501 - acc: 0.8550 - mean_squared_error: 0.1072 - val_loss: 0.3626 - val_acc: 0.8477 - val_mean_squared_error: 0.1109\n",
      "Epoch 35/1000\n",
      "14535/14535 [==============================] - 6s - loss: 0.3493 - acc: 0.8561 - mean_squared_error: 0.1068 - val_loss: 0.3619 - val_acc: 0.8503 - val_mean_squared_error: 0.1107\n",
      "Epoch 36/1000\n",
      "14535/14535 [==============================] - 6s - loss: 0.3479 - acc: 0.8564 - mean_squared_error: 0.1065 - val_loss: 0.3615 - val_acc: 0.8510 - val_mean_squared_error: 0.1104\n",
      "Epoch 37/1000\n",
      "14535/14535 [==============================] - 5s - loss: 0.3475 - acc: 0.8569 - mean_squared_error: 0.1062 - val_loss: 0.3609 - val_acc: 0.8490 - val_mean_squared_error: 0.1101\n",
      "Epoch 38/1000\n",
      "14535/14535 [==============================] - 5s - loss: 0.3470 - acc: 0.8574 - mean_squared_error: 0.1061 - val_loss: 0.3612 - val_acc: 0.8523 - val_mean_squared_error: 0.1103\n",
      "Epoch 39/1000\n",
      "14535/14535 [==============================] - 5s - loss: 0.3460 - acc: 0.8580 - mean_squared_error: 0.1059 - val_loss: 0.3616 - val_acc: 0.8464 - val_mean_squared_error: 0.1104\n",
      "Epoch 40/1000\n",
      "14535/14535 [==============================] - 5s - loss: 0.3456 - acc: 0.8584 - mean_squared_error: 0.1056 - val_loss: 0.3599 - val_acc: 0.8471 - val_mean_squared_error: 0.1100\n",
      "Epoch 41/1000\n",
      "14535/14535 [==============================] - 5s - loss: 0.3447 - acc: 0.8589 - mean_squared_error: 0.1054 - val_loss: 0.3597 - val_acc: 0.8477 - val_mean_squared_error: 0.1098\n",
      "Epoch 42/1000\n",
      "14535/14535 [==============================] - 5s - loss: 0.3438 - acc: 0.8581 - mean_squared_error: 0.1049 - val_loss: 0.3597 - val_acc: 0.8464 - val_mean_squared_error: 0.1098\n",
      "Epoch 43/1000\n",
      "14535/14535 [==============================] - 5s - loss: 0.3433 - acc: 0.8579 - mean_squared_error: 0.1049 - val_loss: 0.3599 - val_acc: 0.8497 - val_mean_squared_error: 0.1097\n",
      "Epoch 44/1000\n",
      "14535/14535 [==============================] - 5s - loss: 0.3430 - acc: 0.8583 - mean_squared_error: 0.1049 - val_loss: 0.3612 - val_acc: 0.8497 - val_mean_squared_error: 0.1103\n",
      "Epoch 45/1000\n",
      "14535/14535 [==============================] - 5s - loss: 0.3423 - acc: 0.8594 - mean_squared_error: 0.1045 - val_loss: 0.3597 - val_acc: 0.8523 - val_mean_squared_error: 0.1094\n",
      "Epoch 46/1000\n",
      "14535/14535 [==============================] - 5s - loss: 0.3416 - acc: 0.8591 - mean_squared_error: 0.1043 - val_loss: 0.3593 - val_acc: 0.8477 - val_mean_squared_error: 0.1096\n",
      "Epoch 47/1000\n",
      "14535/14535 [==============================] - 5s - loss: 0.3406 - acc: 0.8599 - mean_squared_error: 0.1040 - val_loss: 0.3612 - val_acc: 0.8536 - val_mean_squared_error: 0.1098\n",
      "Epoch 48/1000\n",
      "14535/14535 [==============================] - 5s - loss: 0.3405 - acc: 0.8600 - mean_squared_error: 0.1040 - val_loss: 0.3590 - val_acc: 0.8458 - val_mean_squared_error: 0.1094\n",
      "Epoch 49/1000\n",
      "14535/14535 [==============================] - 5s - loss: 0.3399 - acc: 0.8606 - mean_squared_error: 0.1037 - val_loss: 0.3596 - val_acc: 0.8497 - val_mean_squared_error: 0.1096\n",
      "Epoch 50/1000\n",
      "14535/14535 [==============================] - 5s - loss: 0.3394 - acc: 0.8615 - mean_squared_error: 0.1036 - val_loss: 0.3595 - val_acc: 0.8464 - val_mean_squared_error: 0.1094\n",
      "Epoch 51/1000\n",
      "14535/14535 [==============================] - 5s - loss: 0.3384 - acc: 0.8598 - mean_squared_error: 0.1032 - val_loss: 0.3605 - val_acc: 0.8477 - val_mean_squared_error: 0.1097\n",
      "Epoch 52/1000\n",
      "14535/14535 [==============================] - 5s - loss: 0.3382 - acc: 0.8608 - mean_squared_error: 0.1032 - val_loss: 0.3599 - val_acc: 0.8536 - val_mean_squared_error: 0.1093\n",
      "Epoch 53/1000\n",
      "14535/14535 [==============================] - 5s - loss: 0.3375 - acc: 0.8612 - mean_squared_error: 0.1030 - val_loss: 0.3596 - val_acc: 0.8529 - val_mean_squared_error: 0.1090\n",
      "Epoch 54/1000\n",
      "14535/14535 [==============================] - 5s - loss: 0.3374 - acc: 0.8610 - mean_squared_error: 0.1029 - val_loss: 0.3615 - val_acc: 0.8471 - val_mean_squared_error: 0.1096\n",
      "Epoch 55/1000\n",
      "14535/14535 [==============================] - 5s - loss: 0.3369 - acc: 0.8605 - mean_squared_error: 0.1029 - val_loss: 0.3581 - val_acc: 0.8510 - val_mean_squared_error: 0.1087\n",
      "Epoch 56/1000\n",
      "14535/14535 [==============================] - 5s - loss: 0.3363 - acc: 0.8605 - mean_squared_error: 0.1026 - val_loss: 0.3585 - val_acc: 0.8529 - val_mean_squared_error: 0.1090\n",
      "Epoch 57/1000\n",
      "14535/14535 [==============================] - 5s - loss: 0.3358 - acc: 0.8622 - mean_squared_error: 0.1024 - val_loss: 0.3589 - val_acc: 0.8490 - val_mean_squared_error: 0.1086\n",
      "Epoch 58/1000\n",
      "14535/14535 [==============================] - 5s - loss: 0.3356 - acc: 0.8612 - mean_squared_error: 0.1023 - val_loss: 0.3581 - val_acc: 0.8503 - val_mean_squared_error: 0.1085\n",
      "Epoch 59/1000\n",
      "14535/14535 [==============================] - 5s - loss: 0.3349 - acc: 0.8615 - mean_squared_error: 0.1021 - val_loss: 0.3609 - val_acc: 0.8451 - val_mean_squared_error: 0.1092\n",
      "Epoch 60/1000\n",
      "14535/14535 [==============================] - 5s - loss: 0.3341 - acc: 0.8618 - mean_squared_error: 0.1020 - val_loss: 0.3617 - val_acc: 0.8510 - val_mean_squared_error: 0.1101\n",
      "Epoch 61/1000\n",
      "14535/14535 [==============================] - 5s - loss: 0.3336 - acc: 0.8625 - mean_squared_error: 0.1017 - val_loss: 0.3607 - val_acc: 0.8529 - val_mean_squared_error: 0.1091\n",
      "Epoch 62/1000\n",
      "14535/14535 [==============================] - 5s - loss: 0.3332 - acc: 0.8625 - mean_squared_error: 0.1016 - val_loss: 0.3613 - val_acc: 0.8425 - val_mean_squared_error: 0.1098\n"
     ]
    },
    {
     "data": {
      "text/plain": [
       "<keras.callbacks.History at 0x1e90d17c748>"
      ]
     },
     "execution_count": 6,
     "metadata": {},
     "output_type": "execute_result"
    }
   ],
   "source": [
    "model_PAMI.fit(x = X_train, y = y_train, batch_size=32, epochs = 1000, callbacks = [earlystopping], \n",
    "              validation_data = [X_val,y_val])"
   ]
  },
  {
   "cell_type": "code",
   "execution_count": 7,
   "metadata": {
    "ExecuteTime": {
     "end_time": "2017-08-03T14:47:49.650017Z",
     "start_time": "2017-08-03T14:47:20.893739Z"
    },
    "collapsed": true
   },
   "outputs": [],
   "source": [
    "from src.pipelines import PARADIGM, testing_pipeline\n",
    "model_PAMI_scores = testing_pipeline(A_test['signal'],A_test['code'],model_PAMI,\"all\",PARADIGM,\n",
    "                                    A_test_true_letters)"
   ]
  },
  {
   "cell_type": "code",
   "execution_count": 8,
   "metadata": {
    "ExecuteTime": {
     "end_time": "2017-08-03T14:47:58.690028Z",
     "start_time": "2017-08-03T14:47:58.511921Z"
    }
   },
   "outputs": [
    {
     "data": {
      "text/plain": [
       "[0.17,\n",
       " 0.36,\n",
       " 0.5,\n",
       " 0.56,\n",
       " 0.63,\n",
       " 0.68,\n",
       " 0.69,\n",
       " 0.78,\n",
       " 0.82,\n",
       " 0.83,\n",
       " 0.83,\n",
       " 0.86,\n",
       " 0.86,\n",
       " 0.92,\n",
       " 0.92]"
      ]
     },
     "execution_count": 8,
     "metadata": {},
     "output_type": "execute_result"
    }
   ],
   "source": [
    "model_PAMI_scores"
   ]
  },
  {
   "cell_type": "code",
   "execution_count": 18,
   "metadata": {
    "ExecuteTime": {
     "end_time": "2017-08-03T15:05:21.794725Z",
     "start_time": "2017-08-03T15:05:21.400174Z"
    }
   },
   "outputs": [
    {
     "data": {
      "image/png": "[encoded data removed]",
      "text/plain": [
       "<matplotlib.figure.Figure at 0x227cc9d9a90>"
      ]
     },
     "metadata": {},
     "output_type": "display_data"
    }
   ],
   "source": [
    "import matplotlib.pyplot as plt\n",
    "plt.style.use(\"ggplot\")\n",
    "plt.plot(np.arange(15)+1,model_PAMI_scores)\n",
    "plt.xlabel(\"Epochs\")\n",
    "plt.ylabel(\"Recognition Rate\")\n",
    "plt.grid(True)"
   ]
  },
  {
   "cell_type": "code",
   "execution_count": 12,
   "metadata": {
    "ExecuteTime": {
     "end_time": "2017-08-03T15:02:37.467526Z",
     "start_time": "2017-08-03T15:02:37.125585Z"
    }
   },
   "outputs": [
    {
     "data": {
      "image/png": "[encoded data removed]",
      "text/plain": [
       "<matplotlib.figure.Figure at 0x227cdb6f2b0>"
      ]
     },
     "metadata": {},
     "output_type": "display_data"
    }
   ],
   "source": [
    "plt.plot(np.arange(15)+1,model_PAMI_scores)\n",
    "plt.xlabel(\"Epochs\")\n",
    "plt.ylabel(\"Recognition Rate\")\n",
    "plt.grid(True)"
   ]
  },
  {
   "cell_type": "code",
   "execution_count": 15,
   "metadata": {
    "ExecuteTime": {
     "end_time": "2017-08-03T15:04:11.035718Z",
     "start_time": "2017-08-03T15:04:10.834683Z"
    }
   },
   "outputs": [
    {
     "data": {
      "text/plain": [
       "['seaborn-muted',\n",
       " 'seaborn-talk',\n",
       " 'seaborn-dark',\n",
       " 'bmh',\n",
       " 'seaborn-whitegrid',\n",
       " 'seaborn-dark-palette',\n",
       " 'dark_background',\n",
       " 'grayscale',\n",
       " 'seaborn-ticks',\n",
       " 'classic',\n",
       " 'seaborn-deep',\n",
       " 'seaborn-colorblind',\n",
       " 'seaborn-bright',\n",
       " 'seaborn-notebook',\n",
       " 'seaborn-pastel',\n",
       " 'seaborn-poster',\n",
       " 'seaborn',\n",
       " 'seaborn-darkgrid',\n",
       " 'ggplot',\n",
       " 'seaborn-paper',\n",
       " '_classic_test',\n",
       " 'fivethirtyeight',\n",
       " 'seaborn-white']"
      ]
     },
     "execution_count": 15,
     "metadata": {},
     "output_type": "execute_result"
    }
   ],
   "source": [
    "plt.style.available"
   ]
  }
 ],
 "metadata": {
  "anaconda-cloud": {},
  "kernelspec": {
   "display_name": "Python [conda root]",
   "language": "python",
   "name": "conda-root-py"
  },
  "language_info": {
   "codemirror_mode": {
    "name": "ipython",
    "version": 3
   },
   "file_extension": ".py",
   "mimetype": "text/x-python",
   "name": "python",
   "nbconvert_exporter": "python",
   "pygments_lexer": "ipython3",
   "version": "3.5.2"
  },
  "toc": {
   "colors": {
    "hover_highlight": "#DAA520",
    "navigate_num": "#000000",
    "navigate_text": "#333333",
    "running_highlight": "#FF0000",
    "selected_highlight": "#FFD700",
    "sidebar_border": "#EEEEEE",
    "wrapper_background": "#FFFFFF"
   },
   "moveMenuLeft": true,
   "nav_menu": {
    "height": "12px",
    "width": "252px"
   },
   "navigate_menu": true,
   "number_sections": true,
   "sideBar": true,
   "threshold": 4,
   "toc_cell": false,
   "toc_section_display": "block",
   "toc_window_display": false,
   "widenNotebook": false
  }
 },
 "nbformat": 4,
 "nbformat_minor": 2
}
