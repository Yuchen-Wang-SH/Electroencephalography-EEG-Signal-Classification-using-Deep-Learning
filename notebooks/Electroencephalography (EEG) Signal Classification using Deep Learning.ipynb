{
 "cells": [
  {
   "cell_type": "markdown",
   "metadata": {},
   "source": [
    "# Electroencephalography (EEG) Signal Classification using Deep Learning"
   ]
  },
  {
   "cell_type": "code",
   "execution_count": 1,
   "metadata": {},
   "outputs": [],
   "source": [
    "%load_ext autoreload\n",
    "%autoreload 2\n",
    "import matplotlib.pyplot as plt\n",
    "%matplotlib inline"
   ]
  },
  {
   "cell_type": "code",
   "execution_count": 2,
   "metadata": {},
   "outputs": [
    {
     "name": "stderr",
     "output_type": "stream",
     "text": [
      "Using TensorFlow backend.\n",
      "d:\\anaconda3\\lib\\importlib\\_bootstrap.py:222: RuntimeWarning: numpy.dtype size changed, may indicate binary incompatibility. Expected 96, got 88\n",
      "  return f(*args, **kwds)\n",
      "d:\\anaconda3\\lib\\importlib\\_bootstrap.py:222: RuntimeWarning: numpy.dtype size changed, may indicate binary incompatibility. Expected 96, got 88\n",
      "  return f(*args, **kwds)\n"
     ]
    }
   ],
   "source": [
    "import numpy as np\n",
    "from keras.utils import to_categorical\n",
    "from sklearn.model_selection import train_test_split"
   ]
  },
  {
   "cell_type": "code",
   "execution_count": 3,
   "metadata": {},
   "outputs": [],
   "source": [
    "RANDOM_STATE = 42  # for reproducibility\n",
    "np.random.seed(RANDOM_STATE)"
   ]
  },
  {
   "cell_type": "code",
   "execution_count": 4,
   "metadata": {},
   "outputs": [],
   "source": [
    "import os\n",
    "os.chdir(\"../\")\n",
    "DATA_DIR = \"./data/raw/BCI_Comp_III_Wads_2004/\""
   ]
  },
  {
   "cell_type": "markdown",
   "metadata": {},
   "source": [
    "## Read in the data from .mat"
   ]
  },
  {
   "cell_type": "code",
   "execution_count": 5,
   "metadata": {},
   "outputs": [],
   "source": [
    "from src.data.io import load_data_from_mat"
   ]
  },
  {
   "cell_type": "code",
   "execution_count": 6,
   "metadata": {},
   "outputs": [],
   "source": [
    "train = load_data_from_mat(DATA_DIR + \"Subject_A_Train.mat\")\n",
    "test = load_data_from_mat(DATA_DIR + \"Subject_A_Test.mat\")"
   ]
  },
  {
   "cell_type": "code",
   "execution_count": 7,
   "metadata": {},
   "outputs": [
    {
     "data": {
      "text/plain": [
       "{'Flashing': array([[1., 1., 1., ..., 0., 0., 0.],\n",
       "        [1., 1., 1., ..., 0., 0., 0.],\n",
       "        [1., 1., 1., ..., 0., 0., 0.],\n",
       "        ...,\n",
       "        [1., 1., 1., ..., 0., 0., 0.],\n",
       "        [1., 1., 1., ..., 0., 0., 0.],\n",
       "        [1., 1., 1., ..., 0., 0., 0.]], dtype=float32),\n",
       " 'Signal': array([[[ 8.0849998e-02, -1.7930571e+01, -9.2669497e+00, ...,\n",
       "          -1.9443050e+01, -1.0342620e+01, -1.4575340e+01],\n",
       "         [-2.2476299e+00, -1.7676010e+01, -6.4597502e+00, ...,\n",
       "          -1.7911850e+01, -8.0227804e+00, -1.3052780e+01],\n",
       "         [ 7.5837302e+00, -1.4875850e+01, -3.3973501e+00, ...,\n",
       "          -1.4083850e+01, -4.1563802e+00, -9.7538996e+00],\n",
       "         ...,\n",
       "         [-2.6567310e+01, -1.4366730e+01, -2.4068550e+01, ...,\n",
       "           5.0561500e+00, -1.3210200e+00,  3.9491401e+00],\n",
       "         [-2.1651630e+01, -1.2330250e+01, -2.0750950e+01, ...,\n",
       "           9.7294998e-01, -2.0943000e+00,  1.1577801e+00],\n",
       "         [-2.2169069e+01, -1.5130410e+01, -2.4068550e+01, ...,\n",
       "          -1.3238500e+00, -4.6718998e+00, -1.6335800e+00]],\n",
       " \n",
       "        [[ 1.5086610e+01,  1.1598390e+01,  1.2680250e+01, ...,\n",
       "          -3.6206501e+00,  7.1850600e+00,  1.4115400e+00],\n",
       "         [ 1.1464530e+01,  9.5619097e+00,  1.0383450e+01, ...,\n",
       "           3.2697501e+00,  1.4917860e+01,  7.2480202e+00],\n",
       "         [ 1.1205810e+01,  1.0580150e+01,  1.2169850e+01, ...,\n",
       "           6.0769501e+00,  1.8784260e+01,  9.2781000e+00],\n",
       "         ...,\n",
       "         [-1.3372590e+01, -1.1312010e+01, -1.6157351e+01, ...,\n",
       "           1.3732950e+01, -1.3210200e+00,  9.5318604e+00],\n",
       "         [-1.6735950e+01, -1.7421450e+01, -2.0750950e+01, ...,\n",
       "           6.3321500e+00, -3.3831000e+00,  3.9491401e+00],\n",
       "         [-2.3980110e+01, -2.4040010e+01, -2.6110149e+01, ...,\n",
       "           2.0735000e-01, -6.4762201e+00,  1.4274000e-01]],\n",
       " \n",
       "        [[-1.1893035e+02, -1.1848177e+02, -1.1798215e+02, ...,\n",
       "          -1.1029425e+02, -1.1009574e+02, -1.1049662e+02],\n",
       "         [-1.1634315e+02, -1.1415425e+02, -1.1543015e+02, ...,\n",
       "          -1.0952865e+02, -1.0906470e+02, -1.0897406e+02],\n",
       "         [-1.0909899e+02, -1.1237233e+02, -1.1568535e+02, ...,\n",
       "          -1.1437745e+02, -1.1396214e+02, -1.1481054e+02],\n",
       "         ...,\n",
       "         [-1.5701070e+01, -1.2330250e+01, -6.7149501e+00, ...,\n",
       "          -3.8758500e+00,  4.3497000e+00,  9.7856197e+00],\n",
       "         [-2.0616751e+01, -1.8185129e+01, -1.2584550e+01, ...,\n",
       "          -4.3862500e+00,  2.2876201e+00,  9.0243397e+00],\n",
       "         [-2.3721390e+01, -1.9203369e+01, -1.4115750e+01, ...,\n",
       "          -1.3238500e+00,  5.1229801e+00,  1.4607060e+01]],\n",
       " \n",
       "        ...,\n",
       " \n",
       "        [[-8.1981897e+00, -1.2075690e+01, -3.3973501e+00, ...,\n",
       "          -4.7850002e-02, -1.3951260e+01,  1.4274000e-01],\n",
       "         [ 3.9616499e+00, -9.0209703e+00, -1.3557500e+00, ...,\n",
       "           1.4833500e+00, -1.1889180e+01,  1.6653000e+00],\n",
       "         [ 1.1464530e+01, -5.7116899e+00,  1.9618500e+00, ...,\n",
       "           2.2489500e+00, -1.0858140e+01,  3.4416201e+00],\n",
       "         ...,\n",
       "         [-4.5761099e+00, -1.1137000e-01, -4.6733499e+00, ...,\n",
       "          -4.8966498e+00,  1.2855780e+01,  8.2630596e+00],\n",
       "         [-1.4714700e+00,  4.2161498e+00, -2.3765500e+00, ...,\n",
       "          -3.8758500e+00,  1.2340260e+01,  6.7405000e+00],\n",
       "         [-1.4714700e+00,  4.7252698e+00, -2.3765500e+00, ...,\n",
       "          -5.6622500e+00,  1.0793700e+01,  3.6953800e+00]],\n",
       " \n",
       "        [[-2.2476299e+00, -1.9457930e+01, -1.5136550e+01, ...,\n",
       "          -4.1310501e+00, -2.6098199e+00,  5.7254601e+00],\n",
       "         [-7.6807499e+00, -2.1239849e+01, -1.7688551e+01, ...,\n",
       "          -2.8550501e+00, -8.0549997e-01,  6.4867401e+00],\n",
       "         [-1.4714700e+00, -1.4366730e+01, -1.3350150e+01, ...,\n",
       "          -2.8550501e+00, -3.2219999e-02,  4.4566598e+00],\n",
       "         ...,\n",
       "         [-8.1415947e+01, -3.9313610e+01, -4.0911751e+01, ...,\n",
       "          -6.4868652e+01, -5.4677341e+01, -9.5271019e+01],\n",
       "         [-8.4520592e+01, -4.3641129e+01, -4.4484550e+01, ...,\n",
       "          -6.8441452e+01, -5.7512699e+01, -9.6539818e+01],\n",
       "         [-8.5555473e+01, -4.4913929e+01, -4.5505348e+01, ...,\n",
       "          -7.0738251e+01, -5.9574780e+01, -9.7554863e+01]],\n",
       " \n",
       "        [[-3.5412300e+00,  4.9798298e+00,  5.2794499e+00, ...,\n",
       "          -4.3862500e+00, -1.5497820e+01,  3.4416201e+00],\n",
       "         [-3.7999499e+00,  4.7252698e+00,  4.7690501e+00, ...,\n",
       "          -7.7038498e+00, -1.6786619e+01,  9.0402001e-01],\n",
       "         [-3.5412300e+00,  4.7252698e+00,  4.0034499e+00, ...,\n",
       "          -4.1310501e+00, -1.4209020e+01,  3.4416201e+00],\n",
       "         ...,\n",
       "         [ 1.0429650e+01, -1.6403210e+01, -2.4578951e+01, ...,\n",
       "           1.5519350e+01,  3.9920582e+01,  1.1054420e+01],\n",
       "         [ 1.4569170e+01, -1.2584810e+01, -2.0240549e+01, ...,\n",
       "           1.7560949e+01,  4.1467140e+01,  1.1815700e+01],\n",
       "         [ 1.6638929e+01, -1.1821130e+01, -1.9474951e+01, ...,\n",
       "           1.6540150e+01,  3.8374020e+01,  7.2480202e+00]]], dtype=float32),\n",
       " 'StimulusCode': array([[12., 12., 12., ...,  0.,  0.,  0.],\n",
       "        [ 7.,  7.,  7., ...,  0.,  0.,  0.],\n",
       "        [ 8.,  8.,  8., ...,  0.,  0.,  0.],\n",
       "        ...,\n",
       "        [ 6.,  6.,  6., ...,  0.,  0.,  0.],\n",
       "        [ 7.,  7.,  7., ...,  0.,  0.,  0.],\n",
       "        [ 3.,  3.,  3., ...,  0.,  0.,  0.]], dtype=float32),\n",
       " 'StimulusType': array([[0., 0., 0., ..., 0., 0., 0.],\n",
       "        [1., 1., 1., ..., 0., 0., 0.],\n",
       "        [0., 0., 0., ..., 0., 0., 0.],\n",
       "        ...,\n",
       "        [0., 0., 0., ..., 0., 0., 0.],\n",
       "        [0., 0., 0., ..., 0., 0., 0.],\n",
       "        [1., 1., 1., ..., 0., 0., 0.]], dtype=float32),\n",
       " 'TargetChar': array(['EAEVQTDOJG8RBRGONCEDHCTUIDBPUHMEM6OUXOCFOUKWA4VJEFRZROLHYNQDW_EKTLBWXEPOUIKZERYOOTHQI'],\n",
       "       dtype='<U85')}"
      ]
     },
     "execution_count": 7,
     "metadata": {},
     "output_type": "execute_result"
    }
   ],
   "source": [
    "train"
   ]
  },
  {
   "cell_type": "code",
   "execution_count": 8,
   "metadata": {},
   "outputs": [
    {
     "data": {
      "text/plain": [
       "{'Flashing': array([[1., 1., 1., ..., 0., 0., 0.],\n",
       "        [1., 1., 1., ..., 0., 0., 0.],\n",
       "        [1., 1., 1., ..., 0., 0., 0.],\n",
       "        ...,\n",
       "        [1., 1., 1., ..., 0., 0., 0.],\n",
       "        [1., 1., 1., ..., 0., 0., 0.],\n",
       "        [1., 1., 1., ..., 0., 0., 0.]], dtype=float32),\n",
       " 'Signal': array([[[-1.621851e+01, -1.411217e+01, -9.777350e+00, ...,\n",
       "          -1.918785e+01, -1.987974e+01,  1.411540e+00],\n",
       "         [-1.285515e+01, -1.385761e+01, -1.003255e+01, ...,\n",
       "          -2.454705e+01, -2.323062e+01, -4.171180e+00],\n",
       "         [-1.259643e+01, -1.385761e+01, -1.003255e+01, ...,\n",
       "          -2.811985e+01, -2.606598e+01, -1.000766e+01],\n",
       "         ...,\n",
       "         [-1.621851e+01, -1.614865e+01, -1.232935e+01, ...,\n",
       "          -3.030500e-01,  4.607460e+00,  9.040200e-01],\n",
       "         [-1.285515e+01, -1.334849e+01, -1.079815e+01, ...,\n",
       "          -2.344650e+00,  2.545380e+00,  1.427400e-01],\n",
       "         [-1.440747e+01, -1.742145e+01, -1.513655e+01, ...,\n",
       "          -5.407050e+00, -1.321020e+00, -2.902380e+00]],\n",
       " \n",
       "        [[ 2.409330e+00,  1.210751e+01,  1.114905e+01, ...,\n",
       "          -4.641450e+00, -2.609820e+00, -8.992620e+00],\n",
       "         [ 2.926770e+00,  1.287119e+01,  1.114905e+01, ...,\n",
       "          -7.703850e+00, -4.929660e+00, -9.753900e+00],\n",
       "         [ 4.220370e+00,  1.338031e+01,  1.063865e+01, ...,\n",
       "          -1.357345e+01, -8.538300e+00, -1.305278e+01],\n",
       "         ...,\n",
       "         [-2.501499e+01, -2.734929e+01, -2.585495e+01, ...,\n",
       "          -5.917450e+00, -3.222000e-02,  3.965000e-01],\n",
       "         [-2.889579e+01, -3.040401e+01, -2.840695e+01, ...,\n",
       "          -5.662250e+00, -5.477400e-01,  1.157780e+00],\n",
       "         [-2.760219e+01, -2.862209e+01, -2.662055e+01, ...,\n",
       "          -4.131050e+00,  7.410600e-01,  2.934100e+00]],\n",
       " \n",
       "        [[-1.026795e+01, -1.638730e+00, -5.183750e+00, ...,\n",
       "           8.628950e+00, -7.507260e+00,  6.502600e-01],\n",
       "         [ 4.996530e+00,  7.779990e+00,  3.237850e+00, ...,\n",
       "           4.545750e+00, -1.137366e+01,  3.965000e-01],\n",
       "         [-2.765070e+00, -1.113700e-01, -3.652550e+00, ...,\n",
       "          -1.834250e+00, -1.652886e+01, -1.887340e+00],\n",
       "         ...,\n",
       "         [-1.000923e+01, -1.563953e+01, -2.075095e+01, ...,\n",
       "           2.827935e+01,  2.058858e+01,  1.587586e+01],\n",
       "         [-1.259643e+01, -1.614865e+01, -2.049575e+01, ...,\n",
       "           3.032095e+01,  2.316618e+01,  1.892098e+01],\n",
       "         [-1.440747e+01, -1.563953e+01, -2.177175e+01, ...,\n",
       "           2.802415e+01,  2.161962e+01,  1.815970e+01]],\n",
       " \n",
       "        ...,\n",
       " \n",
       "        [[-9.540300e-01, -4.438890e+00,  4.258650e+00, ...,\n",
       "          -1.068650e+00,  5.896260e+00, -1.406782e+01],\n",
       "         [ 4.996530e+00, -3.659300e-01,  7.831450e+00, ...,\n",
       "          -1.323850e+00,  3.576420e+00, -1.609790e+01],\n",
       "         [ 5.772690e+00, -1.129610e+00,  4.513850e+00, ...,\n",
       "          -1.068650e+00,  3.318660e+00, -1.660542e+01],\n",
       "         ...,\n",
       "         [-2.682603e+01, -3.193137e+01, -3.580775e+01, ...,\n",
       "          -7.448650e+00, -6.476220e+00, -6.201260e+00],\n",
       "         [-2.294523e+01, -2.760385e+01, -3.274535e+01, ...,\n",
       "          -4.386250e+00, -4.156380e+00, -4.171180e+00],\n",
       "         [-2.139291e+01, -2.607649e+01, -3.070375e+01, ...,\n",
       "          -4.131050e+00, -5.445180e+00, -5.693740e+00]],\n",
       " \n",
       "        [[-1.026795e+01, -2.656970e+00, -1.232935e+01, ...,\n",
       "          -1.323850e+00,  6.154020e+00,  6.994260e+00],\n",
       "         [-8.198190e+00, -6.204900e-01, -1.105335e+01, ...,\n",
       "          -3.110250e+00,  4.607460e+00,  4.202900e+00],\n",
       "         [-7.939470e+00, -6.204900e-01, -1.054295e+01, ...,\n",
       "          -3.110250e+00,  4.865220e+00,  4.964180e+00],\n",
       "         ...,\n",
       "         [-1.778700e-01, -4.184330e+00, -5.183750e+00, ...,\n",
       "           5.056150e+00,  1.130922e+01,  1.409954e+01],\n",
       "         [-1.778700e-01, -3.675210e+00, -5.694150e+00, ...,\n",
       "           8.118550e+00,  1.234026e+01,  1.511458e+01],\n",
       "         [ 8.085000e-02, -2.402410e+00, -3.652550e+00, ...,\n",
       "           1.296735e+01,  1.646442e+01,  1.942850e+01]],\n",
       " \n",
       "        [[-1.673595e+01, -1.436673e+01, -1.028775e+01, ...,\n",
       "          -1.178705e+01, -1.395126e+01, -1.559038e+01],\n",
       "         [-2.216907e+01, -1.742145e+01, -1.386055e+01, ...,\n",
       "          -1.076625e+01, -1.240470e+01, -1.432158e+01],\n",
       "         [-1.595979e+01, -1.054833e+01, -8.501350e+00, ...,\n",
       "          -7.448650e+00, -7.765020e+00, -9.246380e+00],\n",
       "         ...,\n",
       "         [-3.096555e+01, -2.174897e+01, -2.917255e+01, ...,\n",
       "           7.177500e-01,  2.287620e+00,  1.105442e+01],\n",
       "         [-3.122427e+01, -2.327633e+01, -2.993815e+01, ...,\n",
       "           2.073500e-01,  1.514340e+00,  9.278100e+00],\n",
       "         [-3.251787e+01, -2.429457e+01, -3.146935e+01, ...,\n",
       "           4.545750e+00,  4.865220e+00,  1.181570e+01]]], dtype=float32),\n",
       " 'StimulusCode': array([[ 8.,  8.,  8., ...,  0.,  0.,  0.],\n",
       "        [ 7.,  7.,  7., ...,  0.,  0.,  0.],\n",
       "        [12., 12., 12., ...,  0.,  0.,  0.],\n",
       "        ...,\n",
       "        [ 8.,  8.,  8., ...,  0.,  0.,  0.],\n",
       "        [12., 12., 12., ...,  0.,  0.,  0.],\n",
       "        [ 9.,  9.,  9., ...,  0.,  0.,  0.]], dtype=float32)}"
      ]
     },
     "execution_count": 8,
     "metadata": {},
     "output_type": "execute_result"
    }
   ],
   "source": [
    "test"
   ]
  },
  {
   "cell_type": "code",
   "execution_count": 9,
   "metadata": {},
   "outputs": [
    {
     "data": {
      "text/plain": [
       "dict_keys(['StimulusCode', 'StimulusType', 'Signal', 'TargetChar', 'Flashing'])"
      ]
     },
     "execution_count": 9,
     "metadata": {},
     "output_type": "execute_result"
    }
   ],
   "source": [
    "train.keys()"
   ]
  },
  {
   "cell_type": "code",
   "execution_count": 10,
   "metadata": {},
   "outputs": [
    {
     "data": {
      "text/plain": [
       "dict_keys(['StimulusCode', 'Signal', 'Flashing'])"
      ]
     },
     "execution_count": 10,
     "metadata": {},
     "output_type": "execute_result"
    }
   ],
   "source": [
    "test.keys()"
   ]
  },
  {
   "cell_type": "markdown",
   "metadata": {},
   "source": [
    "## Preprocessing"
   ]
  },
  {
   "cell_type": "code",
   "execution_count": 11,
   "metadata": {},
   "outputs": [
    {
     "name": "stdout",
     "output_type": "stream",
     "text": [
      "85 7794 64\n"
     ]
    }
   ],
   "source": [
    "NUM_CHARS, NUM_SAMPLES, NUM_ELECTRODES = train['Signal'].shape\n",
    "print(NUM_CHARS, NUM_SAMPLES, NUM_ELECTRODES)"
   ]
  },
  {
   "cell_type": "code",
   "execution_count": 12,
   "metadata": {},
   "outputs": [],
   "source": [
    "# 6 rows + 6 cols\n",
    "NUM_ROWCOLS = 12\n",
    "\n",
    "# Each character is runned for 15 times, so 12 * 15 = 180 intensifies\n",
    "NUM_REPEAT = 15\n",
    "\n",
    "# Sampling frequency is 240Hz\n",
    "FS = 240\n",
    "\n",
    "# After the simulation, 0.65s of data is treated as a sample\n",
    "SECONDS_TO_SLICE = 0.65    "
   ]
  },
  {
   "cell_type": "code",
   "execution_count": 13,
   "metadata": {},
   "outputs": [],
   "source": [
    "from src.data.preprocessing import transform\n",
    "train = transform(train, FS, NUM_ROWCOLS, NUM_REPEAT, SECONDS_TO_SLICE)\n",
    "test = transform(test, FS, NUM_ROWCOLS, NUM_REPEAT, SECONDS_TO_SLICE)"
   ]
  },
  {
   "cell_type": "code",
   "execution_count": 14,
   "metadata": {},
   "outputs": [
    {
     "data": {
      "text/plain": [
       "dict_keys(['targetchar', 'code', 'signal', 'label'])"
      ]
     },
     "execution_count": 14,
     "metadata": {},
     "output_type": "execute_result"
    }
   ],
   "source": [
    "train.keys()"
   ]
  },
  {
   "cell_type": "code",
   "execution_count": 15,
   "metadata": {},
   "outputs": [
    {
     "data": {
      "text/plain": [
       "dict_keys(['code', 'signal'])"
      ]
     },
     "execution_count": 15,
     "metadata": {},
     "output_type": "execute_result"
    }
   ],
   "source": [
    "test.keys()"
   ]
  },
  {
   "cell_type": "code",
   "execution_count": 16,
   "metadata": {},
   "outputs": [
    {
     "data": {
      "text/plain": [
       "(85, 15, 12, 64, 156)"
      ]
     },
     "execution_count": 16,
     "metadata": {},
     "output_type": "execute_result"
    }
   ],
   "source": [
    "train['signal'].shape"
   ]
  },
  {
   "cell_type": "code",
   "execution_count": 17,
   "metadata": {},
   "outputs": [
    {
     "name": "stdout",
     "output_type": "stream",
     "text": [
      "(85, 15, 12)\n",
      "['E' 'A' 'E' 'V' 'Q' 'T' 'D' 'O' 'J' 'G' '8' 'R' 'B' 'R' 'G' 'O' 'N' 'C'\n",
      " 'E' 'D' 'H' 'C' 'T' 'U' 'I' 'D' 'B' 'P' 'U' 'H' 'M' 'E' 'M' '6' 'O' 'U'\n",
      " 'X' 'O' 'C' 'F' 'O' 'U' 'K' 'W' 'A' '4' 'V' 'J' 'E' 'F' 'R' 'Z' 'R' 'O'\n",
      " 'L' 'H' 'Y' 'N' 'Q' 'D' 'W' '_' 'E' 'K' 'T' 'L' 'B' 'W' 'X' 'E' 'P' 'O'\n",
      " 'U' 'I' 'K' 'Z' 'E' 'R' 'Y' 'O' 'O' 'T' 'H' 'Q' 'I']\n",
      "(85, 15, 12)\n"
     ]
    }
   ],
   "source": [
    "print(train['label'].shape)\n",
    "print(train['targetchar'].shape)\n",
    "print(train['code'].shape)"
   ]
  },
  {
   "cell_type": "code",
   "execution_count": 18,
   "metadata": {},
   "outputs": [],
   "source": [
    "from src.data.preprocessing import subsample, butter_bandpass_filter, standardize_along\n",
    "\n",
    "for d in [train, test]:\n",
    "\n",
    "    subsample_interval = 2\n",
    "\n",
    "    d['signal'] = subsample(d['signal'], subsample_interval)\n",
    "\n",
    "    lowcut = 0.1\n",
    "    highcut = 20\n",
    "    order = 5\n",
    "    d['signal'] = butter_bandpass_filter(d['signal'], lowcut, highcut,\n",
    "                                             int(FS/subsample_interval), order, -1)\n",
    "\n",
    "    d['signal'] = standardize_along(d['signal'], -1).reshape([-1, NUM_ELECTRODES, \n",
    "                                                            d['signal'].shape[-1], 1])\n"
   ]
  },
  {
   "cell_type": "code",
   "execution_count": 19,
   "metadata": {},
   "outputs": [
    {
     "data": {
      "text/plain": [
       "(15300, 64, 78, 1)"
      ]
     },
     "execution_count": 19,
     "metadata": {},
     "output_type": "execute_result"
    }
   ],
   "source": [
    "train['signal'].shape"
   ]
  },
  {
   "cell_type": "code",
   "execution_count": 20,
   "metadata": {},
   "outputs": [
    {
     "data": {
      "text/plain": [
       "(18000, 64, 78, 1)"
      ]
     },
     "execution_count": 20,
     "metadata": {},
     "output_type": "execute_result"
    }
   ],
   "source": [
    "test['signal'].shape"
   ]
  },
  {
   "cell_type": "code",
   "execution_count": 21,
   "metadata": {},
   "outputs": [
    {
     "data": {
      "text/plain": [
       "(85, 15, 12)"
      ]
     },
     "execution_count": 21,
     "metadata": {},
     "output_type": "execute_result"
    }
   ],
   "source": [
    "train['label'].shape"
   ]
  },
  {
   "cell_type": "code",
   "execution_count": 22,
   "metadata": {},
   "outputs": [
    {
     "data": {
      "text/plain": [
       "array([0., 0., 0., 0., 0., 1., 0., 0., 0., 1., 0., 0.])"
      ]
     },
     "execution_count": 22,
     "metadata": {},
     "output_type": "execute_result"
    }
   ],
   "source": [
    "train['label'][0][0]"
   ]
  },
  {
   "cell_type": "code",
   "execution_count": 23,
   "metadata": {},
   "outputs": [],
   "source": [
    "train['label'] = to_categorical(train['label'].reshape([-1, ]))"
   ]
  },
  {
   "cell_type": "markdown",
   "metadata": {},
   "source": [
    "## Training"
   ]
  },
  {
   "cell_type": "code",
   "execution_count": 24,
   "metadata": {},
   "outputs": [],
   "source": [
    "X_train, X_val, y_train, y_val = train_test_split(train['signal'], train['label'], test_size=0.05,\n",
    "                                                  random_state=RANDOM_STATE, stratify=train['label'])"
   ]
  },
  {
   "cell_type": "markdown",
   "metadata": {},
   "source": [
    "## Testing"
   ]
  }
 ],
 "metadata": {
  "kernelspec": {
   "display_name": "Python [default]",
   "language": "python",
   "name": "python3"
  },
  "language_info": {
   "codemirror_mode": {
    "name": "ipython",
    "version": 3
   },
   "file_extension": ".py",
   "mimetype": "text/x-python",
   "name": "python",
   "nbconvert_exporter": "python",
   "pygments_lexer": "ipython3",
   "version": "3.5.2"
  }
 },
 "nbformat": 4,
 "nbformat_minor": 2
}
