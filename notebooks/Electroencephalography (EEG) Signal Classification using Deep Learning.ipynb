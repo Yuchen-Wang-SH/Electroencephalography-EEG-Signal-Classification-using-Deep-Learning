{
 "cells": [
  {
   "cell_type": "markdown",
   "metadata": {},
   "source": [
    "# Electroencephalography (EEG) Signal Classification using Deep Learning"
   ]
  },
  {
   "cell_type": "code",
   "execution_count": 1,
   "metadata": {},
   "outputs": [],
   "source": [
    "%load_ext autoreload\n",
    "%autoreload 2\n",
    "import matplotlib.pyplot as plt\n",
    "%matplotlib inline"
   ]
  },
  {
   "cell_type": "code",
   "execution_count": 2,
   "metadata": {},
   "outputs": [
    {
     "name": "stderr",
     "output_type": "stream",
     "text": [
      "Using TensorFlow backend.\n",
      "d:\\anaconda3\\lib\\importlib\\_bootstrap.py:222: RuntimeWarning: numpy.dtype size changed, may indicate binary incompatibility. Expected 96, got 88\n",
      "  return f(*args, **kwds)\n",
      "d:\\anaconda3\\lib\\importlib\\_bootstrap.py:222: RuntimeWarning: numpy.dtype size changed, may indicate binary incompatibility. Expected 96, got 88\n",
      "  return f(*args, **kwds)\n"
     ]
    }
   ],
   "source": [
    "import numpy as np\n",
    "from keras.utils import to_categorical\n",
    "from keras.callbacks import EarlyStopping\n",
    "from sklearn.model_selection import train_test_split"
   ]
  },
  {
   "cell_type": "code",
   "execution_count": 3,
   "metadata": {},
   "outputs": [],
   "source": [
    "RANDOM_STATE = 42  # for reproducibility\n",
    "np.random.seed(RANDOM_STATE)"
   ]
  },
  {
   "cell_type": "code",
   "execution_count": 4,
   "metadata": {},
   "outputs": [],
   "source": [
    "import os\n",
    "os.chdir(\"../\")\n",
    "DATA_DIR = \"./data/raw/BCI_Comp_III_Wads_2004/\""
   ]
  },
  {
   "cell_type": "markdown",
   "metadata": {},
   "source": [
    "## Read in the data from .mat"
   ]
  },
  {
   "cell_type": "code",
   "execution_count": 5,
   "metadata": {},
   "outputs": [],
   "source": [
    "from src.data.io import load_data_from_mat"
   ]
  },
  {
   "cell_type": "code",
   "execution_count": 6,
   "metadata": {},
   "outputs": [],
   "source": [
    "train = load_data_from_mat(DATA_DIR + \"Subject_A_Train.mat\")\n",
    "test = load_data_from_mat(DATA_DIR + \"Subject_A_Test.mat\")"
   ]
  },
  {
   "cell_type": "code",
   "execution_count": 7,
   "metadata": {},
   "outputs": [
    {
     "data": {
      "text/plain": [
       "{'Flashing': array([[1., 1., 1., ..., 0., 0., 0.],\n",
       "        [1., 1., 1., ..., 0., 0., 0.],\n",
       "        [1., 1., 1., ..., 0., 0., 0.],\n",
       "        ...,\n",
       "        [1., 1., 1., ..., 0., 0., 0.],\n",
       "        [1., 1., 1., ..., 0., 0., 0.],\n",
       "        [1., 1., 1., ..., 0., 0., 0.]], dtype=float32),\n",
       " 'Signal': array([[[ 8.0849998e-02, -1.7930571e+01, -9.2669497e+00, ...,\n",
       "          -1.9443050e+01, -1.0342620e+01, -1.4575340e+01],\n",
       "         [-2.2476299e+00, -1.7676010e+01, -6.4597502e+00, ...,\n",
       "          -1.7911850e+01, -8.0227804e+00, -1.3052780e+01],\n",
       "         [ 7.5837302e+00, -1.4875850e+01, -3.3973501e+00, ...,\n",
       "          -1.4083850e+01, -4.1563802e+00, -9.7538996e+00],\n",
       "         ...,\n",
       "         [-2.6567310e+01, -1.4366730e+01, -2.4068550e+01, ...,\n",
       "           5.0561500e+00, -1.3210200e+00,  3.9491401e+00],\n",
       "         [-2.1651630e+01, -1.2330250e+01, -2.0750950e+01, ...,\n",
       "           9.7294998e-01, -2.0943000e+00,  1.1577801e+00],\n",
       "         [-2.2169069e+01, -1.5130410e+01, -2.4068550e+01, ...,\n",
       "          -1.3238500e+00, -4.6718998e+00, -1.6335800e+00]],\n",
       " \n",
       "        [[ 1.5086610e+01,  1.1598390e+01,  1.2680250e+01, ...,\n",
       "          -3.6206501e+00,  7.1850600e+00,  1.4115400e+00],\n",
       "         [ 1.1464530e+01,  9.5619097e+00,  1.0383450e+01, ...,\n",
       "           3.2697501e+00,  1.4917860e+01,  7.2480202e+00],\n",
       "         [ 1.1205810e+01,  1.0580150e+01,  1.2169850e+01, ...,\n",
       "           6.0769501e+00,  1.8784260e+01,  9.2781000e+00],\n",
       "         ...,\n",
       "         [-1.3372590e+01, -1.1312010e+01, -1.6157351e+01, ...,\n",
       "           1.3732950e+01, -1.3210200e+00,  9.5318604e+00],\n",
       "         [-1.6735950e+01, -1.7421450e+01, -2.0750950e+01, ...,\n",
       "           6.3321500e+00, -3.3831000e+00,  3.9491401e+00],\n",
       "         [-2.3980110e+01, -2.4040010e+01, -2.6110149e+01, ...,\n",
       "           2.0735000e-01, -6.4762201e+00,  1.4274000e-01]],\n",
       " \n",
       "        [[-1.1893035e+02, -1.1848177e+02, -1.1798215e+02, ...,\n",
       "          -1.1029425e+02, -1.1009574e+02, -1.1049662e+02],\n",
       "         [-1.1634315e+02, -1.1415425e+02, -1.1543015e+02, ...,\n",
       "          -1.0952865e+02, -1.0906470e+02, -1.0897406e+02],\n",
       "         [-1.0909899e+02, -1.1237233e+02, -1.1568535e+02, ...,\n",
       "          -1.1437745e+02, -1.1396214e+02, -1.1481054e+02],\n",
       "         ...,\n",
       "         [-1.5701070e+01, -1.2330250e+01, -6.7149501e+00, ...,\n",
       "          -3.8758500e+00,  4.3497000e+00,  9.7856197e+00],\n",
       "         [-2.0616751e+01, -1.8185129e+01, -1.2584550e+01, ...,\n",
       "          -4.3862500e+00,  2.2876201e+00,  9.0243397e+00],\n",
       "         [-2.3721390e+01, -1.9203369e+01, -1.4115750e+01, ...,\n",
       "          -1.3238500e+00,  5.1229801e+00,  1.4607060e+01]],\n",
       " \n",
       "        ...,\n",
       " \n",
       "        [[-8.1981897e+00, -1.2075690e+01, -3.3973501e+00, ...,\n",
       "          -4.7850002e-02, -1.3951260e+01,  1.4274000e-01],\n",
       "         [ 3.9616499e+00, -9.0209703e+00, -1.3557500e+00, ...,\n",
       "           1.4833500e+00, -1.1889180e+01,  1.6653000e+00],\n",
       "         [ 1.1464530e+01, -5.7116899e+00,  1.9618500e+00, ...,\n",
       "           2.2489500e+00, -1.0858140e+01,  3.4416201e+00],\n",
       "         ...,\n",
       "         [-4.5761099e+00, -1.1137000e-01, -4.6733499e+00, ...,\n",
       "          -4.8966498e+00,  1.2855780e+01,  8.2630596e+00],\n",
       "         [-1.4714700e+00,  4.2161498e+00, -2.3765500e+00, ...,\n",
       "          -3.8758500e+00,  1.2340260e+01,  6.7405000e+00],\n",
       "         [-1.4714700e+00,  4.7252698e+00, -2.3765500e+00, ...,\n",
       "          -5.6622500e+00,  1.0793700e+01,  3.6953800e+00]],\n",
       " \n",
       "        [[-2.2476299e+00, -1.9457930e+01, -1.5136550e+01, ...,\n",
       "          -4.1310501e+00, -2.6098199e+00,  5.7254601e+00],\n",
       "         [-7.6807499e+00, -2.1239849e+01, -1.7688551e+01, ...,\n",
       "          -2.8550501e+00, -8.0549997e-01,  6.4867401e+00],\n",
       "         [-1.4714700e+00, -1.4366730e+01, -1.3350150e+01, ...,\n",
       "          -2.8550501e+00, -3.2219999e-02,  4.4566598e+00],\n",
       "         ...,\n",
       "         [-8.1415947e+01, -3.9313610e+01, -4.0911751e+01, ...,\n",
       "          -6.4868652e+01, -5.4677341e+01, -9.5271019e+01],\n",
       "         [-8.4520592e+01, -4.3641129e+01, -4.4484550e+01, ...,\n",
       "          -6.8441452e+01, -5.7512699e+01, -9.6539818e+01],\n",
       "         [-8.5555473e+01, -4.4913929e+01, -4.5505348e+01, ...,\n",
       "          -7.0738251e+01, -5.9574780e+01, -9.7554863e+01]],\n",
       " \n",
       "        [[-3.5412300e+00,  4.9798298e+00,  5.2794499e+00, ...,\n",
       "          -4.3862500e+00, -1.5497820e+01,  3.4416201e+00],\n",
       "         [-3.7999499e+00,  4.7252698e+00,  4.7690501e+00, ...,\n",
       "          -7.7038498e+00, -1.6786619e+01,  9.0402001e-01],\n",
       "         [-3.5412300e+00,  4.7252698e+00,  4.0034499e+00, ...,\n",
       "          -4.1310501e+00, -1.4209020e+01,  3.4416201e+00],\n",
       "         ...,\n",
       "         [ 1.0429650e+01, -1.6403210e+01, -2.4578951e+01, ...,\n",
       "           1.5519350e+01,  3.9920582e+01,  1.1054420e+01],\n",
       "         [ 1.4569170e+01, -1.2584810e+01, -2.0240549e+01, ...,\n",
       "           1.7560949e+01,  4.1467140e+01,  1.1815700e+01],\n",
       "         [ 1.6638929e+01, -1.1821130e+01, -1.9474951e+01, ...,\n",
       "           1.6540150e+01,  3.8374020e+01,  7.2480202e+00]]], dtype=float32),\n",
       " 'StimulusCode': array([[12., 12., 12., ...,  0.,  0.,  0.],\n",
       "        [ 7.,  7.,  7., ...,  0.,  0.,  0.],\n",
       "        [ 8.,  8.,  8., ...,  0.,  0.,  0.],\n",
       "        ...,\n",
       "        [ 6.,  6.,  6., ...,  0.,  0.,  0.],\n",
       "        [ 7.,  7.,  7., ...,  0.,  0.,  0.],\n",
       "        [ 3.,  3.,  3., ...,  0.,  0.,  0.]], dtype=float32),\n",
       " 'StimulusType': array([[0., 0., 0., ..., 0., 0., 0.],\n",
       "        [1., 1., 1., ..., 0., 0., 0.],\n",
       "        [0., 0., 0., ..., 0., 0., 0.],\n",
       "        ...,\n",
       "        [0., 0., 0., ..., 0., 0., 0.],\n",
       "        [0., 0., 0., ..., 0., 0., 0.],\n",
       "        [1., 1., 1., ..., 0., 0., 0.]], dtype=float32),\n",
       " 'TargetChar': array(['EAEVQTDOJG8RBRGONCEDHCTUIDBPUHMEM6OUXOCFOUKWA4VJEFRZROLHYNQDW_EKTLBWXEPOUIKZERYOOTHQI'],\n",
       "       dtype='<U85')}"
      ]
     },
     "execution_count": 7,
     "metadata": {},
     "output_type": "execute_result"
    }
   ],
   "source": [
    "train"
   ]
  },
  {
   "cell_type": "code",
   "execution_count": 8,
   "metadata": {},
   "outputs": [
    {
     "data": {
      "text/plain": [
       "{'Flashing': array([[1., 1., 1., ..., 0., 0., 0.],\n",
       "        [1., 1., 1., ..., 0., 0., 0.],\n",
       "        [1., 1., 1., ..., 0., 0., 0.],\n",
       "        ...,\n",
       "        [1., 1., 1., ..., 0., 0., 0.],\n",
       "        [1., 1., 1., ..., 0., 0., 0.],\n",
       "        [1., 1., 1., ..., 0., 0., 0.]], dtype=float32),\n",
       " 'Signal': array([[[-1.621851e+01, -1.411217e+01, -9.777350e+00, ...,\n",
       "          -1.918785e+01, -1.987974e+01,  1.411540e+00],\n",
       "         [-1.285515e+01, -1.385761e+01, -1.003255e+01, ...,\n",
       "          -2.454705e+01, -2.323062e+01, -4.171180e+00],\n",
       "         [-1.259643e+01, -1.385761e+01, -1.003255e+01, ...,\n",
       "          -2.811985e+01, -2.606598e+01, -1.000766e+01],\n",
       "         ...,\n",
       "         [-1.621851e+01, -1.614865e+01, -1.232935e+01, ...,\n",
       "          -3.030500e-01,  4.607460e+00,  9.040200e-01],\n",
       "         [-1.285515e+01, -1.334849e+01, -1.079815e+01, ...,\n",
       "          -2.344650e+00,  2.545380e+00,  1.427400e-01],\n",
       "         [-1.440747e+01, -1.742145e+01, -1.513655e+01, ...,\n",
       "          -5.407050e+00, -1.321020e+00, -2.902380e+00]],\n",
       " \n",
       "        [[ 2.409330e+00,  1.210751e+01,  1.114905e+01, ...,\n",
       "          -4.641450e+00, -2.609820e+00, -8.992620e+00],\n",
       "         [ 2.926770e+00,  1.287119e+01,  1.114905e+01, ...,\n",
       "          -7.703850e+00, -4.929660e+00, -9.753900e+00],\n",
       "         [ 4.220370e+00,  1.338031e+01,  1.063865e+01, ...,\n",
       "          -1.357345e+01, -8.538300e+00, -1.305278e+01],\n",
       "         ...,\n",
       "         [-2.501499e+01, -2.734929e+01, -2.585495e+01, ...,\n",
       "          -5.917450e+00, -3.222000e-02,  3.965000e-01],\n",
       "         [-2.889579e+01, -3.040401e+01, -2.840695e+01, ...,\n",
       "          -5.662250e+00, -5.477400e-01,  1.157780e+00],\n",
       "         [-2.760219e+01, -2.862209e+01, -2.662055e+01, ...,\n",
       "          -4.131050e+00,  7.410600e-01,  2.934100e+00]],\n",
       " \n",
       "        [[-1.026795e+01, -1.638730e+00, -5.183750e+00, ...,\n",
       "           8.628950e+00, -7.507260e+00,  6.502600e-01],\n",
       "         [ 4.996530e+00,  7.779990e+00,  3.237850e+00, ...,\n",
       "           4.545750e+00, -1.137366e+01,  3.965000e-01],\n",
       "         [-2.765070e+00, -1.113700e-01, -3.652550e+00, ...,\n",
       "          -1.834250e+00, -1.652886e+01, -1.887340e+00],\n",
       "         ...,\n",
       "         [-1.000923e+01, -1.563953e+01, -2.075095e+01, ...,\n",
       "           2.827935e+01,  2.058858e+01,  1.587586e+01],\n",
       "         [-1.259643e+01, -1.614865e+01, -2.049575e+01, ...,\n",
       "           3.032095e+01,  2.316618e+01,  1.892098e+01],\n",
       "         [-1.440747e+01, -1.563953e+01, -2.177175e+01, ...,\n",
       "           2.802415e+01,  2.161962e+01,  1.815970e+01]],\n",
       " \n",
       "        ...,\n",
       " \n",
       "        [[-9.540300e-01, -4.438890e+00,  4.258650e+00, ...,\n",
       "          -1.068650e+00,  5.896260e+00, -1.406782e+01],\n",
       "         [ 4.996530e+00, -3.659300e-01,  7.831450e+00, ...,\n",
       "          -1.323850e+00,  3.576420e+00, -1.609790e+01],\n",
       "         [ 5.772690e+00, -1.129610e+00,  4.513850e+00, ...,\n",
       "          -1.068650e+00,  3.318660e+00, -1.660542e+01],\n",
       "         ...,\n",
       "         [-2.682603e+01, -3.193137e+01, -3.580775e+01, ...,\n",
       "          -7.448650e+00, -6.476220e+00, -6.201260e+00],\n",
       "         [-2.294523e+01, -2.760385e+01, -3.274535e+01, ...,\n",
       "          -4.386250e+00, -4.156380e+00, -4.171180e+00],\n",
       "         [-2.139291e+01, -2.607649e+01, -3.070375e+01, ...,\n",
       "          -4.131050e+00, -5.445180e+00, -5.693740e+00]],\n",
       " \n",
       "        [[-1.026795e+01, -2.656970e+00, -1.232935e+01, ...,\n",
       "          -1.323850e+00,  6.154020e+00,  6.994260e+00],\n",
       "         [-8.198190e+00, -6.204900e-01, -1.105335e+01, ...,\n",
       "          -3.110250e+00,  4.607460e+00,  4.202900e+00],\n",
       "         [-7.939470e+00, -6.204900e-01, -1.054295e+01, ...,\n",
       "          -3.110250e+00,  4.865220e+00,  4.964180e+00],\n",
       "         ...,\n",
       "         [-1.778700e-01, -4.184330e+00, -5.183750e+00, ...,\n",
       "           5.056150e+00,  1.130922e+01,  1.409954e+01],\n",
       "         [-1.778700e-01, -3.675210e+00, -5.694150e+00, ...,\n",
       "           8.118550e+00,  1.234026e+01,  1.511458e+01],\n",
       "         [ 8.085000e-02, -2.402410e+00, -3.652550e+00, ...,\n",
       "           1.296735e+01,  1.646442e+01,  1.942850e+01]],\n",
       " \n",
       "        [[-1.673595e+01, -1.436673e+01, -1.028775e+01, ...,\n",
       "          -1.178705e+01, -1.395126e+01, -1.559038e+01],\n",
       "         [-2.216907e+01, -1.742145e+01, -1.386055e+01, ...,\n",
       "          -1.076625e+01, -1.240470e+01, -1.432158e+01],\n",
       "         [-1.595979e+01, -1.054833e+01, -8.501350e+00, ...,\n",
       "          -7.448650e+00, -7.765020e+00, -9.246380e+00],\n",
       "         ...,\n",
       "         [-3.096555e+01, -2.174897e+01, -2.917255e+01, ...,\n",
       "           7.177500e-01,  2.287620e+00,  1.105442e+01],\n",
       "         [-3.122427e+01, -2.327633e+01, -2.993815e+01, ...,\n",
       "           2.073500e-01,  1.514340e+00,  9.278100e+00],\n",
       "         [-3.251787e+01, -2.429457e+01, -3.146935e+01, ...,\n",
       "           4.545750e+00,  4.865220e+00,  1.181570e+01]]], dtype=float32),\n",
       " 'StimulusCode': array([[ 8.,  8.,  8., ...,  0.,  0.,  0.],\n",
       "        [ 7.,  7.,  7., ...,  0.,  0.,  0.],\n",
       "        [12., 12., 12., ...,  0.,  0.,  0.],\n",
       "        ...,\n",
       "        [ 8.,  8.,  8., ...,  0.,  0.,  0.],\n",
       "        [12., 12., 12., ...,  0.,  0.,  0.],\n",
       "        [ 9.,  9.,  9., ...,  0.,  0.,  0.]], dtype=float32)}"
      ]
     },
     "execution_count": 8,
     "metadata": {},
     "output_type": "execute_result"
    }
   ],
   "source": [
    "test"
   ]
  },
  {
   "cell_type": "code",
   "execution_count": 9,
   "metadata": {},
   "outputs": [
    {
     "data": {
      "text/plain": [
       "dict_keys(['TargetChar', 'Flashing', 'Signal', 'StimulusCode', 'StimulusType'])"
      ]
     },
     "execution_count": 9,
     "metadata": {},
     "output_type": "execute_result"
    }
   ],
   "source": [
    "train.keys()"
   ]
  },
  {
   "cell_type": "code",
   "execution_count": 10,
   "metadata": {},
   "outputs": [
    {
     "data": {
      "text/plain": [
       "dict_keys(['Flashing', 'Signal', 'StimulusCode'])"
      ]
     },
     "execution_count": 10,
     "metadata": {},
     "output_type": "execute_result"
    }
   ],
   "source": [
    "test.keys()"
   ]
  },
  {
   "cell_type": "markdown",
   "metadata": {},
   "source": [
    "## Preprocessing"
   ]
  },
  {
   "cell_type": "code",
   "execution_count": 11,
   "metadata": {},
   "outputs": [
    {
     "name": "stdout",
     "output_type": "stream",
     "text": [
      "85 7794 64\n"
     ]
    }
   ],
   "source": [
    "NUM_CHARS, NUM_SAMPLES, NUM_ELECTRODES = train['Signal'].shape\n",
    "print(NUM_CHARS, NUM_SAMPLES, NUM_ELECTRODES)"
   ]
  },
  {
   "cell_type": "code",
   "execution_count": 12,
   "metadata": {},
   "outputs": [],
   "source": [
    "# 6 rows + 6 cols\n",
    "NUM_ROWCOLS = 12\n",
    "\n",
    "# Each character is runned for 15 times, so 12 * 15 = 180 intensifies\n",
    "NUM_REPEAT = 15\n",
    "\n",
    "# Sampling frequency is 240Hz\n",
    "FS = 240\n",
    "\n",
    "# After the simulation, 0.65s of data is treated as a sample\n",
    "SECONDS_TO_SLICE = 0.65    "
   ]
  },
  {
   "cell_type": "code",
   "execution_count": 13,
   "metadata": {},
   "outputs": [],
   "source": [
    "from src.data.preprocessing import transform\n",
    "train = transform(train, FS, NUM_ROWCOLS, NUM_REPEAT, SECONDS_TO_SLICE)\n",
    "test = transform(test, FS, NUM_ROWCOLS, NUM_REPEAT, SECONDS_TO_SLICE)"
   ]
  },
  {
   "cell_type": "code",
   "execution_count": 14,
   "metadata": {},
   "outputs": [
    {
     "data": {
      "text/plain": [
       "dict_keys(['code', 'signal', 'label', 'targetchar'])"
      ]
     },
     "execution_count": 14,
     "metadata": {},
     "output_type": "execute_result"
    }
   ],
   "source": [
    "train.keys()"
   ]
  },
  {
   "cell_type": "code",
   "execution_count": 15,
   "metadata": {},
   "outputs": [
    {
     "data": {
      "text/plain": [
       "dict_keys(['code', 'signal'])"
      ]
     },
     "execution_count": 15,
     "metadata": {},
     "output_type": "execute_result"
    }
   ],
   "source": [
    "test.keys()"
   ]
  },
  {
   "cell_type": "code",
   "execution_count": 16,
   "metadata": {},
   "outputs": [
    {
     "data": {
      "text/plain": [
       "(85, 15, 12, 64, 156)"
      ]
     },
     "execution_count": 16,
     "metadata": {},
     "output_type": "execute_result"
    }
   ],
   "source": [
    "train['signal'].shape"
   ]
  },
  {
   "cell_type": "code",
   "execution_count": 17,
   "metadata": {},
   "outputs": [
    {
     "name": "stdout",
     "output_type": "stream",
     "text": [
      "(85, 15, 12)\n",
      "(85,)\n",
      "(85, 15, 12)\n"
     ]
    }
   ],
   "source": [
    "print(train['label'].shape)\n",
    "print(train['targetchar'].shape)\n",
    "print(train['code'].shape)"
   ]
  },
  {
   "cell_type": "code",
   "execution_count": 18,
   "metadata": {},
   "outputs": [],
   "source": [
    "from src.data.preprocessing import subsample, butter_bandpass_filter, standardize_along\n",
    "\n",
    "for d in [train, test]:\n",
    "\n",
    "    subsample_interval = 2\n",
    "\n",
    "    d['signal'] = subsample(d['signal'], subsample_interval)\n",
    "\n",
    "    lowcut = 0.1\n",
    "    highcut = 20\n",
    "    order = 5\n",
    "    FS_subsampled = int(FS/subsample_interval)\n",
    "    d['signal'] = butter_bandpass_filter(d['signal'], lowcut, highcut,\n",
    "                                             FS_subsampled, order, -1)\n",
    "\n",
    "    d['signal'] = standardize_along(d['signal'], -1).reshape([-1, NUM_ELECTRODES, \n",
    "                                                            d['signal'].shape[-1], 1])\n"
   ]
  },
  {
   "cell_type": "code",
   "execution_count": 19,
   "metadata": {},
   "outputs": [
    {
     "data": {
      "text/plain": [
       "(15300, 64, 78, 1)"
      ]
     },
     "execution_count": 19,
     "metadata": {},
     "output_type": "execute_result"
    }
   ],
   "source": [
    "train['signal'].shape"
   ]
  },
  {
   "cell_type": "code",
   "execution_count": 20,
   "metadata": {},
   "outputs": [
    {
     "data": {
      "text/plain": [
       "(18000, 64, 78, 1)"
      ]
     },
     "execution_count": 20,
     "metadata": {},
     "output_type": "execute_result"
    }
   ],
   "source": [
    "test['signal'].shape"
   ]
  },
  {
   "cell_type": "code",
   "execution_count": 21,
   "metadata": {},
   "outputs": [
    {
     "data": {
      "text/plain": [
       "(85, 15, 12)"
      ]
     },
     "execution_count": 21,
     "metadata": {},
     "output_type": "execute_result"
    }
   ],
   "source": [
    "train['label'].shape"
   ]
  },
  {
   "cell_type": "code",
   "execution_count": 22,
   "metadata": {},
   "outputs": [
    {
     "data": {
      "text/plain": [
       "array([0., 0., 0., 0., 0., 1., 0., 0., 0., 1., 0., 0.])"
      ]
     },
     "execution_count": 22,
     "metadata": {},
     "output_type": "execute_result"
    }
   ],
   "source": [
    "train['label'][0][0]"
   ]
  },
  {
   "cell_type": "code",
   "execution_count": 23,
   "metadata": {},
   "outputs": [],
   "source": [
    "train['label'] = to_categorical(train['label'].reshape([-1, ]))"
   ]
  },
  {
   "cell_type": "markdown",
   "metadata": {},
   "source": [
    "## Training"
   ]
  },
  {
   "cell_type": "code",
   "execution_count": 24,
   "metadata": {},
   "outputs": [],
   "source": [
    "X_train, X_val, y_train, y_val = train_test_split(train['signal'], train['label'], test_size=0.05,\n",
    "                                                  random_state=RANDOM_STATE, stratify=train['label'])"
   ]
  },
  {
   "cell_type": "code",
   "execution_count": 25,
   "metadata": {},
   "outputs": [],
   "source": [
    "from src.models.PAMI import CNN_P300_PAMI\n",
    "model = CNN_P300_PAMI(train['signal'].shape[1:])\n",
    "model.compile(optimizer = 'sgd',loss = 'binary_crossentropy',metrics = ['acc', 'mse'])"
   ]
  },
  {
   "cell_type": "code",
   "execution_count": 26,
   "metadata": {},
   "outputs": [],
   "source": [
    "earlystopping = EarlyStopping(monitor = \"val_mean_squared_error\",patience = 3)"
   ]
  },
  {
   "cell_type": "code",
   "execution_count": 27,
   "metadata": {},
   "outputs": [
    {
     "name": "stdout",
     "output_type": "stream",
     "text": [
      "Train on 14535 samples, validate on 765 samples\n",
      "Epoch 1/1000\n",
      "14535/14535 [==============================] - 17s - loss: 0.4536 - acc: 0.8320 - mean_squared_error: 0.1404 - val_loss: 0.4467 - val_acc: 0.8327 - val_mean_squared_error: 0.1379\n",
      "Epoch 2/1000\n",
      "14535/14535 [==============================] - 8s - loss: 0.4428 - acc: 0.8334 - mean_squared_error: 0.1367 - val_loss: 0.4422 - val_acc: 0.8327 - val_mean_squared_error: 0.1366\n",
      "Epoch 3/1000\n",
      "14535/14535 [==============================] - 7s - loss: 0.4381 - acc: 0.8334 - mean_squared_error: 0.1354 - val_loss: 0.4388 - val_acc: 0.8327 - val_mean_squared_error: 0.1355\n",
      "Epoch 4/1000\n",
      "14535/14535 [==============================] - 8s - loss: 0.4340 - acc: 0.8334 - mean_squared_error: 0.1342 - val_loss: 0.4346 - val_acc: 0.8327 - val_mean_squared_error: 0.1344\n",
      "Epoch 5/1000\n",
      "14535/14535 [==============================] - 8s - loss: 0.4296 - acc: 0.8334 - mean_squared_error: 0.1329 - val_loss: 0.4301 - val_acc: 0.8327 - val_mean_squared_error: 0.1330\n",
      "Epoch 6/1000\n",
      "14535/14535 [==============================] - 7s - loss: 0.4240 - acc: 0.8334 - mean_squared_error: 0.1312 - val_loss: 0.4243 - val_acc: 0.8327 - val_mean_squared_error: 0.1311\n",
      "Epoch 7/1000\n",
      "14535/14535 [==============================] - 7s - loss: 0.4170 - acc: 0.8334 - mean_squared_error: 0.1291 - val_loss: 0.4175 - val_acc: 0.8327 - val_mean_squared_error: 0.1291\n",
      "Epoch 8/1000\n",
      "14535/14535 [==============================] - 8s - loss: 0.4093 - acc: 0.8333 - mean_squared_error: 0.1268 - val_loss: 0.4104 - val_acc: 0.8307 - val_mean_squared_error: 0.1268\n",
      "Epoch 9/1000\n",
      "14535/14535 [==============================] - 9s - loss: 0.4023 - acc: 0.8340 - mean_squared_error: 0.1246 - val_loss: 0.4047 - val_acc: 0.8333 - val_mean_squared_error: 0.1249\n",
      "Epoch 10/1000\n",
      "14535/14535 [==============================] - 10s - loss: 0.3964 - acc: 0.8356 - mean_squared_error: 0.1227 - val_loss: 0.4003 - val_acc: 0.8340 - val_mean_squared_error: 0.1236\n",
      "Epoch 11/1000\n",
      "14535/14535 [==============================] - 11s - loss: 0.3921 - acc: 0.8365 - mean_squared_error: 0.1213 - val_loss: 0.3958 - val_acc: 0.8392 - val_mean_squared_error: 0.1221\n",
      "Epoch 12/1000\n",
      "14535/14535 [==============================] - 8s - loss: 0.3885 - acc: 0.8385 - mean_squared_error: 0.1201 - val_loss: 0.3926 - val_acc: 0.8418 - val_mean_squared_error: 0.1210\n",
      "Epoch 13/1000\n",
      "14535/14535 [==============================] - 7s - loss: 0.3852 - acc: 0.8396 - mean_squared_error: 0.1189 - val_loss: 0.3902 - val_acc: 0.8373 - val_mean_squared_error: 0.1204\n",
      "Epoch 14/1000\n",
      "14535/14535 [==============================] - 7s - loss: 0.3824 - acc: 0.8406 - mean_squared_error: 0.1180 - val_loss: 0.3874 - val_acc: 0.8412 - val_mean_squared_error: 0.1194\n",
      "Epoch 15/1000\n",
      "14535/14535 [==============================] - 6s - loss: 0.3798 - acc: 0.8413 - mean_squared_error: 0.1171 - val_loss: 0.3851 - val_acc: 0.8392 - val_mean_squared_error: 0.1186\n",
      "Epoch 16/1000\n",
      "14535/14535 [==============================] - 7s - loss: 0.3775 - acc: 0.8429 - mean_squared_error: 0.1163 - val_loss: 0.3818 - val_acc: 0.8444 - val_mean_squared_error: 0.1175\n",
      "Epoch 17/1000\n",
      "14535/14535 [==============================] - 8s - loss: 0.3746 - acc: 0.8440 - mean_squared_error: 0.1153 - val_loss: 0.3800 - val_acc: 0.8451 - val_mean_squared_error: 0.1169\n",
      "Epoch 18/1000\n",
      "14535/14535 [==============================] - 7s - loss: 0.3722 - acc: 0.8456 - mean_squared_error: 0.1145 - val_loss: 0.3778 - val_acc: 0.8412 - val_mean_squared_error: 0.1162\n",
      "Epoch 19/1000\n",
      "14535/14535 [==============================] - 7s - loss: 0.3698 - acc: 0.8454 - mean_squared_error: 0.1137 - val_loss: 0.3752 - val_acc: 0.8529 - val_mean_squared_error: 0.1153\n",
      "Epoch 20/1000\n",
      "14535/14535 [==============================] - 7s - loss: 0.3677 - acc: 0.8470 - mean_squared_error: 0.1130 - val_loss: 0.3733 - val_acc: 0.8458 - val_mean_squared_error: 0.1147\n",
      "Epoch 21/1000\n",
      "14535/14535 [==============================] - 7s - loss: 0.3654 - acc: 0.8481 - mean_squared_error: 0.1123 - val_loss: 0.3716 - val_acc: 0.8412 - val_mean_squared_error: 0.1142\n",
      "Epoch 22/1000\n",
      "14535/14535 [==============================] - 7s - loss: 0.3635 - acc: 0.8493 - mean_squared_error: 0.1116 - val_loss: 0.3695 - val_acc: 0.8444 - val_mean_squared_error: 0.1134\n",
      "Epoch 23/1000\n",
      "14535/14535 [==============================] - 7s - loss: 0.3619 - acc: 0.8503 - mean_squared_error: 0.1111 - val_loss: 0.3697 - val_acc: 0.8412 - val_mean_squared_error: 0.1136\n",
      "Epoch 24/1000\n",
      "14535/14535 [==============================] - 7s - loss: 0.3602 - acc: 0.8511 - mean_squared_error: 0.1104 - val_loss: 0.3678 - val_acc: 0.8458 - val_mean_squared_error: 0.1130\n",
      "Epoch 25/1000\n",
      "14535/14535 [==============================] - 9s - loss: 0.3586 - acc: 0.8514 - mean_squared_error: 0.1100 - val_loss: 0.3675 - val_acc: 0.8451 - val_mean_squared_error: 0.1127\n",
      "Epoch 26/1000\n",
      "14535/14535 [==============================] - 7s - loss: 0.3576 - acc: 0.8519 - mean_squared_error: 0.1096 - val_loss: 0.3669 - val_acc: 0.8444 - val_mean_squared_error: 0.1128\n",
      "Epoch 27/1000\n",
      "14535/14535 [==============================] - 7s - loss: 0.3563 - acc: 0.8528 - mean_squared_error: 0.1092 - val_loss: 0.3671 - val_acc: 0.8484 - val_mean_squared_error: 0.1125\n",
      "Epoch 28/1000\n",
      "14535/14535 [==============================] - 7s - loss: 0.3555 - acc: 0.8529 - mean_squared_error: 0.1089 - val_loss: 0.3649 - val_acc: 0.8451 - val_mean_squared_error: 0.1119\n",
      "Epoch 29/1000\n",
      "14535/14535 [==============================] - 7s - loss: 0.3541 - acc: 0.8534 - mean_squared_error: 0.1084 - val_loss: 0.3661 - val_acc: 0.8464 - val_mean_squared_error: 0.1122\n",
      "Epoch 30/1000\n",
      "14535/14535 [==============================] - 7s - loss: 0.3536 - acc: 0.8538 - mean_squared_error: 0.1082 - val_loss: 0.3636 - val_acc: 0.8523 - val_mean_squared_error: 0.1115\n",
      "Epoch 31/1000\n",
      "14535/14535 [==============================] - 7s - loss: 0.3527 - acc: 0.8546 - mean_squared_error: 0.1079 - val_loss: 0.3631 - val_acc: 0.8549 - val_mean_squared_error: 0.1112\n",
      "Epoch 32/1000\n",
      "14535/14535 [==============================] - 6s - loss: 0.3514 - acc: 0.8548 - mean_squared_error: 0.1076 - val_loss: 0.3619 - val_acc: 0.8523 - val_mean_squared_error: 0.1108\n",
      "Epoch 33/1000\n",
      "14535/14535 [==============================] - 7s - loss: 0.3507 - acc: 0.8555 - mean_squared_error: 0.1073 - val_loss: 0.3619 - val_acc: 0.8510 - val_mean_squared_error: 0.1106\n",
      "Epoch 34/1000\n",
      "14535/14535 [==============================] - 6s - loss: 0.3501 - acc: 0.8550 - mean_squared_error: 0.1072 - val_loss: 0.3626 - val_acc: 0.8477 - val_mean_squared_error: 0.1109\n",
      "Epoch 35/1000\n",
      "14535/14535 [==============================] - 8s - loss: 0.3493 - acc: 0.8561 - mean_squared_error: 0.1068 - val_loss: 0.3619 - val_acc: 0.8503 - val_mean_squared_error: 0.1107\n",
      "Epoch 36/1000\n",
      "14535/14535 [==============================] - 8s - loss: 0.3479 - acc: 0.8564 - mean_squared_error: 0.1065 - val_loss: 0.3615 - val_acc: 0.8510 - val_mean_squared_error: 0.1104\n",
      "Epoch 37/1000\n",
      "14535/14535 [==============================] - 8s - loss: 0.3475 - acc: 0.8569 - mean_squared_error: 0.1062 - val_loss: 0.3609 - val_acc: 0.8490 - val_mean_squared_error: 0.1101\n",
      "Epoch 38/1000\n",
      "14535/14535 [==============================] - 8s - loss: 0.3470 - acc: 0.8574 - mean_squared_error: 0.1061 - val_loss: 0.3612 - val_acc: 0.8523 - val_mean_squared_error: 0.1103\n",
      "Epoch 39/1000\n",
      "14535/14535 [==============================] - 7s - loss: 0.3460 - acc: 0.8580 - mean_squared_error: 0.1059 - val_loss: 0.3616 - val_acc: 0.8464 - val_mean_squared_error: 0.1104\n",
      "Epoch 40/1000\n",
      "14535/14535 [==============================] - 6s - loss: 0.3456 - acc: 0.8584 - mean_squared_error: 0.1056 - val_loss: 0.3599 - val_acc: 0.8471 - val_mean_squared_error: 0.1100\n",
      "Epoch 41/1000\n",
      "14535/14535 [==============================] - 6s - loss: 0.3447 - acc: 0.8589 - mean_squared_error: 0.1054 - val_loss: 0.3597 - val_acc: 0.8477 - val_mean_squared_error: 0.1098\n",
      "Epoch 42/1000\n",
      "14535/14535 [==============================] - 6s - loss: 0.3438 - acc: 0.8581 - mean_squared_error: 0.1049 - val_loss: 0.3597 - val_acc: 0.8464 - val_mean_squared_error: 0.1098\n",
      "Epoch 43/1000\n",
      "14535/14535 [==============================] - 7s - loss: 0.3433 - acc: 0.8579 - mean_squared_error: 0.1049 - val_loss: 0.3599 - val_acc: 0.8497 - val_mean_squared_error: 0.1097\n",
      "Epoch 44/1000\n",
      "14535/14535 [==============================] - 7s - loss: 0.3430 - acc: 0.8583 - mean_squared_error: 0.1049 - val_loss: 0.3612 - val_acc: 0.8497 - val_mean_squared_error: 0.1103\n",
      "Epoch 45/1000\n",
      "14535/14535 [==============================] - 6s - loss: 0.3423 - acc: 0.8594 - mean_squared_error: 0.1045 - val_loss: 0.3597 - val_acc: 0.8523 - val_mean_squared_error: 0.1094\n",
      "Epoch 46/1000\n",
      "14535/14535 [==============================] - 6s - loss: 0.3416 - acc: 0.8591 - mean_squared_error: 0.1043 - val_loss: 0.3593 - val_acc: 0.8477 - val_mean_squared_error: 0.1096\n",
      "Epoch 47/1000\n",
      "14535/14535 [==============================] - 7s - loss: 0.3406 - acc: 0.8599 - mean_squared_error: 0.1040 - val_loss: 0.3612 - val_acc: 0.8536 - val_mean_squared_error: 0.1098\n",
      "Epoch 48/1000\n",
      "14535/14535 [==============================] - 6s - loss: 0.3405 - acc: 0.8600 - mean_squared_error: 0.1040 - val_loss: 0.3590 - val_acc: 0.8458 - val_mean_squared_error: 0.1094\n",
      "Epoch 49/1000\n",
      "14535/14535 [==============================] - 6s - loss: 0.3399 - acc: 0.8606 - mean_squared_error: 0.1037 - val_loss: 0.3596 - val_acc: 0.8497 - val_mean_squared_error: 0.1096\n",
      "Epoch 50/1000\n",
      "14535/14535 [==============================] - 6s - loss: 0.3394 - acc: 0.8615 - mean_squared_error: 0.1036 - val_loss: 0.3595 - val_acc: 0.8464 - val_mean_squared_error: 0.1094\n",
      "Epoch 51/1000\n",
      "14535/14535 [==============================] - 6s - loss: 0.3384 - acc: 0.8598 - mean_squared_error: 0.1032 - val_loss: 0.3605 - val_acc: 0.8477 - val_mean_squared_error: 0.1097\n",
      "Epoch 52/1000\n",
      "14535/14535 [==============================] - 8s - loss: 0.3382 - acc: 0.8608 - mean_squared_error: 0.1032 - val_loss: 0.3599 - val_acc: 0.8536 - val_mean_squared_error: 0.1093\n",
      "Epoch 53/1000\n",
      "14535/14535 [==============================] - 6s - loss: 0.3375 - acc: 0.8612 - mean_squared_error: 0.1030 - val_loss: 0.3596 - val_acc: 0.8529 - val_mean_squared_error: 0.1090\n",
      "Epoch 54/1000\n",
      "14535/14535 [==============================] - 6s - loss: 0.3374 - acc: 0.8610 - mean_squared_error: 0.1029 - val_loss: 0.3615 - val_acc: 0.8471 - val_mean_squared_error: 0.1096\n",
      "Epoch 55/1000\n",
      "14535/14535 [==============================] - 7s - loss: 0.3369 - acc: 0.8605 - mean_squared_error: 0.1029 - val_loss: 0.3581 - val_acc: 0.8510 - val_mean_squared_error: 0.1087\n",
      "Epoch 56/1000\n",
      "14535/14535 [==============================] - 6s - loss: 0.3363 - acc: 0.8605 - mean_squared_error: 0.1026 - val_loss: 0.3585 - val_acc: 0.8529 - val_mean_squared_error: 0.1090\n",
      "Epoch 57/1000\n",
      "14535/14535 [==============================] - 5s - loss: 0.3358 - acc: 0.8622 - mean_squared_error: 0.1024 - val_loss: 0.3589 - val_acc: 0.8490 - val_mean_squared_error: 0.1086\n",
      "Epoch 58/1000\n",
      "14535/14535 [==============================] - 5s - loss: 0.3356 - acc: 0.8612 - mean_squared_error: 0.1023 - val_loss: 0.3581 - val_acc: 0.8503 - val_mean_squared_error: 0.1085\n",
      "Epoch 59/1000\n",
      "14535/14535 [==============================] - 5s - loss: 0.3349 - acc: 0.8615 - mean_squared_error: 0.1021 - val_loss: 0.3609 - val_acc: 0.8451 - val_mean_squared_error: 0.1092\n",
      "Epoch 60/1000\n",
      "14535/14535 [==============================] - 5s - loss: 0.3341 - acc: 0.8618 - mean_squared_error: 0.1020 - val_loss: 0.3617 - val_acc: 0.8510 - val_mean_squared_error: 0.1101\n",
      "Epoch 61/1000\n",
      "14535/14535 [==============================] - 5s - loss: 0.3336 - acc: 0.8625 - mean_squared_error: 0.1017 - val_loss: 0.3607 - val_acc: 0.8529 - val_mean_squared_error: 0.1091\n",
      "Epoch 62/1000\n",
      "14535/14535 [==============================] - 5s - loss: 0.3332 - acc: 0.8625 - mean_squared_error: 0.1016 - val_loss: 0.3613 - val_acc: 0.8425 - val_mean_squared_error: 0.1098\n"
     ]
    },
    {
     "data": {
      "text/plain": [
       "<keras.callbacks.History at 0x1c515a09ef0>"
      ]
     },
     "execution_count": 27,
     "metadata": {},
     "output_type": "execute_result"
    }
   ],
   "source": [
    "model.fit(x = X_train, y = y_train, batch_size=32, epochs = 1000, callbacks = [earlystopping], \n",
    "              validation_data = [X_val,y_val])"
   ]
  },
  {
   "cell_type": "markdown",
   "metadata": {},
   "source": [
    "## Testing"
   ]
  },
  {
   "cell_type": "code",
   "execution_count": 28,
   "metadata": {},
   "outputs": [
    {
     "ename": "NameError",
     "evalue": "name 'A_test' is not defined",
     "output_type": "error",
     "traceback": [
      "\u001b[0;31m---------------------------------------------------------------------------\u001b[0m",
      "\u001b[0;31mNameError\u001b[0m                                 Traceback (most recent call last)",
      "\u001b[0;32m<ipython-input-28-724a5a210196>\u001b[0m in \u001b[0;36m<module>\u001b[0;34m()\u001b[0m\n\u001b[1;32m      1\u001b[0m \u001b[1;32mfrom\u001b[0m \u001b[0msrc\u001b[0m\u001b[1;33m.\u001b[0m\u001b[0mpipelines\u001b[0m \u001b[1;32mimport\u001b[0m \u001b[0mPARADIGM\u001b[0m\u001b[1;33m,\u001b[0m \u001b[0mtesting_pipeline\u001b[0m\u001b[1;33m\u001b[0m\u001b[0m\n\u001b[0;32m----> 2\u001b[0;31m model_PAMI_scores = testing_pipeline(A_test['signal'],A_test['code'],model_PAMI,\"all\",PARADIGM,\n\u001b[0m\u001b[1;32m      3\u001b[0m                                     A_test_true_letters)\n",
      "\u001b[0;31mNameError\u001b[0m: name 'A_test' is not defined"
     ]
    }
   ],
   "source": [
    "from src.pipelines import PARADIGM, testing_pipeline\n",
    "model_PAMI_scores = testing_pipeline(A_test['signal'],A_test['code'],model_PAMI,\"all\",PARADIGM,\n",
    "                                    A_test_true_letters)"
   ]
  },
  {
   "cell_type": "code",
   "execution_count": 30,
   "metadata": {},
   "outputs": [
    {
     "data": {
      "text/plain": [
       "(100, 15, 12)"
      ]
     },
     "execution_count": 30,
     "metadata": {},
     "output_type": "execute_result"
    }
   ],
   "source": [
    "test['code'].shape"
   ]
  },
  {
   "cell_type": "code",
   "execution_count": 32,
   "metadata": {},
   "outputs": [
    {
     "data": {
      "text/plain": [
       "dict_keys(['code', 'signal'])"
      ]
     },
     "execution_count": 32,
     "metadata": {},
     "output_type": "execute_result"
    }
   ],
   "source": [
    "test.keys()"
   ]
  },
  {
   "cell_type": "code",
   "execution_count": 33,
   "metadata": {},
   "outputs": [
    {
     "data": {
      "text/plain": [
       "(18000, 64, 78, 1)"
      ]
     },
     "execution_count": 33,
     "metadata": {},
     "output_type": "execute_result"
    }
   ],
   "source": [
    "test['signal'].shape"
   ]
  },
  {
   "cell_type": "code",
   "execution_count": 34,
   "metadata": {},
   "outputs": [],
   "source": [
    "prediction = model.predict(test['signal'])"
   ]
  },
  {
   "cell_type": "code",
   "execution_count": 35,
   "metadata": {},
   "outputs": [
    {
     "data": {
      "text/plain": [
       "(18000, 2)"
      ]
     },
     "execution_count": 35,
     "metadata": {},
     "output_type": "execute_result"
    }
   ],
   "source": [
    "prediction.shape"
   ]
  },
  {
   "cell_type": "code",
   "execution_count": 36,
   "metadata": {},
   "outputs": [
    {
     "data": {
      "text/plain": [
       "array([0.9815497 , 0.01674833], dtype=float32)"
      ]
     },
     "execution_count": 36,
     "metadata": {},
     "output_type": "execute_result"
    }
   ],
   "source": [
    "prediction[0]"
   ]
  },
  {
   "cell_type": "code",
   "execution_count": 37,
   "metadata": {},
   "outputs": [],
   "source": [
    "predictions = prediction"
   ]
  },
  {
   "cell_type": "code",
   "execution_count": 38,
   "metadata": {},
   "outputs": [
    {
     "data": {
      "text/plain": [
       "array([0.01674833, 0.02458237, 0.03127092, ..., 0.28879926, 0.01601532,\n",
       "       0.33779472], dtype=float32)"
      ]
     },
     "execution_count": 38,
     "metadata": {},
     "output_type": "execute_result"
    }
   ],
   "source": [
    "np.delete(predictions, 0, -1).squeeze()"
   ]
  },
  {
   "cell_type": "code",
   "execution_count": 39,
   "metadata": {},
   "outputs": [],
   "source": [
    "predictions_drop =  np.delete(predictions, 0, -1).squeeze()"
   ]
  },
  {
   "cell_type": "code",
   "execution_count": 43,
   "metadata": {},
   "outputs": [],
   "source": [
    "predictions_shape = predictions_drop.reshape([-1, NUM_REPEAT, NUM_ROWCOLS])"
   ]
  },
  {
   "cell_type": "code",
   "execution_count": 44,
   "metadata": {},
   "outputs": [
    {
     "data": {
      "text/plain": [
       "(100, 15, 12)"
      ]
     },
     "execution_count": 44,
     "metadata": {},
     "output_type": "execute_result"
    }
   ],
   "source": [
    "predictions_shape.shape"
   ]
  },
  {
   "cell_type": "code",
   "execution_count": 45,
   "metadata": {},
   "outputs": [
    {
     "data": {
      "text/plain": [
       "array([[[ 8.,  4.,  6., ..., 12.,  9.,  3.],\n",
       "        [ 6.,  4.,  3., ...,  9., 12.,  5.],\n",
       "        [ 7., 12., 10., ...,  8.,  9., 11.],\n",
       "        ...,\n",
       "        [ 4.,  8.,  2., ...,  6.,  3., 10.],\n",
       "        [ 4., 12.,  8., ...,  6.,  1., 10.],\n",
       "        [ 1.,  8., 12., ..., 10.,  2.,  5.]],\n",
       "\n",
       "       [[ 7., 10.,  1., ...,  3.,  2.,  8.],\n",
       "        [ 1.,  7.,  9., ...,  4.,  6.,  2.],\n",
       "        [ 5.,  8., 12., ...,  9.,  4., 10.],\n",
       "        ...,\n",
       "        [11.,  2.,  4., ...,  7.,  1.,  3.],\n",
       "        [ 7.,  4., 11., ...,  8.,  9.,  2.],\n",
       "        [ 9.,  2.,  7., ..., 12., 10.,  8.]],\n",
       "\n",
       "       [[12.,  1., 11., ...,  3.,  4.,  8.],\n",
       "        [ 6.,  4., 12., ...,  9., 11.,  1.],\n",
       "        [ 7.,  9.,  3., ...,  2.,  1.,  8.],\n",
       "        ...,\n",
       "        [ 1.,  3., 11., ...,  5.,  2.,  7.],\n",
       "        [10.,  5.,  4., ...,  9.,  6.,  1.],\n",
       "        [ 7.,  1., 12., ...,  6., 11.,  4.]],\n",
       "\n",
       "       ...,\n",
       "\n",
       "       [[ 8.,  2.,  1., ..., 12., 11.,  9.],\n",
       "        [ 2.,  5.,  9., ..., 12.,  8., 11.],\n",
       "        [ 1.,  2.,  7., ...,  8.,  5., 11.],\n",
       "        ...,\n",
       "        [ 6., 11.,  3., ...,  2.,  9., 10.],\n",
       "        [11., 10.,  7., ...,  3.,  1.,  2.],\n",
       "        [ 5., 10.,  1., ...,  9.,  6.,  7.]],\n",
       "\n",
       "       [[12.,  1.,  7., ...,  4.,  9., 10.],\n",
       "        [ 6.,  9., 11., ...,  7., 10., 12.],\n",
       "        [ 1.,  8.,  4., ...,  9.,  6., 12.],\n",
       "        ...,\n",
       "        [10., 12.,  2., ..., 11.,  3.,  7.],\n",
       "        [12.,  5.,  6., ...,  4., 11.,  9.],\n",
       "        [ 7., 11., 12., ...,  1.,  4.,  9.]],\n",
       "\n",
       "       [[ 9.,  3., 10., ..., 11., 12.,  2.],\n",
       "        [ 9.,  4.,  5., ...,  2.,  1.,  3.],\n",
       "        [ 6.,  2.,  1., ...,  7.,  3.,  5.],\n",
       "        ...,\n",
       "        [ 3.,  2.,  8., ...,  6., 12.,  1.],\n",
       "        [10.,  7., 12., ...,  8.,  4.,  1.],\n",
       "        [11.,  1.,  2., ...,  3.,  8.,  5.]]])"
      ]
     },
     "execution_count": 45,
     "metadata": {},
     "output_type": "execute_result"
    }
   ],
   "source": [
    "test['code']"
   ]
  },
  {
   "cell_type": "code",
   "execution_count": 50,
   "metadata": {},
   "outputs": [
    {
     "data": {
      "text/plain": [
       "array([0.01674833, 0.02458237, 0.03127092, 0.43492505, 0.04534062,\n",
       "       0.13254842, 0.21557802, 0.00332186, 0.5406512 , 0.09613787,\n",
       "       0.01605796, 0.02446084], dtype=float32)"
      ]
     },
     "execution_count": 50,
     "metadata": {},
     "output_type": "execute_result"
    }
   ],
   "source": [
    "predictions_shape[0, 0]"
   ]
  },
  {
   "cell_type": "code",
   "execution_count": 48,
   "metadata": {},
   "outputs": [],
   "source": [
    "temp = np.argmax(predictions_shape, -1)"
   ]
  },
  {
   "cell_type": "code",
   "execution_count": 49,
   "metadata": {},
   "outputs": [
    {
     "data": {
      "text/plain": [
       "(100, 15)"
      ]
     },
     "execution_count": 49,
     "metadata": {},
     "output_type": "execute_result"
    }
   ],
   "source": [
    "temp.shape"
   ]
  },
  {
   "cell_type": "code",
   "execution_count": 51,
   "metadata": {},
   "outputs": [
    {
     "data": {
      "text/plain": [
       "8"
      ]
     },
     "execution_count": 51,
     "metadata": {},
     "output_type": "execute_result"
    }
   ],
   "source": [
    "temp[0,0]"
   ]
  },
  {
   "cell_type": "code",
   "execution_count": 53,
   "metadata": {},
   "outputs": [
    {
     "data": {
      "text/plain": [
       "(100, 15, 15, 12)"
      ]
     },
     "execution_count": 53,
     "metadata": {},
     "output_type": "execute_result"
    }
   ],
   "source": [
    "test['code'][temp].shape"
   ]
  },
  {
   "cell_type": "code",
   "execution_count": 54,
   "metadata": {},
   "outputs": [],
   "source": [
    "from src.data.extract_data import read_true_letters\n",
    "answer = read_true_letters(DATA_DIR+\"A_test_labels.txt\")"
   ]
  },
  {
   "cell_type": "code",
   "execution_count": null,
   "metadata": {},
   "outputs": [],
   "source": [
    "from src.data.paradigm import PARADIGM\n",
    "model_PAMI_scores = testing_pipeline(test['signal'],test['code'],model,\"all\",PARADIGM,\n",
    "                                    answer)"
   ]
  },
  {
   "cell_type": "code",
   "execution_count": null,
   "metadata": {},
   "outputs": [],
   "source": []
  }
 ],
 "metadata": {
  "kernelspec": {
   "display_name": "Python [default]",
   "language": "python",
   "name": "python3"
  },
  "language_info": {
   "codemirror_mode": {
    "name": "ipython",
    "version": 3
   },
   "file_extension": ".py",
   "mimetype": "text/x-python",
   "name": "python",
   "nbconvert_exporter": "python",
   "pygments_lexer": "ipython3",
   "version": "3.5.2"
  }
 },
 "nbformat": 4,
 "nbformat_minor": 2
}
